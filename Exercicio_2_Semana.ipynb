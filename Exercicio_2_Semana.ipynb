{
  "nbformat": 4,
  "nbformat_minor": 0,
  "metadata": {
    "colab": {
      "provenance": [],
      "authorship_tag": "ABX9TyPxe7XhWawFvcGi/hBG/xB+",
      "include_colab_link": true
    },
    "kernelspec": {
      "name": "python3",
      "display_name": "Python 3"
    },
    "language_info": {
      "name": "python"
    }
  },
  "cells": [
    {
      "cell_type": "markdown",
      "metadata": {
        "id": "view-in-github",
        "colab_type": "text"
      },
      "source": [
        "<a href=\"https://colab.research.google.com/github/Eudesjs/SoulCode_AD6_Analista_Dados/blob/main/Exercicio_2_Semana.ipynb\" target=\"_parent\"><img src=\"https://colab.research.google.com/assets/colab-badge.svg\" alt=\"Open In Colab\"/></a>"
      ]
    },
    {
      "cell_type": "code",
      "execution_count": null,
      "metadata": {
        "colab": {
          "base_uri": "https://localhost:8080/"
        },
        "id": "DiNmY7hK7RRi",
        "outputId": "d992d6ea-de97-4bd6-a8c2-4c7e58ffe85d"
      },
      "outputs": [
        {
          "output_type": "stream",
          "name": "stdout",
          "text": [
            "Informe as Notas de 0 a 10 separadas por espaço; 3 2 1\n",
            "2.0\n",
            "Infelizmente voçê nao foi Aprovado\n"
          ]
        }
      ],
      "source": [
        "'''\n",
        "Crie um programa que receba do usuário n notas (1 ou mais notas), calcule a\n",
        "média aritmética delase caso a média seja maior ou igual a 6 exiba a mensagem\n",
        "Parabéns, você foi aprovado, caso a média seja menor que 6 mas maior ou igual a\n",
        "4 exiba a mensagemvocê está em recuperação, caso a média seja menor que 4 exiba\n",
        "a mensagem  Infelizmente você não foi aprovado e caso a média seja igual a\n",
        "10 exiba a mensagem Parabéns você foi aprovado com nota máxima.\n",
        " Obd.: as n notas digitadas pelo usuário deverão ser informadas em um único input\n",
        " separadas por espaços.\n",
        "'''\n",
        "\n",
        "notas = (input(\"Informe as Notas de 0 a 10 separadas por espaço; \"))\n",
        "notas = notas.split()\n",
        "for i, v in enumerate(notas):\n",
        "  notas[i] = float(v)\n",
        "media = sum(notas)/len(notas)\n",
        "print(media)\n",
        "\n",
        "if media == 10:\n",
        "  print('Parabens! Voçê foi Aprovado com nota Maxima!')\n",
        "else:\n",
        "  if media >= 6:\n",
        "    print('Parabens! Voçê foi Aprovado!')\n",
        "  elif media >= 4:\n",
        "    print('Voçê ficou em Recupação')\n",
        "  else:\n",
        "    print('Infelizmente voçê nao foi Aprovado')\n",
        "\n",
        "\n",
        "\n"
      ]
    },
    {
      "cell_type": "code",
      "source": [
        "def calcular_media(notas):\n",
        "    total = sum(notas)\n",
        "    return total / len(notas)\n",
        "\n",
        "def verificar_aprovacao(media):\n",
        "    if media == 10:\n",
        "        print(\"Parabéns você foi aprovado com nota máxima.\")\n",
        "    elif media >= 6:\n",
        "        print(\"Parabéns, você foi aprovado.\")\n",
        "    elif media >= 4:\n",
        "        print(\"Você está em recuperação.\")\n",
        "    else:\n",
        "        print(\"Infelizmente você não foi aprovado.\")\n",
        "\n",
        "notas = input(\"Digite as notas separadas por espaços: \").split()\n",
        "notas = [float(nota) for nota in notas]\n",
        "\n",
        "media = calcular_media(notas)\n",
        "verificar_aprovacao(media)\n"
      ],
      "metadata": {
        "colab": {
          "base_uri": "https://localhost:8080/"
        },
        "id": "zody1YUpJk2a",
        "outputId": "c2c0ae1a-d5a6-45bb-a23c-1c497a6a1915"
      },
      "execution_count": null,
      "outputs": [
        {
          "output_type": "stream",
          "name": "stdout",
          "text": [
            "Digite as notas separadas por espaços: 10 8 3\n",
            "Parabéns, você foi aprovado.\n"
          ]
        }
      ]
    },
    {
      "cell_type": "code",
      "source": [
        "'''\n",
        "Crie uma entrada de dados numéricos (notas de 0 a 10) em um único input onde os\n",
        "valores são informados e separados por espaços, e armazene isso tudo\n",
        "em uma variável chamada nota, a seguir verifique qual tipo de dados\n",
        "está armazenado nessa variável.\n",
        "'''\n",
        "nota = input('Informe as notas de 0 a 10 separadas por espaços: ')\n",
        "print(type(nota))\n",
        "\n",
        "'''\n",
        "Agora separa os valores armazenadas em nota utilizando os espaços como\n",
        "separadores e armazene tudo em um objeto chamado notas.\n",
        "'''\n",
        "notas = nota.split()\n",
        "\n",
        "\n",
        "'''\n",
        "Agora converta cada valor do objeto em numero do tipo float e as sequencia\n",
        "exiba o objeto notas e a soma de todos os valores desta.\n",
        "'''\n",
        "for i in range(len(notas)):\n",
        "  notas[i] = float(notas[i])\n",
        "print(sum(notas))\n",
        "\n",
        "# Alternative usando o enumerate\n",
        "\n",
        "for i, v in enumerate(notas):\n",
        "  notas[i] = float(v)\n",
        "print(sum(notas))\n",
        "\n",
        "'''\n",
        "Agora elabore um codigo que a partir dos valores da lista notas calcule a\n",
        "media aritmetica e exiba o valor dessa media.\n",
        "'''\n",
        "media = sum(notas)/len(notas)\n",
        "print(media)\n"
      ],
      "metadata": {
        "colab": {
          "base_uri": "https://localhost:8080/"
        },
        "id": "jMa0U5GleXL1",
        "outputId": "c8f96913-5fda-4704-bcad-b736c2d0088e"
      },
      "execution_count": null,
      "outputs": [
        {
          "output_type": "stream",
          "name": "stdout",
          "text": [
            "Informe as notas de 0 a 10 separadas por espaços: 10 8 3\n",
            "<class 'str'>\n",
            "21.0\n",
            "21.0\n",
            "7.0\n"
          ]
        }
      ]
    },
    {
      "cell_type": "code",
      "source": [
        "'''\n",
        "Considere o código: dados = [10, 20, 30, 40, 50].\n",
        "A resposta para print(dados) após a expressão dados[1] = 5 é:\n",
        "'''\n",
        "dados = [10, 20, 30, 40, 50]\n",
        "dados[1] = 5\n",
        "print(dados)\n"
      ],
      "metadata": {
        "colab": {
          "base_uri": "https://localhost:8080/"
        },
        "id": "r0z8A_y_G15R",
        "outputId": "bac4b4a9-aae4-4caa-c902-2ede149d6235"
      },
      "execution_count": null,
      "outputs": [
        {
          "output_type": "stream",
          "name": "stdout",
          "text": [
            "[10, 5, 30, 40, 50]\n"
          ]
        }
      ]
    },
    {
      "cell_type": "code",
      "source": [
        "'''\n",
        "Considere o código: dados = [10, 20, 30, 40, 50].\n",
        "A resposta para print(dados) após a expressão dados.insert(1,15) é:\n",
        "'''\n",
        "dados = [10, 20, 30, 40, 50]\n",
        "dados.insert(1,15)\n",
        "print(dados)"
      ],
      "metadata": {
        "colab": {
          "base_uri": "https://localhost:8080/"
        },
        "id": "qd_Tj52YHtzv",
        "outputId": "39513d87-ebbb-46c8-89f4-1d7da1faa6a7"
      },
      "execution_count": null,
      "outputs": [
        {
          "output_type": "stream",
          "name": "stdout",
          "text": [
            "[10, 15, 20, 30, 40, 50]\n"
          ]
        }
      ]
    },
    {
      "cell_type": "code",
      "source": [
        "'''\n",
        "Considere o código: dados = [10, 20, 30, 40, 50].\n",
        "A resposta para a expressão dados[-1] é:\n",
        "'''\n",
        "dados = [10, 20, 30, 40, 50]\n",
        "dados[-1]\n"
      ],
      "metadata": {
        "colab": {
          "base_uri": "https://localhost:8080/"
        },
        "id": "if9CH7ZpIOOi",
        "outputId": "107c2ee5-2fcf-4fff-fcb0-17fc300803b0"
      },
      "execution_count": null,
      "outputs": [
        {
          "output_type": "execute_result",
          "data": {
            "text/plain": [
              "50"
            ]
          },
          "metadata": {},
          "execution_count": 6
        }
      ]
    },
    {
      "cell_type": "code",
      "source": [
        "'''\n",
        "Considere o código: dados = [10, 20, 30, 40, 50].\n",
        "A resposta para a expressão dados[1] é:\n",
        "'''\n",
        "dados = [10, 20, 30, 40, 50]\n",
        "dados[1]"
      ],
      "metadata": {
        "colab": {
          "base_uri": "https://localhost:8080/"
        },
        "id": "d829NEh7K7qk",
        "outputId": "7c7a7bfb-6f6a-41c6-8e81-4c8dd3088a2d"
      },
      "execution_count": null,
      "outputs": [
        {
          "output_type": "execute_result",
          "data": {
            "text/plain": [
              "20"
            ]
          },
          "metadata": {},
          "execution_count": 7
        }
      ]
    },
    {
      "cell_type": "code",
      "source": [
        "'''\n",
        "Considere o código: dados = [10, 20, 30, 40, 50].\n",
        "A resposta para a expressão dados[1:3] é:\n",
        "'''\n",
        "dados = [10, 20, 30, 40, 50]\n",
        "dados[1:3]"
      ],
      "metadata": {
        "colab": {
          "base_uri": "https://localhost:8080/"
        },
        "id": "a-7KlwQ3LP5o",
        "outputId": "e4a2ea60-b029-4b33-b449-eb0f992d0e4c"
      },
      "execution_count": null,
      "outputs": [
        {
          "output_type": "execute_result",
          "data": {
            "text/plain": [
              "[20, 30]"
            ]
          },
          "metadata": {},
          "execution_count": 8
        }
      ]
    },
    {
      "cell_type": "code",
      "source": [
        "'''\n",
        "Considere o código: dados = [10, 20, 30, 40, 50].\n",
        "A resposta para a expressão dados.index(20) é:\n",
        "'''\n",
        "dados = [10, 20, 30, 40, 50]\n",
        "dados.index(20)\n"
      ],
      "metadata": {
        "colab": {
          "base_uri": "https://localhost:8080/"
        },
        "id": "Wm-qhHALLtew",
        "outputId": "1bf089d7-ac2c-4f8c-8a75-a512c30d467b"
      },
      "execution_count": null,
      "outputs": [
        {
          "output_type": "execute_result",
          "data": {
            "text/plain": [
              "1"
            ]
          },
          "metadata": {},
          "execution_count": 10
        }
      ]
    },
    {
      "cell_type": "code",
      "source": [
        "'''\n",
        "FUNÇAO RANGE\n",
        "Range e uma funcao integrada que retorna um objeto do tipo range.\n",
        "esse objeto representa uma sequencia de numeros em um determinado\n",
        "A SINTAXE DA FUNCAO:\n",
        "  RANGE(START, STOP, STEP)\n",
        "'''\n",
        "for num in range(10):\n",
        "  print (num, end=\" \")\n",
        " # Imprimir de forma ordinal (incluir no inicio e exclui no final)"
      ],
      "metadata": {
        "colab": {
          "base_uri": "https://localhost:8080/"
        },
        "id": "cTagvdJTH4AZ",
        "outputId": "217fba69-56ea-4d5f-83eb-f2be7fd6a442"
      },
      "execution_count": 9,
      "outputs": [
        {
          "output_type": "stream",
          "name": "stdout",
          "text": [
            "0 1 2 3 4 5 6 7 8 9 "
          ]
        }
      ]
    },
    {
      "cell_type": "code",
      "source": [
        "for i in range(4):\n",
        "  print('Hello!', end=' ')"
      ],
      "metadata": {
        "colab": {
          "base_uri": "https://localhost:8080/"
        },
        "id": "vHFUSrJULmrX",
        "outputId": "99b30bed-4bde-4595-ba43-c1863b332353"
      },
      "execution_count": 13,
      "outputs": [
        {
          "output_type": "stream",
          "name": "stdout",
          "text": [
            "Hello! Hello! Hello! Hello! "
          ]
        }
      ]
    },
    {
      "cell_type": "code",
      "source": [
        "while True:\n",
        "  resposta = input('Digite \"Sair\" para encerrar o loop: ')\n",
        "\n",
        "  if resposta == \"Sair\":\n",
        "    break\n",
        "  print(\"Voce Digitou: \", resposta)\n",
        "print(\"Loop Encerrado! \")"
      ],
      "metadata": {
        "colab": {
          "base_uri": "https://localhost:8080/"
        },
        "id": "hGMN8PRkNQVJ",
        "outputId": "c12c4063-f0da-4967-a85b-6b1d1d891e15"
      },
      "execution_count": 5,
      "outputs": [
        {
          "output_type": "stream",
          "name": "stdout",
          "text": [
            "Digite \"Sair\" para encerrar o loop: Sair\n",
            "Loop Encerrado! \n"
          ]
        }
      ]
    },
    {
      "cell_type": "code",
      "source": [
        "# Solucao 1\n",
        "n = int(input('Informe quantas vezes voce deseja ver o mensagem Ola Mundo: '))\n",
        "c = 0\n",
        "\n",
        "while c < n:\n",
        "  print('Ola Mundo!')\n",
        "  c += 1"
      ],
      "metadata": {
        "colab": {
          "base_uri": "https://localhost:8080/"
        },
        "id": "OMiw1vWNPI0L",
        "outputId": "1195555c-706f-4358-f48c-bed265b2b5c2"
      },
      "execution_count": 6,
      "outputs": [
        {
          "output_type": "stream",
          "name": "stdout",
          "text": [
            "Informe quantas vezes voce deseja ver o mensagem Ola Mundo: 4\n",
            "Ola Mundo!\n",
            "Ola Mundo!\n",
            "Ola Mundo!\n",
            "Ola Mundo!\n"
          ]
        }
      ]
    },
    {
      "cell_type": "code",
      "source": [
        "# Solucao 2 usando while True\n",
        "n = int(input('Informe quantas vezes voce deseja ver a mensagem Ola Mundo! '))\n",
        "c = 0\n",
        "\n",
        "while True:\n",
        "  if c < n:\n",
        "    print('Ola Mundo!')\n",
        "    c += 1\n",
        "  else:\n",
        "    break\n",
        "print('Voce alcançou o Limite!')\n",
        "'''\n",
        "O While True é uma estrutura mais flexivel que o While pois nao traz a\n",
        "condição na propria linha de declaração While, permitindo assim, que\n",
        "voce faça varias outras condições aninhadas logo abaixo da declaração\n",
        "While True.\n",
        "'''"
      ],
      "metadata": {
        "colab": {
          "base_uri": "https://localhost:8080/"
        },
        "id": "nY6tDLPYRvlw",
        "outputId": "878304e8-8980-4061-9095-1243bbdde669"
      },
      "execution_count": 11,
      "outputs": [
        {
          "output_type": "stream",
          "name": "stdout",
          "text": [
            "Informe quantas vezes voce deseja ver a mensagem Ola Mundo! 3\n",
            "Ola Mundo!\n",
            "Ola Mundo!\n",
            "Ola Mundo!\n",
            "Voce alcançou o Limite!\n"
          ]
        }
      ]
    },
    {
      "cell_type": "code",
      "source": [
        "# EXERCICIO\n",
        "'''\n",
        "Elabore um programa que receba um numero inteiro do usuario e verifique se o\n",
        "numero informado é par ou impar, se for par imprima uma mensagem dizendo que\n",
        "o numero é par e encerre o loop, caso seja impar exiba uma mensagem informando\n",
        "que o numero nao é paz e peça para o usuario digitar outro numero, ate que o\n",
        "numero digitando pelo usuario seja par\n",
        "'''\n",
        "while True:\n",
        "  try:\n",
        "    numero = int(input(\"Digite um Numero Inteiro: \"))\n",
        "    if numero % 2 == 0:\n",
        "      print(\"O numero é Par.\")\n",
        "      break\n",
        "\n",
        "    if numero % 2 != 0:\n",
        "      print(\"O numero nao é Par.\")\n",
        "\n",
        "  except ValueError:\n",
        "      print(\"ERRO! Digite um Numero Valido.\")\n",
        "#\n",
        "\n",
        "\n"
      ],
      "metadata": {
        "colab": {
          "base_uri": "https://localhost:8080/"
        },
        "id": "2LApsIgcpDla",
        "outputId": "28b9faad-d1b0-46ef-833e-261fb24bdcc5"
      },
      "execution_count": 24,
      "outputs": [
        {
          "output_type": "stream",
          "name": "stdout",
          "text": [
            "Digite um Numero Inteiro: 1\n",
            "O numero nao é Par.\n",
            "Digite um Numero Inteiro: eudes\n",
            "ERRO! Digite um Numero Valido.\n",
            "Digite um Numero Inteiro: 4\n",
            "O numero é Par.\n"
          ]
        }
      ]
    },
    {
      "cell_type": "code",
      "source": [
        "# TRATAMENTO DE ERROS (TRY, EXCEPT)\n",
        "'''\n",
        "Elabore um programa que receba do usuario qualquer e exiba a mensagem\n",
        "Parabens voce digitou um Numero!\n",
        "'''\n",
        "while True:\n",
        "  try:\n",
        "    n = float(input('Informe um numero Qualquer: '))\n",
        "    print(' Parabens Voce digitou um Numero! ')\n",
        "    break\n",
        "  except:\n",
        "    print('O Valor Informado Nao e um Numero')"
      ],
      "metadata": {
        "colab": {
          "base_uri": "https://localhost:8080/"
        },
        "id": "U4INS0jF7SM_",
        "outputId": "0cdd8496-7d30-4d77-8d0b-02a7043ee73c"
      },
      "execution_count": 26,
      "outputs": [
        {
          "output_type": "stream",
          "name": "stdout",
          "text": [
            "Informe um numero Qualquer: eudes\n",
            "O Valor Informado Nao e um Numero\n",
            "Informe um numero Qualquer: 2\n",
            " Parabens Voce digitou um Numero! \n"
          ]
        }
      ]
    },
    {
      "cell_type": "code",
      "source": [
        "'''\n",
        "Imagine que voce tem uma lista com seis nomes de pessoa\n",
        "e outra com seis idades suponha que a posição de cada nome\n",
        "em sua lista corresponde a mesma posição da sua idade na\n",
        "lista idade. elabora um codigo que percorra as duas listas,\n",
        "verifique se a pessoa é maior ou menor de idade e exiba uma\n",
        "mensagem com cada nome, sua idade e um texto informando se essa\n",
        "e maior ou menor de idade.\n",
        "'''\n",
        "nomes = ['Eudes', 'Michele', 'Diego', 'Luna', 'Leda', 'Isnar']\n",
        "idades = [41, 39, 37, 13, 63, 68]\n",
        "\n",
        "for nomes, idades in zip(nomes,idades):\n",
        "    if idades >= 18:\n",
        "      print(f\"{nomes} tem {idades} anos e é maior de Idade.\")\n",
        "\n",
        "    else:\n",
        "      print(f\"{nomes} tem {idades} anos e é menor de Idade.\")\n",
        ""
      ],
      "metadata": {
        "colab": {
          "base_uri": "https://localhost:8080/"
        },
        "id": "uwEsLW1r7QPQ",
        "outputId": "1791f65f-7f9d-4e9b-da39-cccb9f75e691"
      },
      "execution_count": 36,
      "outputs": [
        {
          "output_type": "stream",
          "name": "stdout",
          "text": [
            "Eudes tem 41 anos e é maior de Idade.\n",
            "Michele tem 39 anos e é maior de Idade.\n",
            "Diego tem 37 anos e é maior de Idade.\n",
            "Luna tem 13 anos e é menor de Idade.\n",
            "Leda tem 63 anos e é maior de Idade.\n",
            "Isnar tem 68 anos e é maior de Idade.\n"
          ]
        }
      ]
    },
    {
      "cell_type": "code",
      "source": [
        "'''\n",
        "Imagine que voce tem uma lista com seis nomes de pessoa\n",
        "e outra com seis idades suponha que a posição de cada nome\n",
        "em sua lista corresponde a mesma posição da sua idade na\n",
        "lista idade. elabora um codigo que percorra as duas listas,\n",
        "verifique se a pessoa é maior ou menor de idade e exiba uma\n",
        "mensagem com cada nome, sua idade e um texto informando se essa\n",
        "e maior ou menor de idade.\n",
        "'''\n",
        "\n",
        "nomes = ['Eudes', 'Michele', 'Diego', 'Luna', 'Leda', 'Isnar']\n",
        "idades = [41, 39, 37, 13, 63, 68]\n",
        "\n",
        "for i in range(len(nomes)):\n",
        "  if idades[i] >= 18:\n",
        "    print('*'*50)\n",
        "    print(f'{nomes[i]} tem {idades[i]} anos e é maior Idade')\n",
        "    print('*'*50)\n",
        "  else:\n",
        "    print('*'*50)\n",
        "    print(f'{nomes[i]} tem {idades[i]} anos e é menor de Idades')"
      ],
      "metadata": {
        "colab": {
          "base_uri": "https://localhost:8080/"
        },
        "id": "Fcs2xzjG7C2E",
        "outputId": "dd4d921b-c926-42f6-bb84-3e789e78a0d7"
      },
      "execution_count": 43,
      "outputs": [
        {
          "output_type": "stream",
          "name": "stdout",
          "text": [
            "**************************************************\n",
            "Eudes tem 41 anos e é maior Idade\n",
            "**************************************************\n",
            "**************************************************\n",
            "Michele tem 39 anos e é maior Idade\n",
            "**************************************************\n",
            "**************************************************\n",
            "Diego tem 37 anos e é maior Idade\n",
            "**************************************************\n",
            "**************************************************\n",
            "Luna tem 13 anos e é menor de Idades\n",
            "**************************************************\n",
            "Leda tem 63 anos e é maior Idade\n",
            "**************************************************\n",
            "**************************************************\n",
            "Isnar tem 68 anos e é maior Idade\n",
            "**************************************************\n"
          ]
        }
      ]
    },
    {
      "cell_type": "code",
      "source": [
        "'''\n",
        "\n",
        "'''\n",
        "while True:\n",
        "  try:\n",
        "    valor = float(input('Informe o Valor do Produto em R$. '))\n",
        "    break\n",
        "  except:\n",
        "    print('Valor Invalido!')\n",
        "\n",
        "origem = input('O Produto é Nacional? 1 para Sim ou 2 Para Nao: ')\n",
        "\n",
        "if origem == '1':\n",
        "  if valor <= 200:\n",
        "    imposto = valor * 0.18\n",
        "  else:\n",
        "    imposto = valor * 0.18\n",
        "else:\n",
        "  if valor > 200:\n",
        "    imposto = valor * 0.35\n",
        "  else:\n",
        "    imposto = 0\n",
        "\n",
        "print(f'O valor do imposto é de R$ {imposto:.2f}')"
      ],
      "metadata": {
        "colab": {
          "base_uri": "https://localhost:8080/"
        },
        "id": "q1hnsx7dGduF",
        "outputId": "17151f4f-5110-400c-b3fe-955257f417a0"
      },
      "execution_count": 58,
      "outputs": [
        {
          "output_type": "stream",
          "name": "stdout",
          "text": [
            "Informe o Valor do Produto em R$. a\n",
            "Valor Invalido!\n",
            "Informe o Valor do Produto em R$. 4\n",
            "O Produto é Nacional? 1 para Sim ou 2 Para Nao: 1\n",
            "O valor do imposto é de R$ 0.72\n"
          ]
        }
      ]
    }
  ]
}