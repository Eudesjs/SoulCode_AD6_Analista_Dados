{
  "nbformat": 4,
  "nbformat_minor": 0,
  "metadata": {
    "colab": {
      "provenance": [],
      "collapsed_sections": [
        "N4yykEnRwpjE",
        "eJWlRXpkwn_E",
        "owbqbLcwzEsE",
        "OZYLxvaL6QMq",
        "fJeh5qfd_5QS",
        "pd11WFzrF1_k",
        "JK03JEKkKsuk",
        "D_sq_R_yNlKh"
      ],
      "include_colab_link": true
    },
    "kernelspec": {
      "name": "python3",
      "display_name": "Python 3"
    },
    "language_info": {
      "name": "python"
    }
  },
  "cells": [
    {
      "cell_type": "markdown",
      "metadata": {
        "id": "view-in-github",
        "colab_type": "text"
      },
      "source": [
        "<a href=\"https://colab.research.google.com/github/Eudesjs/SoulCode_AD6_Analista_Dados/blob/main/C%C3%B3pia_de_AD6_Apostila_Fundamentos_de_Python.ipynb\" target=\"_parent\"><img src=\"https://colab.research.google.com/assets/colab-badge.svg\" alt=\"Open In Colab\"/></a>"
      ]
    },
    {
      "cell_type": "markdown",
      "source": [
        "# **1 - Variáveis e tipos de dados em Python**"
      ],
      "metadata": {
        "id": "QEgob3nUtMz3"
      }
    },
    {
      "cell_type": "markdown",
      "source": [
        "## 1.1 - Variáveis\n",
        "\n",
        "\n",
        "\n"
      ],
      "metadata": {
        "id": "N4yykEnRwpjE"
      }
    },
    {
      "cell_type": "code",
      "execution_count": 4,
      "metadata": {
        "colab": {
          "base_uri": "https://localhost:8080/"
        },
        "id": "M5JD3IgVrRRO",
        "outputId": "eec7ea91-9235-4e76-aa08-4d8eda6c6eb2"
      },
      "outputs": [
        {
          "output_type": "stream",
          "name": "stdout",
          "text": [
            "Eudes\n",
            "<class 'str'>\n",
            "48\n",
            "<class 'int'>\n",
            "1.85\n",
            "<class 'float'>\n"
          ]
        }
      ],
      "source": [
        "'''\n",
        "Uma variável em Python é um nome que se refere a um valor armazenado na memória.Elas são usadas para\n",
        "armazenar dados para serem usados posteriormente no programa. As variáveis em Python não precisam ser\n",
        "declaradas com um tipo específico, pois o interpretador Python determina automaticamente o tipo com\n",
        "base no valor atribuído.\n",
        "As variáveis podem ser reatribuídas com diferentes valores durante a execução do programa. As variáveis\n",
        "são fundamentais em programação, pois permitem armazenar e manipular dados. Em Python, as variáveis são\n",
        "utilizadas em conjunto com diferentes tipos de dados básicos, tais como numéricos e cadeias de caracteres.\n",
        "Há diversos tipos de dados em Python, incluindo:\n",
        "1 - Numéricos, que podem ser inteiros (int).\n",
        "2 - Strings, representadas pelo tipo (str).\n",
        "3 - Lista e Tuplas, referentes aos tipos (list) e t/(Tuple).\n",
        "4 - Dicionários, identificados pelo tipo (dict).\n",
        "5 - Arquivos, representados pelo tipo (file).\n",
        "A tipagem dinâmica em Python permite que as variáveis estejam associadas a diferentes tipos de dados\n",
        "em momentos distintos de execução. É essencial compreender o conceito de variáveis e tipos de dados\n",
        "em Python, já que são elementos fundamentais para a construção de programas nessa linguagem.\n",
        "Por fim, a utilização adequada de variáveis e tipos de dados em Python é crucial, principalmente em\n",
        "tarefas relacionadas à análise de dados, inteligência artificial e machine learning.\n",
        "'''\n",
        "'''\n",
        "Em Python, variáveis são utilizadas para armazenar valores na memória do computador. Para criar uma\n",
        "variável, você precisa usar um nome e um valor. O nome da variável deve seguir as regras de nomenclatura\n",
        "do Python:\n",
        "Deve começar com uma letra ou sublinhado (_).\n",
        "Pode conter letras, números e sublinhados.\n",
        "Não pode ser uma palavra-chave reservada do Python.\n",
        "Para atribuir um valor a uma variável, utilize o operador de atribuição (=).\n",
        "Exemplo:\n",
        "'''\n",
        "nome = 'Eudes' # Tipo String (str)\n",
        "print(nome)\n",
        "print(type(nome))\n",
        "idade = 48  # Tipo Inteiro (int)\n",
        "print(idade)\n",
        "print(type(idade))\n",
        "altura = 1.85 # Tipo Float (Float)\n",
        "print(altura)\n",
        "print(type(altura))"
      ]
    },
    {
      "cell_type": "markdown",
      "source": [
        "## 1.2 - Tipos de dados\n"
      ],
      "metadata": {
        "id": "eJWlRXpkwn_E"
      }
    },
    {
      "cell_type": "code",
      "source": [
        "'''\n",
        "Em Python, existem quatro tipos de dados primitivos comuns, que são os seguintes:\n",
        "1. **Inteiro (Integer)**: Representa números inteiros, podendo ser positivos ou negativos sem parte\n",
        "decimal.\n",
        "2. **Ponto Flutuante (Float)**: Utilizado para números decimais, incluindo números fracionários e\n",
        "exponentes, como 2.5, -0.3, ou 1.5e-10.\n",
        "3.**Booleano (Boolean)**: Representa valores lógicos de verdadeiro (True) ou falso (False).\n",
        "4.**String**: Utilizada para armazenar sequências de caracteres, como palavras, frases e números escritos\n",
        "como texto.\n",
        "Adicionalmente, além dos tipos de dados primitivos comuns, Python também oferece suporte a números\n",
        "complexos, ampliando as possibilidades de cálculos matemáticos mais avançados é essencial compreender\n",
        "esses tipos de dados, pois são a base para a manipulação e processamento de informações em Python, abrindo caminho para uma ampla variedade\n",
        "de aplicações que requerem diferentes tipos de dados e operações específicas\n",
        "'''\n",
        "'''\n",
        "Tipos de Dados:\n",
        "Cada variável em Python possui um tipo de dado, que define o tipo de valor que ela pode armazenar.\n",
        "Os tipos de dados mais comuns em Python são:\n",
        "Inteiro (int): Números inteiros, como 1, 2, 3, etc.\n",
        "Ponto flutuante (float): Números com casas decimais, como 1.5, 2.75, 3.14, etc.\n",
        "String (str): Textos, como \"Olá, mundo!\", \"Python é legal\", etc.\n",
        "Booleano (bool): Valores True ou False.\n",
        "Conversão de Tipos:\n",
        "É possível converter um tipo de dado para outro usando funções específicas.\n",
        "Exemplo:\n",
        "'''\n",
        "nome = 'Eudes' # str\n",
        "print(type(nome))\n",
        "numero_inteiro = 10 # int\n",
        "print(type(numero_inteiro))\n",
        "numero_float = float(numero_inteiro)  # Converte um inteiro para um float\n",
        "print(type(numero_float))"
      ],
      "metadata": {
        "colab": {
          "base_uri": "https://localhost:8080/"
        },
        "id": "FucRWQAOwlwk",
        "outputId": "de6c952e-498b-45d8-debb-407eef88c0ea"
      },
      "execution_count": 5,
      "outputs": [
        {
          "output_type": "stream",
          "name": "stdout",
          "text": [
            "<class 'str'>\n",
            "<class 'int'>\n",
            "<class 'float'>\n"
          ]
        }
      ]
    },
    {
      "cell_type": "markdown",
      "source": [
        "# 2 - Operadores Python"
      ],
      "metadata": {
        "id": "n2h-kR0TzAky"
      }
    },
    {
      "cell_type": "markdown",
      "source": [
        "## 2.1 - Operadores Matemáticos"
      ],
      "metadata": {
        "id": "owbqbLcwzEsE"
      }
    },
    {
      "cell_type": "code",
      "source": [
        "'''\n",
        "Operadores matemáticos são símbolos ou funções que são utilizados em expressões matemáticas para realizar\n",
        "operações como adição, subtração, multiplicação, divisão, potenciação, entre outras. Eles são fundamentais\n",
        "para resolver problemas matemáticos e realizar cálculos. Exemplos de operadores matemáticos são o sinal de\n",
        "mais (+), o sinal de menos (-), o asterisco (*) para multiplicação e a barra (/) para divisão.\n",
        "e Exponenciação (**)\n",
        "'''\n",
        "'''\n",
        "Os operadores aritméticos em Python permitem realizar operações matemáticas básicas, como adição,\n",
        "subtração, multiplicação, divisão e exponenciação. São ferramentas essenciais para qualquer programador\n",
        "Python, desde iniciantes até experientes.\n",
        "'''"
      ],
      "metadata": {
        "id": "2XjavkXIzJoc"
      },
      "execution_count": null,
      "outputs": []
    },
    {
      "cell_type": "code",
      "source": [
        "# Soma (+)\n",
        "soma = 5 + 2\n",
        "print(soma)"
      ],
      "metadata": {
        "colab": {
          "base_uri": "https://localhost:8080/"
        },
        "id": "Ci4e2lRyzTSh",
        "outputId": "c2712f0a-b4cb-4a2d-d42a-1a280ccb7799"
      },
      "execution_count": null,
      "outputs": [
        {
          "output_type": "stream",
          "name": "stdout",
          "text": [
            "7\n"
          ]
        }
      ]
    },
    {
      "cell_type": "code",
      "source": [
        "# Subtração (-)\n",
        "menos = 5 - 2\n",
        "print(menos)"
      ],
      "metadata": {
        "colab": {
          "base_uri": "https://localhost:8080/"
        },
        "id": "8kbpYX7u0F2B",
        "outputId": "93ef91f7-4faa-4412-ad92-9193a2e5de42"
      },
      "execution_count": null,
      "outputs": [
        {
          "output_type": "stream",
          "name": "stdout",
          "text": [
            "3\n"
          ]
        }
      ]
    },
    {
      "cell_type": "code",
      "source": [
        "# Multiplicação (*)\n",
        "vezes = 5 * 2\n",
        "print(vezes)"
      ],
      "metadata": {
        "colab": {
          "base_uri": "https://localhost:8080/"
        },
        "id": "vrlA42V60PYx",
        "outputId": "c69c3843-9e81-455a-8f9c-82715f2cb76f"
      },
      "execution_count": null,
      "outputs": [
        {
          "output_type": "stream",
          "name": "stdout",
          "text": [
            "10\n"
          ]
        }
      ]
    },
    {
      "cell_type": "code",
      "source": [
        "# Divisão (/)\n",
        "dividir = 5 / 2\n",
        "print(dividir)"
      ],
      "metadata": {
        "colab": {
          "base_uri": "https://localhost:8080/"
        },
        "id": "0khcyddJ1_ld",
        "outputId": "188d9486-0da7-4772-fff0-7b15b3c0bd10"
      },
      "execution_count": null,
      "outputs": [
        {
          "output_type": "stream",
          "name": "stdout",
          "text": [
            "2.5\n"
          ]
        }
      ]
    },
    {
      "cell_type": "code",
      "source": [
        "# Parte Inteira da divisão (//)\n",
        "inteiro = 5 // 2\n",
        "print(inteiro)"
      ],
      "metadata": {
        "colab": {
          "base_uri": "https://localhost:8080/"
        },
        "id": "1jYy3XxC2Kl-",
        "outputId": "3f471e59-aaf1-4fc3-b3cf-5f91ee3b42cb"
      },
      "execution_count": null,
      "outputs": [
        {
          "output_type": "stream",
          "name": "stdout",
          "text": [
            "2\n"
          ]
        }
      ]
    },
    {
      "cell_type": "code",
      "source": [
        "# Resto da divisão (%)\n",
        "resto = 5 % 2\n",
        "print(resto)"
      ],
      "metadata": {
        "colab": {
          "base_uri": "https://localhost:8080/"
        },
        "id": "Gwj6h1lQ2Yu7",
        "outputId": "00100339-216a-46d0-da52-02dea0a03dfd"
      },
      "execution_count": null,
      "outputs": [
        {
          "output_type": "stream",
          "name": "stdout",
          "text": [
            "1\n"
          ]
        }
      ]
    },
    {
      "cell_type": "code",
      "source": [
        "# Exponenciação (**)\n",
        "elevado = 5 ** 2\n",
        "print(elevado)"
      ],
      "metadata": {
        "colab": {
          "base_uri": "https://localhost:8080/"
        },
        "id": "R7nz0ZIz2oSd",
        "outputId": "48f80c44-1e0b-4f7d-959d-d3042ec02ccc"
      },
      "execution_count": null,
      "outputs": [
        {
          "output_type": "stream",
          "name": "stdout",
          "text": [
            "25\n"
          ]
        }
      ]
    },
    {
      "cell_type": "markdown",
      "source": [
        "## 2.2 - Operadores de Comparação"
      ],
      "metadata": {
        "id": "OZYLxvaL6QMq"
      }
    },
    {
      "cell_type": "code",
      "source": [
        "'''\n",
        "Operadores de comparação são símbolos utilizados em programação para comparar dois valores e determinar\n",
        "se eles são iguais, diferentes, maiores, menores ou maiores ou iguais. Alguns exemplos de operadores de\n",
        "comparação são:\n",
        "== (igual), != (diferente), > (maior), < (menor), >= (maior ou igual) e <= (menor ou igual).\n",
        "Esses operadores são muito úteis para a criação de condições e tomada de decisões em um programa.\n",
        "'''\n",
        "'''\n",
        "Os operadores de comparação em Python permitem verificar se duas expressões são iguais, diferentes,\n",
        "maiores, menores, etc. São ferramentas essenciais para tomar decisões e realizar comparações em seus\n",
        "programas. Retornam com resultado verdadeiro (True) ou Falso (False) (tipo bool)\n",
        "'''"
      ],
      "metadata": {
        "id": "6AvFjdmS6aJt"
      },
      "execution_count": null,
      "outputs": []
    },
    {
      "cell_type": "code",
      "source": [
        "# Operador de Igualdade (==)\n",
        "igualdade = 3 == 4\n",
        "print(igualdade)"
      ],
      "metadata": {
        "colab": {
          "base_uri": "https://localhost:8080/"
        },
        "id": "hwyeD6YW6rjS",
        "outputId": "949595ec-cc32-4790-fb2e-de6d8c398fb6"
      },
      "execution_count": null,
      "outputs": [
        {
          "output_type": "stream",
          "name": "stdout",
          "text": [
            "False\n"
          ]
        }
      ]
    },
    {
      "cell_type": "code",
      "source": [
        "# Operador de Diferença (!=)\n",
        "diferente = 3 != 4\n",
        "print(diferente)"
      ],
      "metadata": {
        "colab": {
          "base_uri": "https://localhost:8080/"
        },
        "id": "M43inBmu7SBP",
        "outputId": "b77a42bb-c6be-498e-9646-c4a23b914bf9"
      },
      "execution_count": null,
      "outputs": [
        {
          "output_type": "stream",
          "name": "stdout",
          "text": [
            "True\n"
          ]
        }
      ]
    },
    {
      "cell_type": "code",
      "source": [
        "# Operador maior que (>)\n",
        "maior = 3 > 4\n",
        "print(maior)"
      ],
      "metadata": {
        "colab": {
          "base_uri": "https://localhost:8080/"
        },
        "id": "BLc1w4Bu72Pc",
        "outputId": "2e637340-daa3-43e0-ec4b-c4a086b67147"
      },
      "execution_count": null,
      "outputs": [
        {
          "output_type": "stream",
          "name": "stdout",
          "text": [
            "False\n"
          ]
        }
      ]
    },
    {
      "cell_type": "code",
      "source": [
        "# Operador menor que (<)\n",
        "menor = 3 < 4\n",
        "print(menor)"
      ],
      "metadata": {
        "colab": {
          "base_uri": "https://localhost:8080/"
        },
        "id": "LEAWxSOA8Jg3",
        "outputId": "2c1a2c8a-bdeb-4290-cbd6-652bfd677950"
      },
      "execution_count": null,
      "outputs": [
        {
          "output_type": "stream",
          "name": "stdout",
          "text": [
            "True\n"
          ]
        }
      ]
    },
    {
      "cell_type": "code",
      "source": [
        "# Operador maior ou igual a (>=)\n",
        "maior_igual = 3 >= 4\n",
        "print(maior_igual)"
      ],
      "metadata": {
        "colab": {
          "base_uri": "https://localhost:8080/"
        },
        "id": "J-0OjBrf8Xit",
        "outputId": "ff29b567-1900-42e7-c857-9d120bdb18db"
      },
      "execution_count": null,
      "outputs": [
        {
          "output_type": "stream",
          "name": "stdout",
          "text": [
            "False\n"
          ]
        }
      ]
    },
    {
      "cell_type": "code",
      "source": [
        "# Operador menor ou igual a (<=)\n",
        "menor_igual = 3 <= 4\n",
        "print(menor_igual)"
      ],
      "metadata": {
        "colab": {
          "base_uri": "https://localhost:8080/"
        },
        "id": "iCQtQldc9Lv4",
        "outputId": "913cd461-04f8-453f-db35-952263baaa67"
      },
      "execution_count": null,
      "outputs": [
        {
          "output_type": "stream",
          "name": "stdout",
          "text": [
            "True\n"
          ]
        }
      ]
    },
    {
      "cell_type": "code",
      "source": [
        "# Operador de identidade (is)\n",
        "'''\n",
        "O operador de identidade \"is\" é utilizado em programação para verificar se dois objetos têm a mesma\n",
        "identidade, ou seja, se estão armazenados no mesmo local na memória. Em Python, por exemplo, o\n",
        "operador \"is\" compara os endereços de memória dos objetos em questão, enquanto o operador de igualdade\n",
        "\"==\" compara os valores dos objetos. O uso do operador \"is\" é útil em situações em que se deseja\n",
        "verificar se duas variáveis estão se referindo ao mesmo objeto, e não apenas se possuem o mesmo valor.\n",
        "'''\n",
        "a = 7 # int\n",
        "b = 7.0 # float\n",
        "print(a is b) # (IS) A é B?\n",
        "print(a == b) # (==) A é igual a B?"
      ],
      "metadata": {
        "colab": {
          "base_uri": "https://localhost:8080/"
        },
        "id": "E0pZkpnk-B-M",
        "outputId": "8df2fee9-302d-4f66-a429-b2391a03f128"
      },
      "execution_count": null,
      "outputs": [
        {
          "output_type": "stream",
          "name": "stdout",
          "text": [
            "False\n",
            "True\n"
          ]
        }
      ]
    },
    {
      "cell_type": "code",
      "source": [
        "# Operador de identidade (is not)\n",
        "'''\n",
        "O operador de identidade \"is not\" é utilizado em programação para verificar se dois objetos não têm a\n",
        "mesma identidade, ou seja, se não estão armazenados no mesmo local na memória. Em Python, por exemplo,\n",
        "o operador \"is not\" é o oposto do operador \"is\" e também compara os endereços de memória dos objetos em\n",
        "questão. Ele retorna True se os objetos não são os mesmos e False se forem os mesmos. O uso do operador\n",
        "\"is not\" é útil em situações em que se deseja verificar se duas variáveis não estão se referindo ao mesmo\n",
        "objeto.\n",
        "'''\n",
        "a = 7 # int\n",
        "b = 7.0 # float\n",
        "print(a is not b) # (is not) A não é B?\n",
        "print(a != b) # (!=) A é diferente de B?"
      ],
      "metadata": {
        "id": "wnDpQpiS-FeU"
      },
      "execution_count": null,
      "outputs": []
    },
    {
      "cell_type": "markdown",
      "source": [
        "## 2.3 Operadores de Associação"
      ],
      "metadata": {
        "id": "fJeh5qfd_5QS"
      }
    },
    {
      "cell_type": "code",
      "source": [
        "'''\n",
        "Operadores de associação são utilizados em linguagens de programação para verificar se um determinado\n",
        "valor está contido em uma coleção de valores, como uma lista, conjunto ou dicionário. Os operadores de\n",
        "associação comuns são \"in\" e \"not in\". Eles retornam um valor booleano, verdadeiro se o valor estiver\n",
        "presente na coleção e falso caso contrário. Esses operadores são úteis para verificar a existência de\n",
        "um elemento em uma estrutura de dados e tomar decisões com base nessa verificação.\n",
        "'''\n",
        "'''\n",
        "Os operadores de associação in e not in em Python permitem verificar se um elemento está presente ou não\n",
        "em uma coleção, como listas, tuplas, dicionários e strings. São ferramentas úteis para filtrar dados e\n",
        "realizar comparações em seus programas. Assim como os aoperadores de comparação eles retornam Verdadeiro\n",
        "(True) ou Falso (False)\n",
        "'''"
      ],
      "metadata": {
        "id": "wfWdqtjx__re"
      },
      "execution_count": null,
      "outputs": []
    },
    {
      "cell_type": "code",
      "source": [
        "# Operador in\n",
        "'''\n",
        "O operador \"in\" é utilizado em programação para verificar se um determinado valor está presente em uma\n",
        "sequência, como uma lista, tupla, string, dicionário, entre outros. Quando utilizado, o operador \"in\"\n",
        "retorna True se o valor estiver presente na sequência e False caso contrário. Por exemplo, podemos usar\n",
        "o operador \"in\" para verificar se um elemento está contido em uma lista, se uma chave está presente em\n",
        "um dicionário, ou se um caractere está em uma string. Este operador é comumente utilizado em estruturas\n",
        "de controle de fluxo, como condicionais e loops, para verificar a presença de um valor em uma sequência.\n",
        "\n",
        "'''\n",
        "nome = 'Eudes' # str\n",
        "print('E' in nome) # (in) o Objeto 'E' esta contido na Variavel nome('Eudes')?"
      ],
      "metadata": {
        "colab": {
          "base_uri": "https://localhost:8080/"
        },
        "id": "jkj9EzDuABm-",
        "outputId": "c30b801b-7d99-48c1-896b-2b0394f4be1c"
      },
      "execution_count": 6,
      "outputs": [
        {
          "output_type": "stream",
          "name": "stdout",
          "text": [
            "True\n"
          ]
        }
      ]
    },
    {
      "cell_type": "code",
      "source": [
        "# Operador not in\n",
        "'''\n",
        "O operador \"not in\" é utilizado em programação para verificar se um determinado valor não está presente\n",
        "em uma sequência, como uma lista, tupla, string, dicionário, entre outros. Quando utilizado, o operador\n",
        "\"not in\" retorna True se o valor não estiver presente na sequência e False caso contrário. Por exemplo,\n",
        "podemos usar o operador \"not in\" para verificar se um elemento não está contido em uma lista, se uma\n",
        "chave não está presente em um dicionário, ou se um caractere não está em uma string. Este operador é\n",
        "comumente utilizado em estruturas de controle de fluxo, como condicionais e loops, para verificar a\n",
        "ausência de um valor em uma sequência.\n",
        "\n",
        "'''\n",
        "nome = 'Eudes' # str\n",
        "print('E' not in nome) # O Objeto 'E' nao esta contido na Variavel nome('Eudes)?"
      ],
      "metadata": {
        "colab": {
          "base_uri": "https://localhost:8080/"
        },
        "id": "7tE402U8AC-7",
        "outputId": "30b81d8a-161d-41a9-c916-5ce769f641b6"
      },
      "execution_count": 7,
      "outputs": [
        {
          "output_type": "stream",
          "name": "stdout",
          "text": [
            "False\n"
          ]
        }
      ]
    },
    {
      "cell_type": "markdown",
      "source": [
        "## 2.4 - Operadores Lógicos (AND, OR e NOT)"
      ],
      "metadata": {
        "id": "pd11WFzrF1_k"
      }
    },
    {
      "cell_type": "code",
      "source": [
        "'''\n",
        "Os operadores lógicos \"AND\", \"OR\" e \"NOT\" são utilizados em programação para combinar condições e realizar\n",
        "operações lógicas.\n",
        "1 - O operador \"AND\" é usado para combinar duas ou mais condições, e retorna True apenas se todas as\n",
        "condições forem verdadeiras. Caso contrário, retorna False.\n",
        "2 - O operador \"OR\" é usado para combinar duas ou mais condições, e retorna True se pelo menos uma das\n",
        "condições for verdadeira. Retorna False apenas se todas as condições forem falsas.\n",
        "3 - O operador \"NOT\" é usado para inverter o valor de uma condição, ou seja, se a condição for verdadeira,\n",
        "o \"NOT\" a torna falsa e vice-versa.\n",
        "Esses operadores são fundamentais para a criação de expressões lógicas mais complexas e para controlar\n",
        "o fluxo de um programa com base em múltiplas condições. Eles são amplamente utilizados em estruturas de\n",
        "controle de fluxo, como condicionais e loops, para tomar decisões e executar determinadas ações com base\n",
        "nas condições especificadas.\n",
        "'''\n",
        "'''\n",
        "Os operadores lógicos em Python permitem combinar expressões booleanas (True ou False) para formar novas\n",
        "expressões booleanas. São ferramentas essenciais para tomar decisões e realizar comparações complexas em\n",
        "seus programas. São eles:\n",
        "E (and): Retorna True se ambas as expressões forem True.\n",
        "Exemplo: x > 0 and y < 10.\n",
        "Ou (or): Retorna True se pelo menos uma das expressões for True.\n",
        "Exemplo: x == 0 or y == 10.\n",
        "Não (not): Inverte o valor da expressão.\n",
        "Exemplo: not (x > 0).\n",
        "'''"
      ],
      "metadata": {
        "id": "waZeftCUF017"
      },
      "execution_count": null,
      "outputs": []
    },
    {
      "cell_type": "code",
      "source": [
        "# Operador AND retorna verdadeiro se todas as condições forem verdadeiras\n",
        "a = 3\n",
        "b = 4\n",
        "c = 5\n",
        "print(a < b and b < c)\n",
        "print(a < b and b > c)"
      ],
      "metadata": {
        "colab": {
          "base_uri": "https://localhost:8080/"
        },
        "id": "-gq8GSXVGPtW",
        "outputId": "0d1855b1-e457-48aa-9b4f-bd17838321f5"
      },
      "execution_count": null,
      "outputs": [
        {
          "output_type": "stream",
          "name": "stdout",
          "text": [
            "True\n",
            "False\n"
          ]
        }
      ]
    },
    {
      "cell_type": "code",
      "source": [
        "# Operador OR retorna verdadeiro se pelo menos uma das condições for verdadeira\n",
        "a = 3\n",
        "b = 4\n",
        "c = 5\n",
        "print(a < b or b < c) # verdadeiro\n",
        "print(a < b or b > c) # verdadiro\n",
        "print(a > b or a > c) # Falso"
      ],
      "metadata": {
        "colab": {
          "base_uri": "https://localhost:8080/"
        },
        "id": "g-e8fLwWJipr",
        "outputId": "09a1a856-3dfd-4a13-f993-09d5b9f03e9a"
      },
      "execution_count": null,
      "outputs": [
        {
          "output_type": "stream",
          "name": "stdout",
          "text": [
            "True\n",
            "True\n",
            "False\n"
          ]
        }
      ]
    },
    {
      "cell_type": "code",
      "source": [
        "# Operador not (inverte o resulta de verdadeiro para falso e de falso para verdadeiro)\n",
        "a = 3\n",
        "b = 4\n",
        "c = 5\n",
        "print(not(a > b))\n",
        "print(not(a < b))"
      ],
      "metadata": {
        "colab": {
          "base_uri": "https://localhost:8080/"
        },
        "id": "gwT5moD-KLO2",
        "outputId": "2728a94e-9fa2-4d47-ab32-73185a834eae"
      },
      "execution_count": null,
      "outputs": [
        {
          "output_type": "stream",
          "name": "stdout",
          "text": [
            "True\n",
            "False\n"
          ]
        }
      ]
    },
    {
      "cell_type": "markdown",
      "source": [
        "# 3 - Strings"
      ],
      "metadata": {
        "id": "OVcHgds0KpIQ"
      }
    },
    {
      "cell_type": "markdown",
      "source": [
        "## 3.1 - Formatação de Strings (f-strings)"
      ],
      "metadata": {
        "id": "JK03JEKkKsuk"
      }
    },
    {
      "cell_type": "code",
      "source": [
        "'''\n",
        "A formatação de strings, também conhecida como f-strings em Python, é uma maneira conveniente de inserir\n",
        "variáveis e expressões dentro de uma string de forma mais legível e eficiente. Em Python, as f-strings\n",
        "são criadas colocando um \"f\" ou \"F\" antes das aspas que delimitam a string e inserindo as variáveis ou\n",
        "expressões entre chaves {} dentro da string.\n",
        "Por exemplo, suponha que temos duas variáveis \"nome\" e \"idade\" e queremos criar uma mensagem personalizada.\n",
        "Podemos usar f-strings da seguinte forma:\n",
        "\n",
        "nome = \"Maria\"\n",
        "idade = 30\n",
        "mensagem = f\"Olá, meu nome é {nome} e tenho {idade} anos.\"\n",
        "print(mensagem)\n",
        "\n",
        "Neste exemplo, a variável \"mensagem\" irá conter a string formatada com os valores das variáveis \"nome\"\n",
        "e \"idade\" inseridos no lugar das chaves {}. Ao imprimir a variável \"mensagem\", obteríamos a seguinte\n",
        "saída: \"Olá, meu nome é Maria e tenho 30 anos.\"\n",
        "As f-strings são muito úteis para tornar o código mais legível, conciso e fácil de entender, especialmente\n",
        "ao lidar com strings que contêm valores dinâmicos ou variáveis. Elas facilitam a concatenação de strings\n",
        "e a formatação de saídas personalizadas em Python.\n",
        "'''\n",
        "'''\n",
        "As f-strings em Python são uma maneira concisa e elegante de formatar strings. Elas permitem incorporar\n",
        "expressões Python diretamente dentro de strings, tornando o código mais legível e fácil de manter.\n",
        "Como usar f-strings:\n",
        "Para usar f-strings, basta prefixar uma string literal com a letra \"f\". Dentro da string, você pode usar\n",
        "expressões Python entre chaves \"{}\":\n",
        "'''"
      ],
      "metadata": {
        "id": "ek6nH8PQKz-E"
      },
      "execution_count": null,
      "outputs": []
    },
    {
      "cell_type": "code",
      "source": [
        "cliente = 'Eudes'\n",
        "idade = 42\n",
        "print(f'O nome do cliente é {cliente}, e ele tem {idade} anos de idade.')"
      ],
      "metadata": {
        "colab": {
          "base_uri": "https://localhost:8080/"
        },
        "id": "S1a9UW5vLEnT",
        "outputId": "07e85bbb-1fa4-455d-bc90-f875d7487d22"
      },
      "execution_count": 8,
      "outputs": [
        {
          "output_type": "stream",
          "name": "stdout",
          "text": [
            "O nome do cliente é Eudes, e ele tem 42 anos de idade.\n"
          ]
        }
      ]
    },
    {
      "cell_type": "code",
      "source": [
        "'''\n",
        "A formatação \".2f\" em Python é utilizada para formatar um número em um formato de ponto flutuante com\n",
        "duas casas decimais.\n",
        "Por exemplo, se tivermos um número como 3.14159 e aplicarmos a formatação \".2f\", o número será exibido\n",
        "como 3.14, arredondado para duas casas decimais.\n",
        "A formatação \".2f\" é comumente utilizada em situações em que se deseja controlar a precisão das casas\n",
        "decimais de um número de ponto flutuante ao exibi-lo ou ao convertê-lo em uma string formatada.\n",
        "'''\n",
        "taxa = 2/3\n",
        "print(taxa)\n",
        "print(f'O resultado da taxa é aproximadamente {taxa:.2f}')"
      ],
      "metadata": {
        "colab": {
          "base_uri": "https://localhost:8080/"
        },
        "id": "K-l_m3JGMcic",
        "outputId": "1bcc2acc-75f5-406d-cac3-c66cb1f68149"
      },
      "execution_count": 9,
      "outputs": [
        {
          "output_type": "stream",
          "name": "stdout",
          "text": [
            "0.6666666666666666\n",
            "O resultado da taxa é aproximadamente 0.67\n"
          ]
        }
      ]
    },
    {
      "cell_type": "markdown",
      "source": [
        "## 3.2 - Entrada definida pelo usuário (função input)"
      ],
      "metadata": {
        "id": "D_sq_R_yNlKh"
      }
    },
    {
      "cell_type": "code",
      "source": [
        "'''\n",
        "A função input() em Python é utilizada para receber dados diretamente do usuário durante a execução de\n",
        "um programa. Quando a função input() é chamada, o programa pausa a execução e aguarda que o usuário\n",
        "insira algum dado pelo teclado. Ao chamar a função input(), é possível exibir uma mensagem ao usuário\n",
        "para orientá-lo sobre o que deve ser inserido. Por exemplo:\n",
        "\n",
        "nome = input(\"Digite o seu nome: \")\n",
        "\n",
        "Neste exemplo, a mensagem \"Digite o seu nome: \" será exibida ao usuário, e ele poderá inserir o seu nome.\n",
        "O valor inserido será armazenado na variável `nome` para ser utilizado posteriormente no programa.\n",
        "É importante notar que o valor inserido pelo usuário é sempre tratado como uma string, mesmo que o usuário\n",
        "insira um número. Portanto, se for necessário realizar operações matemáticas com o valor inserido, é\n",
        "preciso convertê-lo para o tipo numérico apropriado (int, float) utilizando as funções int() ou float().\n",
        "A função input() é muito útil para interações com o usuário em programas Python, permitindo a\n",
        "personalização e a obtenção de dados dinâmicos durante a execução do programa.\n",
        "'''\n",
        "'''\n",
        "A função input() em Python permite que você obtenha entrada do usuário durante a execução do programa.\n",
        "É uma ferramenta essencial para interagir com o usuário e coletar dados para processamento.\n",
        "Como usar a função input():\n",
        "A função input() é simples de usar. Basta fornecer uma mensagem entre parênteses para instruir o usuário\n",
        "sobre o que digitar:\n",
        "'''"
      ],
      "metadata": {
        "id": "0WgB33zeOO1U"
      },
      "execution_count": null,
      "outputs": []
    },
    {
      "cell_type": "code",
      "source": [
        "nome = input('Informe seu primeiro nome: ')\n",
        "print(f'Olá, {nome}!')"
      ],
      "metadata": {
        "colab": {
          "base_uri": "https://localhost:8080/"
        },
        "id": "Y7D5WjEGOaD2",
        "outputId": "861500f3-e367-4e28-cd81-f28c363fbe6e"
      },
      "execution_count": 10,
      "outputs": [
        {
          "output_type": "stream",
          "name": "stdout",
          "text": [
            "Informe seu primeiro nome: Eudes\n",
            "Olá, Eudes!\n"
          ]
        }
      ]
    },
    {
      "cell_type": "code",
      "source": [
        "nome = input('Informe o seu primeiro nome: ') # str\n",
        "massa = float(input('Informe seu peso em kg: ')) # float\n",
        "altura = float(input('Informe sua altura em metros na forma decimal: ')) # float\n",
        "imc = massa / (altura ** 2)\n",
        "print(f'Olá {nome}! Seu IMC é {imc:.2f}')"
      ],
      "metadata": {
        "colab": {
          "base_uri": "https://localhost:8080/"
        },
        "id": "O1h7WfxuPChC",
        "outputId": "bda594f7-d670-419e-9dd2-d63d620aab46"
      },
      "execution_count": 11,
      "outputs": [
        {
          "output_type": "stream",
          "name": "stdout",
          "text": [
            "Informe o seu primeiro nome: Eudes\n",
            "Informe seu peso em kg: 96\n",
            "Informe sua altura em metros na forma decimal: 1.70\n",
            "Olá Eudes! Seu IMC é 33.22\n"
          ]
        }
      ]
    },
    {
      "cell_type": "markdown",
      "source": [
        "## 3.3 - Posições de caracteres nas strings"
      ],
      "metadata": {
        "id": "VxC9k6E64GY6"
      }
    },
    {
      "cell_type": "code",
      "source": [
        "'''\n",
        "Este bloco traz possível soluções para quando queremos saber qual caracter temos em uma posição (índice)\n",
        "ou sequência de caracteres em um intervalo\n",
        "'''\n",
        "#  0   1   2   3   4   5  6  7  8  9 10 11 12 13 (índice)\n",
        "# -14 -13 -12 -11 -10 -9 -8 -7 -6 -5 -4 -3 -2 -1 (índice reverso)\n",
        "#  1º 2º 3º 4º 5º 6º 7º 8º 9º 10º 11º 12º 13º 14º (ordinal)\n",
        "#  e  u  d  s  j  s  @ g  m  a  i  l  .  c  o  m\n",
        "email = 'eudsjs@gmail.com'\n",
        "print(email[4]) # indice 4 (o indice começa com zero)\n",
        "print(email[:]) # imprimir um intervalo de todos os caracteres da string email\n",
        "print(email[0:4]) # selecionando o intervalo a partir do índice 0 até o índice 3\n",
        "print(email[2:]) # seleciona o intervalo a partir do índice 2 até o final\n",
        "print(email[:5]) # seleciona o intervalo de todos os caracteres até o de índice 4\n",
        "print(email[0:5:2]) # seleciona último caracter de uma sequência\n",
        "'''\n",
        "resumo do fatiamento de strings nome_variavel[indice de começo : índice de parada : de quanto em quanto]\n",
        "nome_variavel[início : fim : passo]\n",
        "'''"
      ],
      "metadata": {
        "colab": {
          "base_uri": "https://localhost:8080/",
          "height": 157
        },
        "id": "Sfbd1k1O7QR1",
        "outputId": "51760b9e-385b-49a7-f34e-7dcf8ed47f31"
      },
      "execution_count": 12,
      "outputs": [
        {
          "output_type": "stream",
          "name": "stdout",
          "text": [
            "j\n",
            "eudsjs@gmail.com\n",
            "euds\n",
            "dsjs@gmail.com\n",
            "eudsj\n",
            "edj\n"
          ]
        },
        {
          "output_type": "execute_result",
          "data": {
            "text/plain": [
              "'\\nresumo do fatiamento de strings\\nnome_variavel[indice de começo : índice de parada : de quanto em quanto]\\nnome_variavel[início : fim : passo]\\n'"
            ],
            "application/vnd.google.colaboratory.intrinsic+json": {
              "type": "string"
            }
          },
          "metadata": {},
          "execution_count": 12
        }
      ]
    },
    {
      "cell_type": "code",
      "source": [
        "# Contar a quantidade de carcteres em uma sequência\n",
        "'''\n",
        "A função len() em Python é utilizada para obter o comprimento (número de elementos) de um objeto, como\n",
        "uma string, lista, tupla, dicionário, entre outros. Em outras palavras, a função len() retorna a\n",
        "quantidade de elementos contidos no objeto que é passado como argumento.\n",
        "Por exemplo, ao aplicar a função len() a uma string, o resultado será o número de caracteres presentes\n",
        "nessa string. Veja um exemplo:\n",
        "\n",
        "frase = \"Olá, mundo!\"\n",
        "tamanho = len(frase)\n",
        "print(tamanho)  # Saída: 10\n",
        "\n",
        "Neste caso, a variável tamanho irá conter o valor 10, que representa o número de caracteres na string\n",
        "\"Olá, mundo!\". Além de strings, a função len() pode ser aplicada a outros tipos de objetos. Por exemplo\n",
        "ao utilizar len() em uma lista, o resultado será o número de elementos presentes nessa lista.\n",
        "É importante notar que a função len() é uma função integrada (built-in) do Python e é amplamente utilizada\n",
        "para obter informações sobre o tamanho de objetos em diversos contextos de programação.\n",
        "\n",
        "'''\n",
        "email = 'eudsjs@gmail.com'\n",
        "print(len(email))\n",
        "qtde = len(email)\n",
        "print(qtde)"
      ],
      "metadata": {
        "colab": {
          "base_uri": "https://localhost:8080/"
        },
        "id": "AiORW5TIMpaQ",
        "outputId": "2f9517b9-a109-4289-e32b-0e0b1bfce207"
      },
      "execution_count": 13,
      "outputs": [
        {
          "output_type": "stream",
          "name": "stdout",
          "text": [
            "16\n",
            "16\n"
          ]
        }
      ]
    },
    {
      "cell_type": "code",
      "source": [
        "cpf = 12345678910\n",
        "print(type(cpf)) # tipo int\n",
        "cpf = str(cpf) # Convertendo em str\n",
        "print(type(cpf))"
      ],
      "metadata": {
        "colab": {
          "base_uri": "https://localhost:8080/"
        },
        "id": "pkS6qnWoOK-B",
        "outputId": "b774549b-f52c-43c7-bf29-a21ec59383d3"
      },
      "execution_count": null,
      "outputs": [
        {
          "output_type": "stream",
          "name": "stdout",
          "text": [
            "<class 'int'>\n",
            "<class 'str'>\n"
          ]
        }
      ]
    },
    {
      "cell_type": "code",
      "source": [
        "# Operador IN\n",
        "\n",
        "email = 'eudsjs@gmail.com'\n",
        "\n",
        "print('u' in email) # (in) O objeto 'u' esta contido na variavel 'email' ('eudsjs@gmail.com) retorna True"
      ],
      "metadata": {
        "colab": {
          "base_uri": "https://localhost:8080/"
        },
        "id": "F7h3tPDvPc3j",
        "outputId": "873491a5-5c50-4406-a103-23375ccb1635"
      },
      "execution_count": 14,
      "outputs": [
        {
          "output_type": "stream",
          "name": "stdout",
          "text": [
            "True\n"
          ]
        }
      ]
    },
    {
      "cell_type": "code",
      "source": [
        "# Operador NOT IN\n",
        "email = 'eudsjs@gmail.com'\n",
        "\n",
        "print('u' not in email) # (not in) O objeto 'u' nao esta contido na variavel 'email'('eudsjs@gmail.com)\n",
        "# retorna False"
      ],
      "metadata": {
        "colab": {
          "base_uri": "https://localhost:8080/"
        },
        "id": "-mAEYrB8Qaty",
        "outputId": "39ef1964-9b61-46d8-dc86-5d888dbe8594"
      },
      "execution_count": 15,
      "outputs": [
        {
          "output_type": "stream",
          "name": "stdout",
          "text": [
            "False\n"
          ]
        }
      ]
    },
    {
      "cell_type": "code",
      "source": [
        "# Método capitalize converte em maiúscula apenas a primeira letra de uma string\n",
        "'''\n",
        "O método capitalize() em Python é utilizado para transformar a primeira letra de uma string em maiúscula\n",
        "e as demais letras em minúsculas. Ele retorna uma cópia da string original com a primeira letra em\n",
        "maiúscula e as demais letras em minúscula.\n",
        "Por exemplo, considere o seguinte código:\n",
        "\n",
        "frase = \"python é uma linguagem de programação\"\n",
        "frase_capitalizada = frase.capitalize()\n",
        "print(frase_capitalizada)\n",
        "\n",
        "Neste caso, o método capitalize() será aplicado à variável frase, resultando na string \"Python é uma\n",
        "linguagem de programação\". A primeira letra \"p\" foi transformada em maiúscula, enquanto as demais letras\n",
        "foram mantidas em minúsculas.\n",
        "O método capitalize() é útil quando se deseja padronizar a capitalização de uma string, garantindo que\n",
        "a primeira letra de uma sentença ou palavra esteja em maiúscula. Este método é especialmente útil ao\n",
        "exibir textos em formatos específicos, como títulos ou cabeçalhos.\n",
        "'''\n",
        "nome = 'eudes silva'\n",
        "print(nome)\n",
        "nome = nome.capitalize()\n",
        "print(nome)"
      ],
      "metadata": {
        "colab": {
          "base_uri": "https://localhost:8080/"
        },
        "id": "xtJbgm3kQjme",
        "outputId": "984d7b4c-d4e2-4c98-d60c-58652a5f1cc9"
      },
      "execution_count": 16,
      "outputs": [
        {
          "output_type": "stream",
          "name": "stdout",
          "text": [
            "eudes silva\n",
            "Eudes silva\n"
          ]
        }
      ]
    },
    {
      "cell_type": "code",
      "source": [
        "# Método Title, serve para deixar a primeira letra de cada palavra maiúscula\n",
        "'''\n",
        "O método title() em Python é utilizado para transformar a primeira letra de cada palavra em uma string\n",
        "em maiúscula e as demais letras em minúscula. Ele retorna uma cópia da string original com a primeira\n",
        "letra de cada palavra em maiúscula e as demais letras em minúscula.\n",
        "Por exemplo, considere o seguinte código:\n",
        "\n",
        "frase = \"python é uma linguagem de programação\"\n",
        "frase_titulada = frase.title()\n",
        "print(frase_titulada)\n",
        "\n",
        "Neste caso, o método title() será aplicado à variável frase, resultando na string \"Python É Uma\n",
        "Linguagem De Programação\". Cada palavra na frase teve sua primeira letra transformada em maiúscula,\n",
        "enquanto as demais letras foram mantidas em minúscula.\n",
        "O método title() é útil quando se deseja que cada palavra em uma string comece com letra maiúscula,\n",
        "seguindo as regras de capitalização de títulos ou cabeçalhos. Ele é comumente utilizado para formatar\n",
        "strings de maneira mais adequada em situações onde a capitalização correta é importante.\n",
        "'''\n",
        "nome = 'eudes josé da silva'\n",
        "print(nome)\n",
        "nome = nome.capitalize() # Apenas a Primeira Letra da primeira palavra\n",
        "print(nome)\n",
        "nome = nome.title() # Primeira letra de cada palavra\n",
        "print(nome)"
      ],
      "metadata": {
        "colab": {
          "base_uri": "https://localhost:8080/"
        },
        "id": "Rmr6_apVRnWb",
        "outputId": "671a3593-ce51-4fac-c93b-32a94b4a470a"
      },
      "execution_count": 17,
      "outputs": [
        {
          "output_type": "stream",
          "name": "stdout",
          "text": [
            "eudes josé da silva\n",
            "Eudes josé da silva\n",
            "Eudes José Da Silva\n"
          ]
        }
      ]
    },
    {
      "cell_type": "code",
      "source": [
        "# Método upper deixa todas as letras em maiúscula\n",
        "'''\n",
        "O método upper() em Python é utilizado para transformar todas as letras de uma string em maiúsculas.\n",
        "Ele retorna uma cópia da string original com todas as letras convertidas para maiúsculas.\n",
        "Por exemplo, considere o seguinte código:\n",
        "\n",
        "frase = \"Python é uma linguagem de programação\"\n",
        "frase_maiuscula = frase.upper()\n",
        "print(frase_maiuscula)\n",
        "\n",
        "Neste caso, o método upper() será aplicado à variável frase, resultando na string\n",
        "\"PYTHON É UMA LINGUAGEM DE PROGRAMAÇÃO\". Todas as letras da frase original foram convertidas para\n",
        "maiúsculas.\n",
        "O método upper() é útil quando se deseja padronizar a capitalização de uma string, transformando todas\n",
        "as letras em maiúsculas. Isso pode ser útil em situações onde é necessário comparar strings de forma\n",
        "case-insensitive (sem diferenciação entre maiúsculas e minúsculas) ou para exibir texto em um formato\n",
        "específico que requer letras maiúsculas.\n",
        "'''\n",
        "nome = 'Eudes josé da silva'\n",
        "print(nome)\n",
        "nome = nome.upper()\n",
        "print(nome)"
      ],
      "metadata": {
        "colab": {
          "base_uri": "https://localhost:8080/"
        },
        "id": "eAena3chSSb3",
        "outputId": "55a1b138-25f5-4120-da62-6839fe9e20a0"
      },
      "execution_count": 18,
      "outputs": [
        {
          "output_type": "stream",
          "name": "stdout",
          "text": [
            "Eudes josé da silva\n",
            "EUDES JOSÉ DA SILVA\n"
          ]
        }
      ]
    },
    {
      "cell_type": "code",
      "source": [
        "# Método para contar quantas vezes um determinado caracter aparece em uma string\n",
        "'''\n",
        "O método count() em Python é uma função incorporada que nos permite contar quantas vezes um\n",
        "elemento aparece em uma sequência, como uma string, uma lista ou uma tupla. Ele aceita um\n",
        "argumento, que é o elemento que desejamos contar na sequência, e retorna o número de ocorrências\n",
        "desse elemento. Aqui está um exemplo de como usar o método count():\n",
        "\n",
        "pontos = [1, 4, 2, 9, 7, 8, 9, 3, 1]\n",
        "quantidade_nove = pontos.count(9)\n",
        "print(f\"O número 9 aparece {quantidade_nove} vezes na lista.\")\n",
        "Saída: O número 9 aparece 2 vezes na lista.\n",
        "\n",
        "Lembre-se de que o método count() conta apenas ocorrências exatas do valor fornecido como\n",
        "argumento. Ele não faz correspondências parciais nem busca elementos semelhantes.\n",
        "'''\n",
        "email = 'eudsjs@gmail.com'\n",
        "email.count('@')"
      ],
      "metadata": {
        "colab": {
          "base_uri": "https://localhost:8080/"
        },
        "id": "-TC7UsNwTT5x",
        "outputId": "2730074a-94f4-4114-dd47-d5e06b242600"
      },
      "execution_count": null,
      "outputs": [
        {
          "output_type": "execute_result",
          "data": {
            "text/plain": [
              "1"
            ]
          },
          "metadata": {},
          "execution_count": 57
        }
      ]
    },
    {
      "cell_type": "code",
      "source": [
        "# Método que mostra a posição de um determinado caracter (caso apareça mais de uma vez, ele por\n",
        "# padrão mostrará a 1ª)\n",
        "'''\n",
        "O método find() em Python é uma função incorporada que nos permite buscar a primeira ocorrência de\n",
        "uma subcadeia em uma sequência, como uma string, uma lista ou uma tupla. Ele aceita um argumento,\n",
        "que é o elemento que desejamos contar na sequência, e retorna a posição de início da subcadeia se\n",
        "a encontrar. Se a subcadeia não estiver presente na sequência, o método retorna -1.\n",
        "Aqui está um exemplo de como usar o método find()\n",
        "\n",
        "texto = \"Criando um exemplo.\"\n",
        "posicao = texto.find(\"exemplo\")\n",
        "if posicao >= 0:\n",
        "    print(f\"Encontrou na posição {posicao}\")\n",
        "else:\n",
        "    print(\"Não encontrado\")\n",
        "Saída: Encontrou na posição 10\n",
        "'''\n",
        "email = 'eudsjs@gmail.com'\n",
        "email.find('u')"
      ],
      "metadata": {
        "colab": {
          "base_uri": "https://localhost:8080/"
        },
        "id": "MXV2rtowmTzZ",
        "outputId": "cb5a1e11-2661-4c2f-f30e-eb0a548f665f"
      },
      "execution_count": 19,
      "outputs": [
        {
          "output_type": "execute_result",
          "data": {
            "text/plain": [
              "1"
            ]
          },
          "metadata": {},
          "execution_count": 19
        }
      ]
    },
    {
      "cell_type": "code",
      "source": [
        "# Método startswith verifica se uma string começa com um determinado caracter ou sequência de\n",
        "# caracteres.\n",
        "'''\n",
        "O método startswith() em Python é uma função de cadeia que verifica se uma string começa com um\n",
        "prefixo específico. Ele retorna True se a string começar com o valor especificado e False caso\n",
        "contrário.\n",
        "Aqui está um exemplo de como usar o método startswith():\n",
        "\n",
        "texto = \"Criando um exemplo.\"\n",
        "if texto.startswith(\"exemplo\"):\n",
        "    print(\"Começa com 'exemplo'\")\n",
        "else:\n",
        "    print(\"Não começa com 'exemplo'\")\n",
        "\n",
        "Saída: Começa com 'exemplo'\n",
        "'''\n",
        "email = 'eudsjs@gmail.com'\n",
        "email.startswith('eud')"
      ],
      "metadata": {
        "colab": {
          "base_uri": "https://localhost:8080/"
        },
        "id": "xhrLpQNanD-g",
        "outputId": "f770dba6-0013-4f2d-88ec-f40d73f1b9f1"
      },
      "execution_count": 20,
      "outputs": [
        {
          "output_type": "execute_result",
          "data": {
            "text/plain": [
              "True"
            ]
          },
          "metadata": {},
          "execution_count": 20
        }
      ]
    },
    {
      "cell_type": "code",
      "source": [
        "# Método endswith verifica se uma string termina com um determinado caracter ou sequência de\n",
        "# caracteres.\n",
        "'''\n",
        "O método endswith() em Python é uma função de cadeia que nos permite verificar se uma string\n",
        "termina com um valor específico. Ele retorna True se a string terminar com o valor especificado\n",
        "e False caso contrário\n",
        "\n",
        "texto = \"Criando um exemplo.\"\n",
        "if texto.endswith(\"exemplo\"):\n",
        "    print(\"Começa com 'exemplo'\")\n",
        "else:\n",
        "    print(\"Não começa com 'exemplo'\")\n",
        "\n",
        "Saída: Começa com 'exemplo'\n",
        "'''\n",
        "email = 'eudsjs@gmail.com'\n",
        "email.endswith('.com')"
      ],
      "metadata": {
        "colab": {
          "base_uri": "https://localhost:8080/"
        },
        "id": "TvGS1b_LodV1",
        "outputId": "6ae3f83e-3764-49af-a658-23f899b2eb8a"
      },
      "execution_count": 21,
      "outputs": [
        {
          "output_type": "execute_result",
          "data": {
            "text/plain": [
              "True"
            ]
          },
          "metadata": {},
          "execution_count": 21
        }
      ]
    },
    {
      "cell_type": "code",
      "source": [
        "# Método isnumeric() verifica se o conteúdo de uma string é ou não numérico\n",
        "'''\n",
        "O método isnumeric() em Python é uma função incorporada que nos permite verificar se uma string\n",
        "consiste apenas em caracteres numéricos. Ele retorna True se todos os caracteres da string forem\n",
        "numéricos (0-9), caso contrário, retorna False\n",
        "\n",
        "texto = \"565543\"\n",
        "resultado = texto.isnumeric()\n",
        "print(f\"A string '{texto}' é numérica? {resultado}\")\n",
        "\n",
        "Saída: A string '565543' é numérica? True\n",
        "\n",
        "Lembre-se de que o método isnumeric() verifica apenas se todos os caracteres da string são\n",
        "numéricos. Exponenciais, como ² e ¾, também são considerados valores numéricos. No entanto,\n",
        "strings como “-1” e “1.5” não são consideradas valores numéricos, porque todos os caracteres\n",
        "na string devem ser numéricos, e o “-” e o “.” não são\n",
        "'''\n",
        "cpf = '12345678910'\n",
        "cpf.isnumeric()"
      ],
      "metadata": {
        "colab": {
          "base_uri": "https://localhost:8080/"
        },
        "id": "0RhT7jgGp5xS",
        "outputId": "6c82c2b6-5df7-4838-d020-ea87c470eeba"
      },
      "execution_count": 22,
      "outputs": [
        {
          "output_type": "execute_result",
          "data": {
            "text/plain": [
              "True"
            ]
          },
          "metadata": {},
          "execution_count": 22
        }
      ]
    },
    {
      "cell_type": "code",
      "source": [
        "# Método isalpha() verifica se o conteúdo de uma string é ou não letra\n",
        "'''\n",
        "O método isalpha() em Python é uma função incorporada que nos permite verificar se uma string\n",
        "contém apenas caracteres alfabéticos (letras) e não está vazia. Ele retorna True se todos os\n",
        "caracteres na string forem letras, caso contrário, retorna False.\n",
        "\n",
        "texto = \"Criando um exemplo.\"\n",
        "if texto.isalpha():\n",
        "    print(\"Contém apenas letras\")\n",
        "else:\n",
        "    print(\"Não contém apenas letras\")\n",
        "\n",
        "Saída: Contém apenas letras\n",
        "\n",
        "Lembre-se de que o método isalpha() verifica apenas se todos os caracteres da string são\n",
        "alfabéticos. Ele retornará False se a string estiver vazia ou contiver qualquer caractere não\n",
        "alfabético. Por exemplo, se a string contiver espaços, números ou outros caracteres especiais,\n",
        "o método retornará False.\n",
        "'''\n",
        "nome1 = 'Eudes Silva' # Contem espaço, retorna False.\n",
        "nome2 = 'EudesSilva' # Nao contem espaço, retorna True.\n",
        "nome1.isalpha()"
      ],
      "metadata": {
        "colab": {
          "base_uri": "https://localhost:8080/"
        },
        "id": "KxvnKo_5ts8P",
        "outputId": "444fec95-375b-4a15-cba8-116ed0b5bf93"
      },
      "execution_count": 31,
      "outputs": [
        {
          "output_type": "execute_result",
          "data": {
            "text/plain": [
              "False"
            ]
          },
          "metadata": {},
          "execution_count": 31
        }
      ]
    },
    {
      "cell_type": "code",
      "source": [
        "nome2.isalpha()"
      ],
      "metadata": {
        "colab": {
          "base_uri": "https://localhost:8080/"
        },
        "id": "E-qPhDqPbSgx",
        "outputId": "1633c670-c8ec-4226-ea1b-217cba21cd54"
      },
      "execution_count": 30,
      "outputs": [
        {
          "output_type": "execute_result",
          "data": {
            "text/plain": [
              "True"
            ]
          },
          "metadata": {},
          "execution_count": 30
        }
      ]
    },
    {
      "cell_type": "code",
      "source": [
        "# Método isalnum verifica se o conteúdo de uma string é ou não combinação de letra e número.\n",
        "'''\n",
        "O método isalnum() em Python é uma função incorporada que nos permite verificar se uma string\n",
        "contém apenas caracteres alfabéticos (letras) e não está vazia. Ele retorna True se todos os\n",
        "caracteres na string forem letras ou números, caso contrário, retorna False.\n",
        "\n",
        "texto = \"Criando um exemplo.\"\n",
        "if texto.isalnum():\n",
        "    print(\"Contém apenas letras e números\")\n",
        "else:\n",
        "    print(\"Não contém apenas letras e números\")\n",
        "\n",
        "Saída: Contém apenas letras e números\n",
        "\n",
        "Lembre-se de que o método isalnum() verifica apenas se todos os caracteres da string são alfabéticos\n",
        "ou numéricos. Ele retornará False se a string estiver vazia ou contiver qualquer caractere não\n",
        "alfanumérico. Por exemplo, se a string contiver espaços, pontuação ou outros caracteres especiais,\n",
        "o método retornará False.\n",
        "'''\n",
        "nome = 'Eudes42' # Letras e Numeros\n",
        "nome.isalnum()"
      ],
      "metadata": {
        "colab": {
          "base_uri": "https://localhost:8080/"
        },
        "id": "5dupXCpEuiVe",
        "outputId": "e3d33bf5-9a0d-42e8-bbcf-e2198e6a2585"
      },
      "execution_count": 33,
      "outputs": [
        {
          "output_type": "execute_result",
          "data": {
            "text/plain": [
              "True"
            ]
          },
          "metadata": {},
          "execution_count": 33
        }
      ]
    },
    {
      "cell_type": "code",
      "source": [
        "# Método strip remove espaços indesejados no começo e/ou final da string.\n",
        "'''\n",
        "O método strip() em Python é uma função incorporada que nos permite remover espaços em branco\n",
        "(espaços, tabulações e quebras de linha) do início e do final de uma string. Ele aceita um\n",
        "argumento opcional, que é um conjunto de caracteres específicos a serem removidos. Se nenhum\n",
        "conjunto de caracteres for especificado, ele removerá qualquer espaço em branco.\n",
        "Aqui está um exemplo de como usar o método strip():\n",
        "\n",
        "texto = \"   banana   \"\n",
        "resultado = texto.strip()\n",
        "print(f\"A string '{texto}' após aplicar strip() fica: '{resultado}'\")\n",
        "\n",
        "Saída: A string '   banana   ' após aplicar strip() fica: 'banana'\n",
        "\n",
        "Lembre-se de que o método strip() não modifica a string original, mas retorna uma nova string\n",
        "com os espaços removidos. Ele é útil para limpar entradas de usuário, como quando você deseja\n",
        "remover espaços extras no início ou no final de uma string.\n",
        "O método strip() é uma ferramenta útil para manipular strings e garantir que elas estejam\n",
        "formatadas corretamente antes de processá-las em seu código\n",
        "'''\n",
        "nome = ' Eudes '\n",
        "print(len(nome)) # Lê o comprimento da Variavel, Diferente do metodo count\n",
        "nome = nome.strip()\n",
        "print(len(nome))"
      ],
      "metadata": {
        "colab": {
          "base_uri": "https://localhost:8080/"
        },
        "id": "usbaggrDz_zC",
        "outputId": "946b2fae-6901-40a9-8f5a-4115faa5f83a"
      },
      "execution_count": 35,
      "outputs": [
        {
          "output_type": "stream",
          "name": "stdout",
          "text": [
            "7\n",
            "5\n"
          ]
        }
      ]
    },
    {
      "cell_type": "code",
      "source": [
        "# Método replace substitui um caracter por outro\n",
        "# nome_da_string.replace('caracter_indesejado', 'caeacter_desejado')\n",
        "'''\n",
        "O método replace() em Python é utilizado para substituir um ou mais trechos em uma string.\n",
        "Ele contém parâmetros para auxiliar a forma de substituição desse conteúdo. Em Python, o tipo\n",
        "string é imutável, o que significa que quando ela é declarada, não é possível realizar alterações\n",
        "em seu conteúdo. Em função disso, sempre que um método de manipulação de string é executado,\n",
        "entre eles a função replace(), o resultado é gerado em uma nova variável — que, nesse caso,\n",
        "também é do tipo string.\n",
        "Aqui está a sintaxe do método replace()\n",
        "string.replace(oldvalue, newvalue, count)\n",
        "Aqui estão os parâmetros do método replace():\n",
        "1 - oldvalue: O valor original que será substituído na string. Na prática, o compilador\n",
        "percorrerá toda a string e, quando encontrar a substring correspondente, vai substituí-la pelo\n",
        "conteúdo informado em newvalue. Portanto, esse é um parâmetro obrigatório.\n",
        "2 - newvalue: Trabalha em conjunto com o oldvalue. É ele que informa ao compilador qual será o\n",
        "novo conteúdo inserido no trecho da string definido no parâmetro oldvalue.\n",
        "Aqui está um exemplo:\n",
        "frase = \"Linguagens de programação: Python, C, Java, JavaScript.\"\n",
        "nova_frase = frase.replace(\",\", \" -\")\n",
        "print(nova_frase)\n",
        "\n",
        "Resultado: Linguagens de programação: Python - C - Java - JavaScript.\n",
        "\n",
        "No exemplo acima, todas as ocorrências do caractere vírgula na string frase serão substituídas\n",
        "pelos caracteres de espaço e hífen.\n",
        "Lembre-se de que o método replace() não modifica a string original, mas retorna uma nova string\n",
        "com os espaços removidos. É uma ferramenta útil para limpar entradas de usuário, como quando\n",
        "você deseja remover espaços extras no início ou no final de uma string. Além disso, você pode\n",
        "usar expressões regulares para substituir trechos de uma string, mas isso é um tópico mais\n",
        "avançado.\n",
        "\n",
        "'''\n",
        "preco = 'R$ 10.50'\n",
        "preco = preco.replace('.',',')\n",
        "print(preco)"
      ],
      "metadata": {
        "colab": {
          "base_uri": "https://localhost:8080/"
        },
        "id": "UTjeAPmN0xjY",
        "outputId": "283af36c-32cb-4dc4-b2e8-eb67112d15d0"
      },
      "execution_count": 36,
      "outputs": [
        {
          "output_type": "stream",
          "name": "stdout",
          "text": [
            "R$ 10,50\n"
          ]
        }
      ]
    },
    {
      "cell_type": "code",
      "source": [
        "# Método split (divide uma string em duas ou mais partes por meio de um separador).\n",
        "'''\n",
        "O método split() em Python é uma função incorporada que nos permite dividir uma string em várias\n",
        "partes com base em um separador especificado. Ele retorna uma lista contendo as partes separadas.\n",
        "Aqui estão alguns exemplos de como usar o método split():\n",
        "Com strings.\n",
        "texto = \"Olá, mundo!\"\n",
        "partes = texto.split()\n",
        "print(f\"A lista de partes é: {partes}\")\n",
        "\n",
        "Saída: A lista de partes é: ['Olá,', 'mundo!']\n",
        "\n",
        "Com strings e separador personalizado.\n",
        "frase = \"Python é incrível, não é?\"\n",
        "palavras = frase.split(\",\")\n",
        "print(f\"A lista de palavras é: {palavras}\")\n",
        "\n",
        "Saída: A lista de palavras é: ['Python é incrível', ' não é?']\n",
        "\n",
        "Com strings e limite de divisões.\n",
        "texto = \"Python é uma linguagem de programação poderosa e versátil.\"\n",
        "partes = texto.split(\" \", 3)\n",
        "print(f\"As três primeiras partes são: {partes}\")\n",
        "\n",
        "Saída: As três primeiras partes são: ['Python', 'é', 'uma', 'linguagem de programação poderosa\n",
        "e versátil.']\n",
        "\n",
        "Lembre-se de que o método split() não modifica a string original, mas retorna uma nova lista\n",
        "com as partes separadas. É uma ferramenta útil para analisar dados de texto, como quando você\n",
        "precisa dividir uma frase em palavras ou extrair informações específicas de uma string.\n",
        "\n",
        "'''\n",
        "nome = 'Eudes Jose da Silva'\n",
        "nomes = nome.split()\n",
        "print(nomes)"
      ],
      "metadata": {
        "colab": {
          "base_uri": "https://localhost:8080/"
        },
        "id": "gjAlgWB31R6R",
        "outputId": "091333bc-d7d6-4b84-8e76-120c0ab95197"
      },
      "execution_count": 37,
      "outputs": [
        {
          "output_type": "stream",
          "name": "stdout",
          "text": [
            "['Eudes', 'Jose', 'da', 'Silva']\n"
          ]
        }
      ]
    },
    {
      "cell_type": "code",
      "source": [
        "# Método split (divide uma string em duas ou mais partes por meio de um separador)\n",
        "date = '12/05/2023'\n",
        "dia_mes_ano = date.split('/')\n",
        "print(dia_mes_ano)"
      ],
      "metadata": {
        "colab": {
          "base_uri": "https://localhost:8080/"
        },
        "id": "Ubp655sJ3RqR",
        "outputId": "0d2d6397-f78f-4aa8-9087-cdde1102de6e"
      },
      "execution_count": 38,
      "outputs": [
        {
          "output_type": "stream",
          "name": "stdout",
          "text": [
            "['12', '05', '2023']\n"
          ]
        }
      ]
    },
    {
      "cell_type": "code",
      "source": [
        "'''\n",
        "Crie um programa que receba do usuário dois ou mais nomes separados\n",
        "por espaços e no mesmo input e os armazene em uma variável chamada nomes\n",
        "'''"
      ],
      "metadata": {
        "id": "ccHkLpmA3Nx5"
      },
      "execution_count": null,
      "outputs": []
    },
    {
      "cell_type": "code",
      "source": [
        "nomes = input('Informe dois ou mais nomes separados por espaços: ')\n",
        "print(nomes)\n",
        "'''\n",
        "Imagine que você deseja guardar os nomes informados em um estrutura única\n",
        "porém separando os nomes\n",
        "'''\n",
        "nomes = nomes.split() # Atraves do Metodo split() a variavel torna uma lista\n",
        "print(nomes)"
      ],
      "metadata": {
        "colab": {
          "base_uri": "https://localhost:8080/"
        },
        "id": "sWNuny0h6BZ4",
        "outputId": "4a422e4a-6d00-4dec-bc06-75dc166aa5cd"
      },
      "execution_count": 39,
      "outputs": [
        {
          "output_type": "stream",
          "name": "stdout",
          "text": [
            "Informe dois ou mais nomes separados por espaços: Eudes Jose da Silva\n",
            "Eudes Jose da Silva\n",
            "['Eudes', 'Jose', 'da', 'Silva']\n"
          ]
        }
      ]
    },
    {
      "cell_type": "code",
      "source": [
        "nomes = input('Informe dois ou mais nomes separados por espaços: ')\n",
        "print(nomes)\n",
        "'''\n",
        "Imagine que você deseja guardar os nomes informados em um estrutura única\n",
        "porém separando os nomes\n",
        "'''\n",
        "nomes = nomes.split()\n",
        "print(nomes)\n",
        "print(type(nomes))"
      ],
      "metadata": {
        "colab": {
          "base_uri": "https://localhost:8080/"
        },
        "id": "9LmUn_XoA1hU",
        "outputId": "351e0a7f-8163-4655-b4a6-49c726a161ee"
      },
      "execution_count": 40,
      "outputs": [
        {
          "output_type": "stream",
          "name": "stdout",
          "text": [
            "Informe dois ou mais nomes separados por espaços: Eudes Jose da Silva\n",
            "Eudes Jose da Silva\n",
            "['Eudes', 'Jose', 'da', 'Silva']\n",
            "<class 'list'>\n"
          ]
        }
      ]
    },
    {
      "cell_type": "markdown",
      "source": [
        "# 4 - Estruturas de dados"
      ],
      "metadata": {
        "id": "ap1KHQliCqWy"
      }
    },
    {
      "cell_type": "markdown",
      "source": [
        "## 4.1 - Listas"
      ],
      "metadata": {
        "id": "m-fNF-dMCtIi"
      }
    },
    {
      "cell_type": "code",
      "source": [
        "# Uma lista é um objeto que pode ser vazio, ou ter um ou mais itens\n",
        "lista = ['dado1', 'dado2','dado3','dado4', 'dado_n']\n",
        "#índices    0         1       2       3       4       ou:\n",
        "#          -5        -4      -3      -2      -1\n",
        "#           1º        2º      3º      4º      5º\n",
        "'''\n",
        "Qual é a informação presente na lista cuja posição é o\n",
        "índice 3?\n",
        "'''\n",
        "print(f'A informação presente na lista na posição de índice 3 é: \"{lista[3]}\"')\n",
        "\n",
        "'''\n",
        "Quais dados estão presentes no intervalo que vai do 1º ao 3º elementos da lista?\n",
        "'''\n",
        "print(f'Os valores no intervalo do 1º ao 3º elementos são: \"{lista[0:3]}\"')"
      ],
      "metadata": {
        "colab": {
          "base_uri": "https://localhost:8080/"
        },
        "id": "cGPzxsCZCxLj",
        "outputId": "bf9e1ca7-733c-43ce-ed6c-51192597d35a"
      },
      "execution_count": null,
      "outputs": [
        {
          "output_type": "stream",
          "name": "stdout",
          "text": [
            "A informação presente na lista na posição de índice 3 é: \"dado4\"\n",
            "Os valores no intervalo do 1º ao 3º elementos são: \"['dado1', 'dado2', 'dado3']\"\n"
          ]
        }
      ]
    },
    {
      "cell_type": "code",
      "source": [
        "produtos = ['monitor', 'celular', 'notebook', 'desktop', 'impressora', 'teclado']\n",
        "precos = [600, 2000, 5000, 3000, 1500, 200]\n",
        "vendas = [300, 500, 100, 700, 500, 1000]\n",
        "estoques = [5000] * 6 #  Este comando cria uma lista que tem 6 elementos com o mesmo valor (5000)"
      ],
      "metadata": {
        "id": "pIYp7jXXMirY"
      },
      "execution_count": null,
      "outputs": []
    },
    {
      "cell_type": "code",
      "source": [
        "print(f'a lista produtos tem {len(produtos)} elementos')\n",
        "print(f'a lista precos tem {len(precos)} elementos')\n",
        "print(f'a lista vendas tem {len(vendas)} elementos')\n",
        "print(f'a lista estoques tem {len(estoques)} elementos')"
      ],
      "metadata": {
        "colab": {
          "base_uri": "https://localhost:8080/"
        },
        "id": "fUVTWvq0QCtB",
        "outputId": "8f6d936e-04a2-4025-9dcb-9349fb850db8"
      },
      "execution_count": null,
      "outputs": [
        {
          "output_type": "stream",
          "name": "stdout",
          "text": [
            "a lista produtos tem 6 elementos\n",
            "a lista precos tem 6 elementos\n",
            "a lista vendas tem 6 elementos\n",
            "a lista estoques tem 6 elementos\n"
          ]
        }
      ]
    },
    {
      "cell_type": "code",
      "source": [
        "'''\n",
        "Elabore um programa que receba do usuário um número inteiro e positivo\n",
        "de no máximo 5, e automaticamente, exiba o nome do produto correspondente,\n",
        "seu preço, sua quantidade vendida, o valor faturado em R$, e quantas unidades\n",
        "ainda restam em estoque desse produto.\n",
        "'''\n",
        "produtos = ['monitor', 'celular', 'notebook', 'desktop', 'impressora', 'teclado']\n",
        "precos = [600, 2000, 5000, 3000, 1500, 200]\n",
        "vendas = [300, 500, 100, 700, 500, 1000]\n",
        "estoques = [5000] * 6 #  Este comando cria uma lista que tem 6 elementos com o mesmo valor (5000)"
      ],
      "metadata": {
        "id": "3yTKjkhFQ01x"
      },
      "execution_count": null,
      "outputs": []
    },
    {
      "cell_type": "code",
      "source": [
        "i = int(input('Informe um número inteiro e positivos de 0 a 5: ')) # recebe do usuário um número inteiro e positivo e o armazena na variável i\n",
        "print(f'O produto escolhido foi: {produtos[i]}') # Exibe o nome do produto referente ao número informado pelo usuário\n",
        "print(f'seu preço é de: R$ {precos[i]:,.2f}')\n",
        "print(f'sua quantidade vendida fou de {vendas[i]} unidades')\n",
        "print(f'o seu faturamento foi de R$ {(vendas[i]*precos[i]):,.2f} ')\n",
        "print(f'e ainda restam {estoques[i]-vendas[i]} unidades em estoque')"
      ],
      "metadata": {
        "colab": {
          "base_uri": "https://localhost:8080/"
        },
        "id": "Ly4CHZkJRQHe",
        "outputId": "7b755fed-9169-4026-c71f-fd567e6a744d"
      },
      "execution_count": null,
      "outputs": [
        {
          "output_type": "stream",
          "name": "stdout",
          "text": [
            "Informe um número inteiro e positivos de 0 a 5: 2\n",
            "O produto escolhido foi: notebook\n",
            "seu preço é de: R$ 5,000.00\n",
            "sua quantidade vendida fou de 100 unidades\n",
            "o seu faturamento foi de R$ 500,000.00 \n",
            "e ainda restam 4900 unidades em estoque\n"
          ]
        }
      ]
    },
    {
      "cell_type": "code",
      "source": [
        "i = int(input('Informe um número inteiro e positivos de 0 a 5: '))\n",
        "print(f'''\n",
        "O produto escolhido foi: {produtos[i]}, seu preço é de: R$ {precos[i]:,.2f},\n",
        "sua quantidade vendida fou de {vendas[i]} unidades,\n",
        "o seu faturamento foi de R$ {(vendas[i]*precos[i]):,.2f},\n",
        "e ainda restam {estoques[i]-vendas[i]} unidades em estoque''')"
      ],
      "metadata": {
        "colab": {
          "base_uri": "https://localhost:8080/"
        },
        "id": "Vn4ErBFRlhO9",
        "outputId": "769e962e-3d15-4378-de45-6aebf53036f3"
      },
      "execution_count": null,
      "outputs": [
        {
          "output_type": "stream",
          "name": "stdout",
          "text": [
            "Informe um número inteiro e positivos de 0 a 5: 2\n",
            "O produto escolhido foi: notebook, seu preço \n",
            "é de: R$ 5,000.00, sua quantidade vendida fou de 100 unidades,\n",
            " o seu faturamento foi de R$ 500,000.00, o seu faturamento \n",
            " foi de R$ 500,000.00\n"
          ]
        }
      ]
    },
    {
      "cell_type": "code",
      "source": [
        "'''\n",
        "Inserindo valores em uma lista\n",
        "'''\n",
        "produtos = ['monitor', 'celular', 'notebook', 'desktop', 'impressora', 'teclado']\n",
        "precos = [600, 2000, 5000, 3000, 1500, 200]\n",
        "vendas = [300, 500, 100, 700, 500, 1000]\n",
        "estoques = [5000] * 6 #  Este comando cria uma lista que tem 6 elementos com o mesmo valor (5000)\n",
        "\n",
        "'''\n",
        "Inserindo um novo produto na lista produtos\n",
        "'''\n",
        "produtos.append('mouse')\n",
        "print(produtos)\n",
        "precos.append(10)\n",
        "print(precos)\n",
        "vendas.append(1000)\n",
        "print(vendas)\n",
        "estoques.append(5000)\n",
        "print(estoques)"
      ],
      "metadata": {
        "colab": {
          "base_uri": "https://localhost:8080/"
        },
        "id": "W-pu3Z6aVIh0",
        "outputId": "a62ab3b5-97ff-4bef-8454-15c0720e7f0f"
      },
      "execution_count": null,
      "outputs": [
        {
          "output_type": "stream",
          "name": "stdout",
          "text": [
            "['monitor', 'celular', 'notebook', 'desktop', 'impressora', 'teclado', 'mouse']\n",
            "[600, 2000, 5000, 3000, 1500, 200, 10]\n",
            "[300, 500, 100, 700, 500, 1000, 1000]\n",
            "[5000, 5000, 5000, 5000, 5000, 5000, 5000]\n"
          ]
        }
      ]
    },
    {
      "cell_type": "code",
      "source": [
        "'''\n",
        "Inserindo valores em um índice específico de uma lista\n",
        "'''\n",
        "produtos = ['monitor', 'celular', 'notebook', 'desktop', 'impressora', 'teclado']\n",
        "precos = [600, 2000, 5000, 3000, 1500, 200]\n",
        "vendas = [300, 500, 100, 700, 500, 1000]\n",
        "estoques = [5000] * 6 #  Este comando cria uma lista que tem 6 elementos com o mesmo valor (5000)\n",
        "'''\n",
        "método insert\n",
        "Imagine que você deseja inserir o produto microfone na primeira posição da lista\n",
        "(índice 0), sem excluir nenhum produto previamente existente\n",
        "'''\n",
        "produtos.insert(0,'microfone')\n",
        "print(produtos)\n",
        "precos.insert(0,700)\n",
        "print(precos)\n",
        "vendas.insert(0,50)\n",
        "print(vendas)\n",
        "estoques.insert(0,5000)\n",
        "print(estoques)"
      ],
      "metadata": {
        "colab": {
          "base_uri": "https://localhost:8080/"
        },
        "id": "n35Xhaupie3N",
        "outputId": "f78f6614-4e1d-4952-d6a1-4e06e1bd689a"
      },
      "execution_count": null,
      "outputs": [
        {
          "output_type": "stream",
          "name": "stdout",
          "text": [
            "['microfone', 'monitor', 'celular', 'notebook', 'desktop', 'impressora', 'teclado']\n",
            "[700, 600, 2000, 5000, 3000, 1500, 200]\n",
            "[50, 300, 500, 100, 700, 500, 1000]\n",
            "[5000, 5000, 5000, 5000, 5000, 5000, 5000]\n"
          ]
        }
      ]
    },
    {
      "cell_type": "code",
      "source": [
        "'''\n",
        "A principal diferença entre append e insert é a posição que o elemento é\n",
        "inserido, no append por padrão o elemento é inserido na última posição e no\n",
        "insert é possível escolher a posição onde vamos inserir o novo elemento\n",
        "'''"
      ],
      "metadata": {
        "id": "f7R9NSzQpK1a"
      },
      "execution_count": null,
      "outputs": []
    },
    {
      "cell_type": "code",
      "source": [
        "'''\n",
        "Excluindo elementos de uma lista\n",
        "1º método: (pop) ele exclui com a referência do índice\n",
        "'''\n",
        "produtos = ['monitor', 'celular', 'notebook', 'desktop', 'impressora', 'teclado']\n",
        "precos = [600, 2000, 5000, 3000, 1500, 200]\n",
        "vendas = [300, 500, 100, 700, 500, 1000]\n",
        "estoques = [5000] * 6 #  Este comando cria uma lista que tem 6 elementos com o mesmo valor (5000)\n",
        "\n",
        "'''\n",
        "Suponha que você deseja excluir o produto teclado da lista de produtos\n",
        "'''\n",
        "produtos.pop()\n",
        "print(produtos)\n",
        "precos.pop()\n",
        "print(precos)\n",
        "vendas.pop()\n",
        "print(vendas)\n",
        "estoques.pop()\n",
        "print(estoques)\n"
      ],
      "metadata": {
        "colab": {
          "base_uri": "https://localhost:8080/"
        },
        "id": "8uAcBb6S78pD",
        "outputId": "e582e9a0-898d-4b7a-c3d8-aff85affc7d7"
      },
      "execution_count": null,
      "outputs": [
        {
          "output_type": "stream",
          "name": "stdout",
          "text": [
            "['monitor', 'celular', 'notebook', 'desktop', 'impressora']\n",
            "[600, 2000, 5000, 3000, 1500]\n",
            "[300, 500, 100, 700, 500]\n",
            "[5000, 5000, 5000, 5000, 5000]\n"
          ]
        }
      ]
    },
    {
      "cell_type": "code",
      "source": [
        "'''\n",
        "Utilizando o método remove para excluir um dado pelo seu valor\n",
        "'''\n",
        "produtos = ['monitor', 'celular', 'notebook', 'desktop', 'impressora', 'teclado']\n",
        "precos = [600, 2000, 5000, 3000, 1500, 200]\n",
        "vendas = [300, 500, 100, 700, 500, 1000]\n",
        "estoques = [5000] * 6 #  Este comando cria uma lista que tem 6 elementos com o mesmo valor (5000)\n",
        "\n",
        "'''\n",
        "Suponha que você deseja remover o teclado da lista produtos e não saiba qual é\n",
        "o seu índice\n",
        "'''\n",
        "produtos.remove('teclado')\n",
        "print(produtos)\n",
        "precos.remove(200)\n",
        "print(precos)"
      ],
      "metadata": {
        "colab": {
          "base_uri": "https://localhost:8080/"
        },
        "id": "_qYw8Irc9oYy",
        "outputId": "c800f513-bc27-4f0a-aed4-1dc025bf6ebb"
      },
      "execution_count": null,
      "outputs": [
        {
          "output_type": "stream",
          "name": "stdout",
          "text": [
            "['monitor', 'notebook', 'desktop', 'impressora', 'teclado']\n",
            "[600, 2000, 5000, 3000, 1500]\n"
          ]
        }
      ]
    },
    {
      "cell_type": "code",
      "source": [
        "\n",
        "'''\n",
        "Suponha que você deseja saber se na lista produtos existe o termo celular\n",
        "'''\n",
        "produtos = ['monitor', 'celular', 'notebook', 'desktop', 'impressora', 'teclado']\n",
        "precos = [600, 2000, 5000, 3000, 1500, 200]\n",
        "vendas = [300, 500, 100, 700, 500, 1000]\n",
        "estoques = [5000] * 6 #  Este comando cria uma lista que tem 6 elementos com o mesmo valor (5000)\n",
        "\n",
        "print('celular' in produtos)\n",
        "\n"
      ],
      "metadata": {
        "colab": {
          "base_uri": "https://localhost:8080/"
        },
        "id": "U92qjKCuBUd1",
        "outputId": "13a08303-3a94-4096-f487-cc1311ff241e"
      },
      "execution_count": null,
      "outputs": [
        {
          "output_type": "stream",
          "name": "stdout",
          "text": [
            "True\n"
          ]
        }
      ]
    },
    {
      "cell_type": "code",
      "source": [
        "produtos = ['monitor', 'celular', 'notebook', 'desktop', 'impressora', 'teclado']\n",
        "precos = [600, 2000, 5000, 3000, 1500, 200]\n",
        "vendas = [300, 500, 100, 700, 500, 1000]\n",
        "estoques = [5000] * 6 #  Este comando cria uma lista que tem 6 elementos com o mesmo valor (5000)\n",
        "\n",
        "\n",
        "'''\n",
        "Suponha que você deseja saber se na lista produtos existe o termo celular e caso\n",
        "exista qual é o seu índice - método index\n",
        "'''\n",
        "i = produtos.index('celular')\n",
        "\n",
        "\n",
        "print(f'''\n",
        "O produto escolhido foi: {produtos[i]}, seu preço é de: R$ {precos[i]:,.2f},\n",
        "sua quantidade vendida fou de {vendas[i]} unidades,\n",
        "o seu faturamento foi de R$ {(vendas[i]*precos[i]):,.2f}, o seu estoque\n",
        "é de {(estoques[i] - vendas[i])} unidades''')"
      ],
      "metadata": {
        "colab": {
          "base_uri": "https://localhost:8080/"
        },
        "id": "L91O2kSxCF6z",
        "outputId": "ff04bbf7-0b3e-4de5-a421-8cae008981ce"
      },
      "execution_count": null,
      "outputs": [
        {
          "output_type": "stream",
          "name": "stdout",
          "text": [
            "\n",
            "O produto escolhido foi: celular, seu preço é de: R$ 2,000.00,\n",
            "sua quantidade vendida fou de 500 unidades,\n",
            "o seu faturamento foi de R$ 1,000,000.00, o seu estoque\n",
            "é de 4500 unidades\n"
          ]
        }
      ]
    },
    {
      "cell_type": "code",
      "source": [
        "produtos = ['monitor', 'celular', 'notebook', 'desktop', 'impressora', 'teclado']\n",
        "precos = [600, 2000, 5000, 3000, 1500, 200]\n",
        "vendas = [300, 500, 100, 700, 500, 1000]\n",
        "estoques = [5000] * 6 #  Este comando cria uma lista que tem 6 elementos com o mesmo valor (5000)\n",
        "'''\n",
        "Imagine que você deseja permitir que o usuário consulte a existência de um\n",
        "produto pelo nome e caso esse produto exista, o programa retorna o nome do\n",
        "produto, seu preço unitário de venda, sua quantidade vendida, seu faturamento e\n",
        "quantas unidades ainda restam em estoique desse produto.\n",
        "'''\n",
        "\n",
        "i = produtos.index(input('Informe nome do produto que deseja consultar: ').lower())\n",
        "\n",
        "print(f'''\n",
        "O produto escolhido foi: {produtos[i]}, seu preço é de: R$ {precos[i]:,.2f},\n",
        "sua quantidade vendida fou de {vendas[i]} unidades,\n",
        "o seu faturamento foi de R$ {(vendas[i]*precos[i]):,.2f}, o seu estoque\n",
        "é de {(estoques[i] - vendas[i])} unidades''')"
      ],
      "metadata": {
        "colab": {
          "base_uri": "https://localhost:8080/"
        },
        "id": "gkwrU-6KCy3L",
        "outputId": "dc367e72-70fa-4767-aaa6-a27d008d57f1"
      },
      "execution_count": null,
      "outputs": [
        {
          "output_type": "stream",
          "name": "stdout",
          "text": [
            "Informe nome do produto que deseja consultar: TECLADO\n",
            "\n",
            "O produto escolhido foi: teclado, seu preço é de: R$ 200.00,\n",
            "sua quantidade vendida fou de 1000 unidades,\n",
            "o seu faturamento foi de R$ 200,000.00, o seu estoque\n",
            "é de 4000 unidades\n"
          ]
        }
      ]
    },
    {
      "cell_type": "markdown",
      "source": [
        "## 4.2 - Tuplas"
      ],
      "metadata": {
        "id": "ajcZnFfIVpwt"
      }
    },
    {
      "cell_type": "code",
      "source": [
        "'''\n",
        "Tuplas são estruturas de dados imutáveis\n",
        "'''\n",
        "# Criando tuplas\n",
        "nomes = ('Douglas', 'Daniela', 'Pedro', 'Maria')\n",
        "idades = (47, 8, 68, 67)\n",
        "alturas = (1.85, 1.32, 1.75, 1.69)\n",
        "tupla_vazia = ()\n",
        "print(type(nomes))\n",
        "print(nomes)"
      ],
      "metadata": {
        "colab": {
          "base_uri": "https://localhost:8080/"
        },
        "id": "BqUe6G74VmVX",
        "outputId": "fbbc77da-87e5-467a-8006-c5e290134198"
      },
      "execution_count": null,
      "outputs": [
        {
          "output_type": "stream",
          "name": "stdout",
          "text": [
            "<class 'tuple'>\n",
            "('Douglas', 'Daniela', 'Pedro', 'Maria')\n"
          ]
        }
      ]
    },
    {
      "cell_type": "code",
      "source": [
        "# Fatiando tuplas\n",
        "nomes = ('Douglas', 'Daniela', 'Pedro', 'Maria')\n",
        "idades = (47, 8, 68, 67)\n",
        "alturas = (1.85, 1.32, 1.75, 1.69)\n",
        "print(nomes[0])\n",
        "print(idades[1:3])\n",
        "print(alturas[-1])"
      ],
      "metadata": {
        "colab": {
          "base_uri": "https://localhost:8080/"
        },
        "id": "cupm1R0CWIWE",
        "outputId": "5c891ea6-a387-4d39-d28d-d761116e7d80"
      },
      "execution_count": null,
      "outputs": [
        {
          "output_type": "stream",
          "name": "stdout",
          "text": [
            "Douglas\n",
            "(8, 68)\n",
            "1.69\n"
          ]
        }
      ]
    },
    {
      "cell_type": "code",
      "source": [
        "# convertendo objetos em tuplas e vice-versa\n",
        "lista = [1,2,3]\n",
        "tupla = tuple(lista)\n",
        "nova_lista = list(tupla)\n",
        "print(lista)\n",
        "print(tupla)\n",
        "print(nova_lista)"
      ],
      "metadata": {
        "colab": {
          "base_uri": "https://localhost:8080/"
        },
        "id": "nrVsuE0oWbhP",
        "outputId": "8c3222a1-a07c-446b-8d0e-1fe1fe03509c"
      },
      "execution_count": null,
      "outputs": [
        {
          "output_type": "stream",
          "name": "stdout",
          "text": [
            "[1, 2, 3]\n",
            "(1, 2, 3)\n",
            "[1, 2, 3]\n"
          ]
        }
      ]
    },
    {
      "cell_type": "code",
      "source": [
        "# verificando a existência de um elemento em uma tupla\n",
        "lista = [1,2,3]\n",
        "tupla = tuple(lista)\n",
        "nova_lista = list(tupla)\n",
        "print(4 in tupla)\n",
        "print(4 not in tupla)"
      ],
      "metadata": {
        "colab": {
          "base_uri": "https://localhost:8080/"
        },
        "id": "WsCVxbiPWw2N",
        "outputId": "a3cd9b48-2e29-42ab-96b5-d65522c6def1"
      },
      "execution_count": null,
      "outputs": [
        {
          "output_type": "stream",
          "name": "stdout",
          "text": [
            "False\n",
            "True\n"
          ]
        }
      ]
    },
    {
      "cell_type": "markdown",
      "source": [
        "## 4.3 - Dicionários"
      ],
      "metadata": {
        "id": "8YfA1dXIXmjE"
      }
    },
    {
      "cell_type": "code",
      "source": [
        "carro = {'marca':'vw','modelo':'gol','ano':'2014','motor':'1.0'}\n",
        "type(carro)"
      ],
      "metadata": {
        "colab": {
          "base_uri": "https://localhost:8080/"
        },
        "id": "ftLPvY7qX3SG",
        "outputId": "1c442655-d3d7-46e5-cbae-5266bc65d92b"
      },
      "execution_count": null,
      "outputs": [
        {
          "output_type": "execute_result",
          "data": {
            "text/plain": [
              "dict"
            ]
          },
          "metadata": {},
          "execution_count": 21
        }
      ]
    },
    {
      "cell_type": "code",
      "source": [
        "# Inserindo uma chave um valor em um dicionário existente\n",
        "carro = {'marca':'vw','modelo':'gol','ano':'2014','motor':'1.0'}\n",
        "carro['cor'] = 'azul'\n",
        "print(carro)"
      ],
      "metadata": {
        "colab": {
          "base_uri": "https://localhost:8080/"
        },
        "id": "xKwaoFNJZn71",
        "outputId": "41331aa4-8c36-47bf-84bc-a0bfaf76464a"
      },
      "execution_count": null,
      "outputs": [
        {
          "output_type": "stream",
          "name": "stdout",
          "text": [
            "{'marca': 'vw', 'modelo': 'gol', 'ano': '2014', 'motor': '1.0', 'cor': 'azul'}\n"
          ]
        }
      ]
    },
    {
      "cell_type": "code",
      "source": [
        "carro['km'] = 280000\n",
        "print(carro)"
      ],
      "metadata": {
        "colab": {
          "base_uri": "https://localhost:8080/"
        },
        "id": "9CTEVr44ah8E",
        "outputId": "9dda946b-8b1b-43f6-f889-dcbae29004f3"
      },
      "execution_count": null,
      "outputs": [
        {
          "output_type": "stream",
          "name": "stdout",
          "text": [
            "{'marca': 'vw', 'modelo': 'gol', 'ano': '2014', 'motor': '1.0', 'cor': 'azul', 'km': 280000}\n"
          ]
        }
      ]
    },
    {
      "cell_type": "code",
      "source": [
        "carro = {'marca':'vw','modelo':'gol','ano':'2014','motor':'1.0'}\n",
        "'''\n",
        "buscar um valor em um dicionário diretamente pela sua chave pode ser\n",
        "um problema se por exemplo essa chave não existir no dicionário original\n",
        "'''\n",
        "carro['marca']"
      ],
      "metadata": {
        "colab": {
          "base_uri": "https://localhost:8080/",
          "height": 35
        },
        "id": "QHws0xjObEZM",
        "outputId": "d3865b03-dc52-40b2-b5a7-64f165bc228e"
      },
      "execution_count": null,
      "outputs": [
        {
          "output_type": "execute_result",
          "data": {
            "text/plain": [
              "'vw'"
            ],
            "application/vnd.google.colaboratory.intrinsic+json": {
              "type": "string"
            }
          },
          "metadata": {},
          "execution_count": 29
        }
      ]
    },
    {
      "cell_type": "code",
      "source": [
        "carro = {'marca':'vw','modelo':'gol','ano':'2014','motor':'1.0'}\n",
        "'''\n",
        "buscar um valor em um dicionário diretamente pela sua chave pode ser\n",
        "um problema se por exemplo essa chave não existir no dicionário original\n",
        "'''\n",
        "carro['doc']"
      ],
      "metadata": {
        "colab": {
          "base_uri": "https://localhost:8080/",
          "height": 176
        },
        "id": "3pvYX_HaZ1Jm",
        "outputId": "11170005-f62f-41cf-f809-3b30fda1c516"
      },
      "execution_count": null,
      "outputs": [
        {
          "output_type": "error",
          "ename": "KeyError",
          "evalue": "'doc'",
          "traceback": [
            "\u001b[0;31m---------------------------------------------------------------------------\u001b[0m",
            "\u001b[0;31mKeyError\u001b[0m                                  Traceback (most recent call last)",
            "\u001b[0;32m<ipython-input-30-7c0be97081e7>\u001b[0m in \u001b[0;36m<cell line: 6>\u001b[0;34m()\u001b[0m\n\u001b[1;32m      4\u001b[0m \u001b[0mum\u001b[0m \u001b[0mproblema\u001b[0m \u001b[0mse\u001b[0m \u001b[0mpor\u001b[0m \u001b[0mexemplo\u001b[0m \u001b[0messa\u001b[0m \u001b[0mchave\u001b[0m \u001b[0mnão\u001b[0m \u001b[0mexistir\u001b[0m \u001b[0mno\u001b[0m \u001b[0mdicionário\u001b[0m \u001b[0moriginal\u001b[0m\u001b[0;34m\u001b[0m\u001b[0;34m\u001b[0m\u001b[0m\n\u001b[1;32m      5\u001b[0m '''\n\u001b[0;32m----> 6\u001b[0;31m \u001b[0mcarro\u001b[0m\u001b[0;34m[\u001b[0m\u001b[0;34m'doc'\u001b[0m\u001b[0;34m]\u001b[0m\u001b[0;34m\u001b[0m\u001b[0;34m\u001b[0m\u001b[0m\n\u001b[0m",
            "\u001b[0;31mKeyError\u001b[0m: 'doc'"
          ]
        }
      ]
    },
    {
      "cell_type": "code",
      "source": [
        "carro = {'marca':'vw','modelo':'gol','ano':'2014','motor':'1.0'}\n",
        "'''\n",
        "Alternativa\n",
        "'''\n",
        "carro.get('marca')"
      ],
      "metadata": {
        "colab": {
          "base_uri": "https://localhost:8080/",
          "height": 35
        },
        "id": "_Tz19lhzbPAX",
        "outputId": "93fe8d64-c865-4867-e54d-0d0985a98933"
      },
      "execution_count": null,
      "outputs": [
        {
          "output_type": "execute_result",
          "data": {
            "text/plain": [
              "'vw'"
            ],
            "application/vnd.google.colaboratory.intrinsic+json": {
              "type": "string"
            }
          },
          "metadata": {},
          "execution_count": 31
        }
      ]
    },
    {
      "cell_type": "code",
      "source": [
        "carro = {'marca':'vw','modelo':'gol','ano':'2014','motor':'1.0'}\n",
        "'''\n",
        "Alternativa\n",
        "'''\n",
        "carro.get('doc')\n",
        "'''\n",
        "Resumindo: para os dicionários o método get é bem semelhante à busca\n",
        "diretamente pela chave, mas com uma importante diferença: pelo método\n",
        "get, caso a chave não exista no dicionário original, ao onvés de travar o\n",
        "programa, o método retorna vazio\n",
        "'''"
      ],
      "metadata": {
        "id": "VFWoNJ4Hb5Dc"
      },
      "execution_count": null,
      "outputs": []
    },
    {
      "cell_type": "code",
      "source": [
        "# Removendo o último para de chave e valor de um dicionário\n",
        "carro = {'marca':'vw','modelo':'gol','ano':'2014','motor':'1.0'}\n",
        "carro.popitem()"
      ],
      "metadata": {
        "colab": {
          "base_uri": "https://localhost:8080/"
        },
        "id": "hlrWw70ZccOr",
        "outputId": "cbfda5d3-cff4-4efe-95a0-dd7351baea9b"
      },
      "execution_count": null,
      "outputs": [
        {
          "output_type": "execute_result",
          "data": {
            "text/plain": [
              "('motor', '1.0')"
            ]
          },
          "metadata": {},
          "execution_count": 34
        }
      ]
    },
    {
      "cell_type": "code",
      "source": [
        "# Excluindo um item de um dicionário\n",
        "carro = {'marca':'vw','modelo':'gol','ano':'2014','motor':'1.0'}\n",
        "carro.pop('marca')\n",
        "print(carro)"
      ],
      "metadata": {
        "colab": {
          "base_uri": "https://localhost:8080/"
        },
        "id": "5b9ArKLLc57w",
        "outputId": "8f7fef61-a958-491e-e463-cc9969017206"
      },
      "execution_count": null,
      "outputs": [
        {
          "output_type": "stream",
          "name": "stdout",
          "text": [
            "{'modelo': 'gol', 'ano': '2014', 'motor': '1.0'}\n"
          ]
        }
      ]
    },
    {
      "cell_type": "code",
      "source": [
        "# deixando um dicionário sem elemento algum\n",
        "carro = {'marca':'vw','modelo':'gol','ano':'2014','motor':'1.0'}\n",
        "print(carro)\n",
        "carro.clear()\n",
        "print(carro)"
      ],
      "metadata": {
        "colab": {
          "base_uri": "https://localhost:8080/"
        },
        "id": "isL7C8nBdJib",
        "outputId": "5d097a74-10cf-4ef8-aa5c-6cf58f8a463f"
      },
      "execution_count": null,
      "outputs": [
        {
          "output_type": "stream",
          "name": "stdout",
          "text": [
            "{'marca': 'vw', 'modelo': 'gol', 'ano': '2014', 'motor': '1.0'}\n",
            "{}\n"
          ]
        }
      ]
    },
    {
      "cell_type": "markdown",
      "source": [
        "## 4.4 - Sets (conjuntos)"
      ],
      "metadata": {
        "id": "bcv_UOR_dabJ"
      }
    },
    {
      "cell_type": "code",
      "source": [
        "# Criando conjuntos\n",
        "nomes = {'Douglas', 'Daniela', 'Pedro', 'Maria'}\n",
        "pesos = {78, 32, 86, 74}\n",
        "print(nomes)\n",
        "print(pesos)\n",
        "print(type(nomes))"
      ],
      "metadata": {
        "colab": {
          "base_uri": "https://localhost:8080/"
        },
        "id": "jq8ee6oudZKH",
        "outputId": "37e85235-7f65-4a6d-c591-8aa8260e9a6a"
      },
      "execution_count": null,
      "outputs": [
        {
          "output_type": "stream",
          "name": "stdout",
          "text": [
            "{'Pedro', 'Douglas', 'Maria', 'Daniela'}\n",
            "{32, 78, 74, 86}\n",
            "<class 'set'>\n"
          ]
        }
      ]
    },
    {
      "cell_type": "code",
      "source": [
        "# impossibilidade de receber valores duplicados\n",
        "alturas = {1.85, 1.34, 1.78, 1.69, 1.34}\n",
        "print(alturas)"
      ],
      "metadata": {
        "colab": {
          "base_uri": "https://localhost:8080/"
        },
        "id": "9pK8GYoVdyX9",
        "outputId": "20bf706c-f41d-43aa-95bb-83b05b08305c"
      },
      "execution_count": null,
      "outputs": [
        {
          "output_type": "stream",
          "name": "stdout",
          "text": [
            "{1.69, 1.78, 1.85, 1.34}\n"
          ]
        }
      ]
    },
    {
      "cell_type": "code",
      "source": [
        "# Adição de elemento único em um conjunto\n",
        "loja_a = {'garfo', 'faca', 'caneca', 'copo'}\n",
        "loja_b = {'copo', 'caneca', 'taça', 'tigela'}\n",
        "print(loja_a)\n",
        "print(loja_b)\n",
        "loja_a.add('prato')\n",
        "loja_b.add('pote')\n",
        "print(loja_a)\n",
        "print(loja_b)\n",
        "# Adição de mais de um elemento em um conjunto\n",
        "loja_a.update(['bule', 'chaleira'])\n",
        "print(loja_a)\n",
        "# União de conjuntos\n",
        "loja_c = loja_a.union(loja_b)\n",
        "print(loja_c)"
      ],
      "metadata": {
        "colab": {
          "base_uri": "https://localhost:8080/"
        },
        "id": "P9M4AQ65eABm",
        "outputId": "98ab53c3-18e4-46c0-f0a1-68c6daa507d3"
      },
      "execution_count": null,
      "outputs": [
        {
          "output_type": "stream",
          "name": "stdout",
          "text": [
            "{'garfo', 'faca', 'copo', 'caneca'}\n",
            "{'copo', 'taça', 'tigela', 'caneca'}\n",
            "{'garfo', 'copo', 'caneca', 'faca', 'prato'}\n",
            "{'copo', 'tigela', 'taça', 'pote', 'caneca'}\n",
            "{'garfo', 'copo', 'bule', 'caneca', 'chaleira', 'faca', 'prato'}\n",
            "{'garfo', 'copo', 'tigela', 'bule', 'chaleira', 'caneca', 'taça', 'faca', 'pote', 'prato'}\n"
          ]
        }
      ]
    },
    {
      "cell_type": "code",
      "source": [
        "# Intersecção de conjuntos\n",
        "loja_a = {'garfo', 'faca', 'caneca', 'copo'}\n",
        "loja_b = {'copo', 'caneca', 'taça', 'tigela'}\n",
        "interseccao = loja_a.intersection(loja_b)\n",
        "print(interseccao)"
      ],
      "metadata": {
        "colab": {
          "base_uri": "https://localhost:8080/"
        },
        "id": "E4z5FWp7fy9f",
        "outputId": "10135c71-1091-4600-9ff8-779516f80527"
      },
      "execution_count": null,
      "outputs": [
        {
          "output_type": "stream",
          "name": "stdout",
          "text": [
            "{'copo', 'caneca'}\n"
          ]
        }
      ]
    },
    {
      "cell_type": "code",
      "source": [
        "# Verificando os elementos exclusivos na comparação de conjuntos\n",
        "loja_a = {'garfo', 'faca', 'caneca', 'copo'}\n",
        "loja_b = {'copo', 'caneca', 'taça', 'tigela'}\n",
        "only_a = loja_a.difference(loja_b)\n",
        "only_b = loja_b.difference(loja_a)\n",
        "print(only_a)\n",
        "print(only_b)"
      ],
      "metadata": {
        "colab": {
          "base_uri": "https://localhost:8080/"
        },
        "id": "E6qC2YBOgN4p",
        "outputId": "892962cf-7388-4297-fc87-f808f0691761"
      },
      "execution_count": null,
      "outputs": [
        {
          "output_type": "stream",
          "name": "stdout",
          "text": [
            "{'garfo', 'faca'}\n",
            "{'taça', 'tigela'}\n"
          ]
        }
      ]
    },
    {
      "cell_type": "code",
      "source": [
        "# Excluíndo elementos de um conjunto pelo método remove\n",
        "loja_a = {'garfo', 'faca', 'caneca', 'copo'}\n",
        "loja_b = {'copo', 'caneca', 'taça', 'tigela'}\n",
        "loja_a.remove('faca')\n",
        "print(loja_a)\n",
        "'''\n",
        "esse método remove o elemento caso ele exista, caso não existe ele 'crasha' o\n",
        "código\n",
        "'''"
      ],
      "metadata": {
        "colab": {
          "base_uri": "https://localhost:8080/",
          "height": 193
        },
        "id": "aa0GR0jaiWVC",
        "outputId": "8d0948f9-1f18-48ea-c5f8-249d815cf7fe"
      },
      "execution_count": null,
      "outputs": [
        {
          "output_type": "error",
          "ename": "KeyError",
          "evalue": "'carro'",
          "traceback": [
            "\u001b[0;31m---------------------------------------------------------------------------\u001b[0m",
            "\u001b[0;31mKeyError\u001b[0m                                  Traceback (most recent call last)",
            "\u001b[0;32m<ipython-input-50-695fa26e86da>\u001b[0m in \u001b[0;36m<cell line: 4>\u001b[0;34m()\u001b[0m\n\u001b[1;32m      2\u001b[0m \u001b[0mloja_a\u001b[0m \u001b[0;34m=\u001b[0m \u001b[0;34m{\u001b[0m\u001b[0;34m'garfo'\u001b[0m\u001b[0;34m,\u001b[0m \u001b[0;34m'faca'\u001b[0m\u001b[0;34m,\u001b[0m \u001b[0;34m'caneca'\u001b[0m\u001b[0;34m,\u001b[0m \u001b[0;34m'copo'\u001b[0m\u001b[0;34m}\u001b[0m\u001b[0;34m\u001b[0m\u001b[0;34m\u001b[0m\u001b[0m\n\u001b[1;32m      3\u001b[0m \u001b[0mloja_b\u001b[0m \u001b[0;34m=\u001b[0m \u001b[0;34m{\u001b[0m\u001b[0;34m'copo'\u001b[0m\u001b[0;34m,\u001b[0m \u001b[0;34m'caneca'\u001b[0m\u001b[0;34m,\u001b[0m \u001b[0;34m'taça'\u001b[0m\u001b[0;34m,\u001b[0m \u001b[0;34m'tigela'\u001b[0m\u001b[0;34m}\u001b[0m\u001b[0;34m\u001b[0m\u001b[0;34m\u001b[0m\u001b[0m\n\u001b[0;32m----> 4\u001b[0;31m \u001b[0mloja_a\u001b[0m\u001b[0;34m.\u001b[0m\u001b[0mremove\u001b[0m\u001b[0;34m(\u001b[0m\u001b[0;34m'carro'\u001b[0m\u001b[0;34m)\u001b[0m\u001b[0;34m\u001b[0m\u001b[0;34m\u001b[0m\u001b[0m\n\u001b[0m\u001b[1;32m      5\u001b[0m \u001b[0mprint\u001b[0m\u001b[0;34m(\u001b[0m\u001b[0mloja_a\u001b[0m\u001b[0;34m)\u001b[0m\u001b[0;34m\u001b[0m\u001b[0;34m\u001b[0m\u001b[0m\n",
            "\u001b[0;31mKeyError\u001b[0m: 'carro'"
          ]
        }
      ]
    },
    {
      "cell_type": "code",
      "source": [
        "# Excluíndo elementos de um conjunto pelo método dicard\n",
        "loja_a = {'garfo', 'faca', 'caneca', 'copo'}\n",
        "loja_b = {'copo', 'caneca', 'taça', 'tigela'}\n",
        "loja_a.discard('carro')\n",
        "print(loja_a)"
      ],
      "metadata": {
        "colab": {
          "base_uri": "https://localhost:8080/"
        },
        "id": "2-vFaF7-i0Il",
        "outputId": "f875058c-2eba-40f6-aab6-eb1465a5b5ee"
      },
      "execution_count": null,
      "outputs": [
        {
          "output_type": "stream",
          "name": "stdout",
          "text": [
            "{'garfo', 'faca', 'copo', 'caneca'}\n"
          ]
        }
      ]
    },
    {
      "cell_type": "code",
      "source": [
        "# Excluindo todos os elementos de um conjunto\n",
        "loja_a = {'garfo', 'faca', 'caneca', 'copo'}\n",
        "loja_a.clear()\n",
        "print(loja_a)"
      ],
      "metadata": {
        "colab": {
          "base_uri": "https://localhost:8080/"
        },
        "id": "M-BFAy7OjImT",
        "outputId": "6b32dc4f-035a-47de-d817-61f12cde4c9d"
      },
      "execution_count": null,
      "outputs": [
        {
          "output_type": "stream",
          "name": "stdout",
          "text": [
            "set()\n"
          ]
        }
      ]
    },
    {
      "cell_type": "markdown",
      "source": [
        "# 5 - Estruturas de controle de fluxo"
      ],
      "metadata": {
        "id": "bbPX2bh-mMPQ"
      }
    },
    {
      "cell_type": "markdown",
      "source": [
        "## 5.1 - IF ELIF ELSE"
      ],
      "metadata": {
        "id": "1tOYC_NumRfX"
      }
    },
    {
      "cell_type": "code",
      "source": [
        "'''\n",
        "if comparação for verdadeira:\n",
        "  o que deve ser feito caso o resultado da comparação do if for True\n",
        "else:\n",
        "  o que deve ser feito caso o resultado do if seja False\n",
        "'''"
      ],
      "metadata": {
        "id": "fVrfVQ1kk1Y1"
      },
      "execution_count": null,
      "outputs": []
    },
    {
      "cell_type": "code",
      "source": [
        "'''\n",
        "if comparação for verdadeira:\n",
        "  o que deve ser feito caso o resultado da comparação do if for True\n",
        "elif segunda comparação for verdadeira:\n",
        "  o que deve ser feito caso o resultado da 2ª comparação do if for True\n",
        "else:\n",
        "  o que deve ser feito caso o resultado do if seja False e do elif também seja False\n",
        "'''"
      ],
      "metadata": {
        "id": "x1mnj6mNnBFw"
      },
      "execution_count": null,
      "outputs": []
    },
    {
      "cell_type": "code",
      "source": [
        "'''\n",
        "Imagine que você deseja pedir ao usuário que digite uma nota de 0 a 10\n",
        "e caso a nota seja maior ou igual 6 seja exibida a mensagem: Parabéns você foi\n",
        "aprovado!, caso contrário exiba: Infelizmente você não foi aprovado dessa vez!\n",
        "continue tentando.\n",
        "'''\n",
        "nota = float(input('Informe uma nota de 0 a 10: '))\n",
        "if nota >= 6:\n",
        "  print('Parabéns você foi aprovado!')\n",
        "else:\n",
        "  print('Infelizmente você não foi aprovado dessa vez! continue tentando.')"
      ],
      "metadata": {
        "colab": {
          "base_uri": "https://localhost:8080/"
        },
        "id": "MjvY_ccvmX58",
        "outputId": "af3399cc-b7c4-410c-9caa-4ddcc457669c"
      },
      "execution_count": null,
      "outputs": [
        {
          "output_type": "stream",
          "name": "stdout",
          "text": [
            "Informe uma nota de 0 a 10: 5.99999\n",
            "Infelizmente você não foi aprovado dessa vez! continue tentando.\n"
          ]
        }
      ]
    },
    {
      "cell_type": "code",
      "source": [
        "'''\n",
        "Agora imagine que você tem três possibilidades:\n",
        "1ª Nota maior ou igual a 6: 'Parabéns você foi aprovado!'\n",
        "2ª Nota menor que 6, mas maior ou igual a 4: 'Você deverá fazer uma prova de recuperação'\n",
        "3ª Nota menor que 4:'Infelizmente você não foi aprovado dessa vez! continue tentando.'\n",
        "'''\n",
        "nota = float(input('Informe uma nota de 0 a 10: '))\n",
        "if nota >= 6:\n",
        "  print('Parabéns você foi aprovado!')\n",
        "elif nota >= 4:\n",
        "  print('Você deverá fazer uma prova de recuperação')\n",
        "else:\n",
        "  print('Infelizmente você não foi aprovado dessa vez! continue tentando.')"
      ],
      "metadata": {
        "colab": {
          "base_uri": "https://localhost:8080/"
        },
        "id": "ezSyN1wos0vf",
        "outputId": "61a84f3e-a089-4042-8159-2217b055d037"
      },
      "execution_count": null,
      "outputs": [
        {
          "output_type": "stream",
          "name": "stdout",
          "text": [
            "Informe uma nota de 0 a 10: 3.999\n",
            "Infelizmente você não foi aprovado dessa vez! continue tentando.\n"
          ]
        }
      ]
    },
    {
      "cell_type": "code",
      "source": [
        "'''\n",
        "Agora imagine que você tem quatro possibilidades:\n",
        "1ª Nota maior ou igual a 6: 'Parabéns você foi aprovado!'\n",
        "2ª Nota menor que 6, mas maior ou igual a 4: 'Você deverá fazer uma prova de recuperação online'\n",
        "3ª Nota menor 4, mas maio ou igual a 2: 'Você deverá fazer uma prova de recuperação presencial'\n",
        "4ª Nota menor que 2:'Infelizmente você não foi aprovado dessa vez! continue tentando.'\n",
        "'''\n",
        "nota = float(input('Informe uma nota de 0 a 10: '))\n",
        "if nota >= 6:\n",
        "  print('Parabéns você foi aprovado!')\n",
        "elif nota >= 4:\n",
        "  print('Você deverá fazer uma prova de recuperação online')\n",
        "elif nota >= 2:\n",
        "  print('Você deverá fazer uma prova de recuperação presencial')\n",
        "else:\n",
        "  print('Infelizmente você não foi aprovado dessa vez! continue tentando.')"
      ],
      "metadata": {
        "colab": {
          "base_uri": "https://localhost:8080/"
        },
        "id": "34yjARJcubGF",
        "outputId": "e30f73d1-ad6d-4373-d9c8-01b9ef85d1e7"
      },
      "execution_count": null,
      "outputs": [
        {
          "output_type": "stream",
          "name": "stdout",
          "text": [
            "Informe uma nota de 0 a 10: 1.99\n",
            "Infelizmente você não foi aprovado dessa vez! continue tentando.\n"
          ]
        }
      ]
    },
    {
      "cell_type": "code",
      "source": [
        "'''\n",
        "Igine que no exemplo das notas, você deseja diferenciar a mensagem para o aluno\n",
        "que tirar nota máxima, como por exemplo escrever:\n",
        "Parabéns, você foi aprovado com nota máxima!\n",
        "'''\n",
        "nota = float(input('Informe uma nota de 0 a 10: '))\n",
        "if nota == 10:\n",
        "  print('Parabéns, você foi aprovado com nota máxima!')\n",
        "else:\n",
        "  if nota >= 6:\n",
        "    print('Parabéns você foi aprovado!')\n",
        "  elif nota >= 4:\n",
        "    print('Você deverá fazer uma prova de recuperação online')\n",
        "  elif nota >= 2:\n",
        "    print('Você deverá fazer uma prova de recuperação presencial')\n",
        "  else:\n",
        "    print('Infelizmente você não foi aprovado dessa vez! continue tentando.')"
      ],
      "metadata": {
        "colab": {
          "base_uri": "https://localhost:8080/"
        },
        "id": "UdRY6TZsfVVu",
        "outputId": "3c4ed282-ee09-4cc4-d518-61b5e1a7322b"
      },
      "execution_count": null,
      "outputs": [
        {
          "output_type": "stream",
          "name": "stdout",
          "text": [
            "Informe uma nota de 0 a 10: 1.9\n",
            "Infelizmente você não foi aprovado dessa vez! continue tentando.\n"
          ]
        }
      ]
    },
    {
      "cell_type": "code",
      "source": [
        "'''\n",
        "Igine que no exemplo das notas, você deseja diferenciar a mensagem para o aluno\n",
        "que tirar nota máxima, como por exemplo escrever:\n",
        "Parabéns, você foi aprovado com nota máxima!\n",
        "'''\n",
        "nota = float(input('Informe uma nota de 0 a 10: '))\n",
        "if nota != 10:\n",
        "  if nota >= 6:\n",
        "    print('Parabéns você foi aprovado!')\n",
        "  elif nota >= 4:\n",
        "    print('Você deverá fazer uma prova de recuperação online')\n",
        "  elif nota >= 2:\n",
        "    print('Você deverá fazer uma prova de recuperação presencial')\n",
        "  else:\n",
        "    print('Infelizmente você não foi aprovado dessa vez! continue tentando.')\n",
        "else:\n",
        "  print('Parabéns, você foi aprovado com nota máxima!')"
      ],
      "metadata": {
        "colab": {
          "base_uri": "https://localhost:8080/"
        },
        "id": "rDLf4bsMgS3d",
        "outputId": "4e55d317-ae82-42f2-b760-8a4f12b04ef4"
      },
      "execution_count": null,
      "outputs": [
        {
          "output_type": "stream",
          "name": "stdout",
          "text": [
            "Informe uma nota de 0 a 10: 10\n",
            "Parabéns, você foi aprovado com nota máxima!\n"
          ]
        }
      ]
    },
    {
      "cell_type": "code",
      "source": [
        "'''\n",
        "Imagine que você deseja que um usuário digite dois números quaisquer, e na\n",
        "sequência o programa exibe o maior deles\n",
        "'''\n",
        "a = float(input('Informe um número qualquer: '))\n",
        "b = float(input('Informe outro número qualquer: '))\n",
        "if a == b:\n",
        "  print('Você informou dois números iguais!')\n",
        "else:\n",
        "  if a > b:\n",
        "    print(f'O maior número informado é chamado de \"a\" e é igual a {a}')\n",
        "  else:\n",
        "    print(f'O maior número informado é chamado de \"b\" e é igual a {b}')"
      ],
      "metadata": {
        "colab": {
          "base_uri": "https://localhost:8080/"
        },
        "id": "z_nMZdgmc5ts",
        "outputId": "28bf46ec-b95e-4548-d3bd-0c4197a5cc2b"
      },
      "execution_count": null,
      "outputs": [
        {
          "output_type": "stream",
          "name": "stdout",
          "text": [
            "Informe um número qualquer: 5\n",
            "Informe outro número qualquer: 5\n",
            "Você informou dois números iguais!\n"
          ]
        }
      ]
    },
    {
      "cell_type": "markdown",
      "source": [
        "## 5.2 - Estrutura de repetição - FOR"
      ],
      "metadata": {
        "id": "49f3RC2mq-IQ"
      }
    },
    {
      "cell_type": "code",
      "source": [
        "palavra = 'love' # cria a variável palvra que recebe o texto love\n",
        "for letra in palavra: # declara o seguinte: para cada letra em palavra faça algo:\n",
        "  print(letra) # define o \"algo\" da linha anterior como exiba cada letra"
      ],
      "metadata": {
        "colab": {
          "base_uri": "https://localhost:8080/"
        },
        "id": "yOAoq8WGrPWs",
        "outputId": "261f615d-4aff-4db3-e958-a7fd26b59b53"
      },
      "execution_count": null,
      "outputs": [
        {
          "output_type": "stream",
          "name": "stdout",
          "text": [
            "l\n",
            "o\n",
            "v\n",
            "e\n"
          ]
        }
      ]
    },
    {
      "cell_type": "code",
      "source": [
        "palavra = 'love' # cria a variável palvra que recebe o texto love\n",
        "for a in palavra: # declara o seguinte: para cada letra em palavra faça algo:\n",
        "  print(a) # declara o seguinte: para cada letra em palavra faça algo:"
      ],
      "metadata": {
        "colab": {
          "base_uri": "https://localhost:8080/"
        },
        "id": "3DTFoVGotuse",
        "outputId": "f1eb9918-3944-4a5f-eedc-76e7b944fac4"
      },
      "execution_count": null,
      "outputs": [
        {
          "output_type": "stream",
          "name": "stdout",
          "text": [
            "l\n",
            "o\n",
            "v\n",
            "e\n"
          ]
        }
      ]
    },
    {
      "cell_type": "code",
      "source": [
        "lista = ['a','b','c','d'] # cria uma lista com as letras a,b,c,d\n",
        "for item in lista: # declara que para cada item encontrado na lista faça algo\n",
        "  print(item) # difine o que deve ser feito com cada item encontrado (exibí-lo)"
      ],
      "metadata": {
        "colab": {
          "base_uri": "https://localhost:8080/"
        },
        "id": "pMCHsDU6skHW",
        "outputId": "5200142f-a348-4ec3-cc6a-e074565688a6"
      },
      "execution_count": null,
      "outputs": [
        {
          "output_type": "stream",
          "name": "stdout",
          "text": [
            "a\n",
            "b\n",
            "c\n",
            "d\n"
          ]
        }
      ]
    },
    {
      "cell_type": "code",
      "source": [
        "tupla = (1,2,3,4) # Cria uma tupla com os números 1,2,3,4\n",
        "for numero in tupla: # declara que para cada numero encontrado seja feito algo\n",
        "  print(numero) # Define o que deve ser feito com cada número encontrado"
      ],
      "metadata": {
        "colab": {
          "base_uri": "https://localhost:8080/"
        },
        "id": "1SYe5IA4s3Ov",
        "outputId": "37ec87f1-9b05-48e5-98e6-657d1a5a61ac"
      },
      "execution_count": null,
      "outputs": [
        {
          "output_type": "stream",
          "name": "stdout",
          "text": [
            "1\n",
            "2\n",
            "3\n",
            "4\n"
          ]
        }
      ]
    },
    {
      "cell_type": "code",
      "source": [
        "for i in range(4):# declara que para cada i (índice) encontrado em uma sequencia de qutro números (começando em 0) seja feito algo\n",
        "  print(i) # exiba cada número gerado na sequência declarada anteriormente"
      ],
      "metadata": {
        "colab": {
          "base_uri": "https://localhost:8080/"
        },
        "id": "IeqYkT7wvoo7",
        "outputId": "bff43849-18f8-4635-bd96-7a9a468b8bc2"
      },
      "execution_count": null,
      "outputs": [
        {
          "output_type": "stream",
          "name": "stdout",
          "text": [
            "0\n",
            "1\n",
            "2\n",
            "3\n"
          ]
        }
      ]
    },
    {
      "cell_type": "code",
      "source": [
        "'''\n",
        "crie uma estrutura que percorra uma sequência e imprima os índices dessa sequência\n",
        "'''\n",
        "palavra = 'love'# cria a variável palvra que recebe o texto love\n",
        "for i in range(4):# declara que para cada i (índice) encontrado em uma sequencia de qutro números (começando em 0) seja feito algo\n",
        "  print(palavra[i]) # define que seja exibida cada letra da palavra associada a cada índice gerando na declaração for"
      ],
      "metadata": {
        "colab": {
          "base_uri": "https://localhost:8080/"
        },
        "id": "xVfnMz0muJyR",
        "outputId": "b25e0e44-4668-4ff4-c2f1-7f54181bfd50"
      },
      "execution_count": null,
      "outputs": [
        {
          "output_type": "stream",
          "name": "stdout",
          "text": [
            "l\n",
            "o\n",
            "v\n",
            "e\n"
          ]
        }
      ]
    },
    {
      "cell_type": "code",
      "source": [
        "palavra = 'love'# cria a variável palvra que recebe o texto love\n",
        "for i in range(len(palavra)):# declara que para cada i (índice) encontrado em uma sequencia de n números (começando em 0) seja feito algo\n",
        "  print(palavra[i]) # define que seja exibida cada letra da palavra associada a cada índice gerando na declaração for"
      ],
      "metadata": {
        "colab": {
          "base_uri": "https://localhost:8080/"
        },
        "id": "VF2LdTHlwdgP",
        "outputId": "8f0b1d9c-f94e-4b18-df08-f99247b3876d"
      },
      "execution_count": null,
      "outputs": [
        {
          "output_type": "stream",
          "name": "stdout",
          "text": [
            "l\n",
            "o\n",
            "v\n",
            "e\n"
          ]
        }
      ]
    },
    {
      "cell_type": "code",
      "source": [
        "palavra = 'love' # cria a variável palvra que recebe o texto love\n",
        "for i, v in enumerate(palavra):# declara que para cada i (índice) encontrado em uma sequencia de n números (começando em 0) seja feito algo\n",
        "  print(i,v) # define que seja exibida cada letra da palavra associada a cada índice gerando na declaração for"
      ],
      "metadata": {
        "colab": {
          "base_uri": "https://localhost:8080/"
        },
        "id": "GM0LSYSQwplf",
        "outputId": "66319768-fc7e-4296-eab0-22d70437893c"
      },
      "execution_count": null,
      "outputs": [
        {
          "output_type": "stream",
          "name": "stdout",
          "text": [
            "0 l\n",
            "1 o\n",
            "2 v\n",
            "3 e\n"
          ]
        }
      ]
    },
    {
      "cell_type": "code",
      "source": [
        "cidade = 'botucatu' # cria a variável cidade que recebe o texto botucatu\n",
        "for i in range(1,8,2):# declara que para cada i (índice) encontrado em uma sequencia de n números (começando em 1, parando em 8 e de 2 em 2) seja feito algo\n",
        "  print(cidade[i]) # define que seja exibida cada letra da palavra associada a cada índice gerando na declaração for"
      ],
      "metadata": {
        "colab": {
          "base_uri": "https://localhost:8080/"
        },
        "id": "dfPihzu8yExJ",
        "outputId": "8ddf4af1-d253-47ad-9bcd-4acc2c470956"
      },
      "execution_count": null,
      "outputs": [
        {
          "output_type": "stream",
          "name": "stdout",
          "text": [
            "o\n",
            "u\n",
            "a\n",
            "u\n"
          ]
        }
      ]
    },
    {
      "cell_type": "markdown",
      "source": [
        "### 5.2.1 - Método sum"
      ],
      "metadata": {
        "id": "rqHa9-l2BN85"
      }
    },
    {
      "cell_type": "code",
      "source": [
        "# método sum\n",
        "'''\n",
        "soma os vamlores de uma sequência, caso ela seja numérica\n",
        "exemplo:\n",
        "'''\n",
        "numeros = [1,2,3,4]\n",
        "print(sum(numeros))"
      ],
      "metadata": {
        "colab": {
          "base_uri": "https://localhost:8080/"
        },
        "id": "7KO--UPmAuCx",
        "outputId": "feb80d18-0019-4e12-d8a4-552dd725731c"
      },
      "execution_count": null,
      "outputs": [
        {
          "output_type": "stream",
          "name": "stdout",
          "text": [
            "10\n"
          ]
        }
      ]
    },
    {
      "cell_type": "code",
      "source": [
        "'''\n",
        "Crie um programa que receba do usuário n notas (1 ou mais notas), calcule a\n",
        "média aritmética delas e caso a média seja maior ou igual a 6 exiba a mensagem\n",
        "Parabéns, você foi aprovado, caso a média seja menor que 6 mas maior ou igual a\n",
        "4 exiba a mensagem você está em recuperação, caso a média seja menor que 4 exiba\n",
        "a mensagem  Infelizmente você não foi aprovado e caso a média seja igual a\n",
        "10 exiba a mensagem Parabéns você foi aprovado com nota máxima.\n",
        " Obd.: as n notas digitadas pelo usuário deverão ser informadas em um único input\n",
        " separadas por espaços.\n",
        "'''\n",
        "notas = input('Informe as notas de 0 a 10 separadas por espaços: ')\n",
        "notas = notas.split()\n",
        "for i, v in enumerate(notas):\n",
        "  notas[i] = float(v)\n",
        "media = sum(notas)/len(notas)\n",
        "print(media)\n",
        "if media == 10:\n",
        "  print('Parabéns você foi aprovado com nota máxima!')\n",
        "else:\n",
        "  if media >= 6:\n",
        "    print('Parabéns você foi aprovado!')\n",
        "  elif media >= 4:\n",
        "    print('Você ficou de recuperação!')\n",
        "  else:\n",
        "    print('Infelizmente você não foi aprovado!')"
      ],
      "metadata": {
        "colab": {
          "base_uri": "https://localhost:8080/"
        },
        "id": "oeu2Jo5o49Bg",
        "outputId": "d2176cc7-381f-4e8d-9ef1-a606d485addb"
      },
      "execution_count": null,
      "outputs": [
        {
          "output_type": "stream",
          "name": "stdout",
          "text": [
            "Informe as notas de 0 a 10 separadas por espaços: 6 6 6 6\n",
            "6.0\n",
            "Parabéns você foi aprovado!\n"
          ]
        }
      ]
    },
    {
      "cell_type": "code",
      "source": [
        "'''\n",
        "Alternativa usando o range\n",
        "'''\n",
        "notas = input('Informe as notas de 0 a 10 separadas por espaços: ')\n",
        "notas = notas.split()\n",
        "for i in range(len(notas)):\n",
        "  notas[i] = float(notas[i])\n",
        "media = sum(notas)/len(notas)\n",
        "print(media)\n",
        "if media == 10:\n",
        "  print('Parabéns você foi aprovado com nota máxima!')\n",
        "else:\n",
        "  if media >= 6:\n",
        "    print('Parabéns você foi aprovado!')\n",
        "  elif media >= 4:\n",
        "    print('Você ficou de recuperação!')\n",
        "  else:\n",
        "    print('Infelizmente você não foi aprovado!')"
      ],
      "metadata": {
        "id": "dSRB1xnnGa5E"
      },
      "execution_count": null,
      "outputs": []
    },
    {
      "cell_type": "code",
      "source": [
        "'''\n",
        "Crie uma lista com o nome de idades com os seguintes números 48, 55, 62 77 78 80\n",
        "'''\n",
        "idades = [48,55,62,77,78,80]\n",
        "\n",
        "'''\n",
        "Agora converta cada valor da lista em uma string\n",
        "'''\n",
        "\n",
        "for i in range(len(idades)):\n",
        "  idades[i] = str(idades[i])\n",
        "print(idades)\n",
        "\n",
        "'''\n",
        "alternativa utilizando o enumerate\n",
        "'''\n",
        "for i, v in enumerate(idades):\n",
        "  idades[i] = str(v)\n",
        "print(idades)"
      ],
      "metadata": {
        "colab": {
          "base_uri": "https://localhost:8080/"
        },
        "id": "TioSQkudZuF6",
        "outputId": "09b51c02-9ce0-4ab1-d13d-02cdb1bc894a"
      },
      "execution_count": null,
      "outputs": [
        {
          "output_type": "stream",
          "name": "stdout",
          "text": [
            "['48', '55', '62', '77', '78', '80']\n",
            "['48', '55', '62', '77', '78', '80']\n"
          ]
        }
      ]
    },
    {
      "cell_type": "code",
      "source": [
        "'''\n",
        "Crie uma entrada de dados numéricos (notas de 0 a 10) em um único input onde os\n",
        "valores são informados e separados por espaços, e armazene isso tudo\n",
        "em uma variável chamada nota, a seguir verifique qual tipo de dados\n",
        "está armazenado nessa variável.\n",
        "'''\n",
        "nota = input('Informe as notas de 0 a 10 separadas por espaços: ')\n",
        "print(type(nota))\n",
        "\n",
        "'''\n",
        "Agora separe os valores armazenados em nota utilizando os espaços como\n",
        "separadores e armazene tudo em um objeto chamado notas.\n",
        "'''\n",
        "notas = nota.split()\n",
        "\n",
        "'''\n",
        "Agora converta cada valor do objeto notas em número do tipo float,\n",
        "e na sequência exiba o objeto notas e a soma de todos os valores deste\n",
        "objeto\n",
        "'''\n",
        "\n",
        "for i in range(len(notas)):\n",
        "  notas[i] = float(notas[i])\n",
        "print(sum(notas))\n",
        "\n",
        "# Alternativa usando o enumerate\n",
        "\n",
        "for i, v in enumerate(notas):\n",
        "  notas[i] = float(v)\n",
        "print(sum(notas))\n",
        "\n",
        "'''\n",
        "Agora elabore um código que a partir dos valores da lista notas calcule a\n",
        "média aritmética e exiba o valor dessa média\n",
        "'''\n",
        "\n",
        "media = sum(notas)/len(notas)\n",
        "print(media)\n",
        "\n",
        "'''\n",
        "Agora crie um código que caso a média seja maior ou igual a 6 exiba a mensagem\n",
        "Parabéns, você foi aprovado, caso a média seja menor que 6 mas maior ou igual a\n",
        "4 exiba a mensagem você está em recuperação, caso a média seja menor que 4 exiba\n",
        "a mensagem  Infelizmente você não foi aprovado e caso a média seja igual a\n",
        "10 exiba a mensagem Parabéns você foi aprovado com nota máxima.\n",
        "'''\n",
        "\n",
        "if media == 10:\n",
        "  print('Parabéns você foi aprovado com nota máxima!')\n",
        "else:\n",
        "  if media >= 6:\n",
        "    print('Parabéns você foi aprovado!')\n",
        "  elif media >= 4:\n",
        "    print('Você ficou de recuperação!')\n",
        "  else:\n",
        "    print('Infelizmente você não foi aprovado!')"
      ],
      "metadata": {
        "colab": {
          "base_uri": "https://localhost:8080/"
        },
        "id": "OXNyS2rLdYi1",
        "outputId": "7632ec0d-c1ba-4c55-e7fd-568ae69a9fee"
      },
      "execution_count": null,
      "outputs": [
        {
          "output_type": "stream",
          "name": "stdout",
          "text": [
            "Informe as notas de 0 a 10 separadas por espaços: 10 10 10\n",
            "<class 'str'>\n",
            "30.0\n",
            "30.0\n",
            "10.0\n",
            "Parabéns você foi aprovado com nota máxima!\n"
          ]
        }
      ]
    },
    {
      "cell_type": "markdown",
      "source": [
        "## 5.3 - Laço While"
      ],
      "metadata": {
        "id": "wja0N1LPvDiD"
      }
    },
    {
      "cell_type": "code",
      "source": [
        "'''\n",
        "Imagine que você deseja criar um programa que inicialmente solicite ao usuário\n",
        "uma quantidade de notas que ele deseja informar armazenando-a em uma variável\n",
        "chamada n, e na sequência o programa execute um loop while solicitando nota por\n",
        "nota e armazendando-as em uma lista chamada notas, até que a quantidade de notas\n",
        "nessa lista seja igual a quantidade informada pelo usuário na variável n.\n",
        "'''\n",
        "n = int(input('''Informe um número inteiro que representa a\n",
        "quantidade de notas que deseja informar: '''))\n",
        "c = 0\n",
        "notas = []\n",
        "while c < n:\n",
        "  notas.append(float(input(f'Informe a {c+1}ª nota de 0 a 10: ')))\n",
        "  c += 1\n",
        "print(notas)"
      ],
      "metadata": {
        "id": "XqoYQldCuvQG"
      },
      "execution_count": null,
      "outputs": []
    },
    {
      "cell_type": "code",
      "source": [
        "dadosx = input('Informe os valores de x separados por espaços: ')\n",
        "dadosy = input('''Informe os valores de y separados por espaços\n",
        "(informe a mesma quantidade de dados informados em x): ''')\n",
        "x = dadosx.split()\n",
        "y = dadosy.split()\n",
        "xq = []\n",
        "yq = []\n",
        "xy = []\n",
        "for i in range(len(x)):\n",
        "  x[i] = float(x[i])\n",
        "  y[i] = float(y[i])\n",
        "  xq.append(x[i]**2)\n",
        "  yq.append(y[i]**2)\n",
        "  xy.append(x[i]*y[i])\n",
        "n = len(x)\n",
        "sx = sum(x)\n",
        "sy = sum(y)\n",
        "sxq = sum(xq)\n",
        "syq = sum(yq)\n",
        "sxy = sum(xy)\n",
        "r = (sxy - (sx * sy / n)) / ((sxq - sx**2/n) * (syq - sy**2/n))**(1/2)\n",
        "rq = r**2\n",
        "if rq > 0.5:\n",
        "  if r > 0:\n",
        "    print(f'O coeficiente de correlação é {r:.4f} e indica forte correlação positiva')\n",
        "  else:\n",
        "    print(f'O coeficiente de correlação é {r:.4f} e indica que temos forte correlação negativa')\n",
        "else:\n",
        "  print(f'O coeficiente de correlação é {r:.4f} e indica baixa correlação')"
      ],
      "metadata": {
        "colab": {
          "base_uri": "https://localhost:8080/"
        },
        "id": "2riqqav1KDG5",
        "outputId": "c72d321e-9213-4ece-a53e-3393371f8f9f"
      },
      "execution_count": null,
      "outputs": [
        {
          "output_type": "stream",
          "name": "stdout",
          "text": [
            "Informe os valores de x separados por espaços: 1 2 3 4 5\n",
            "Informe os valores de y separados por espaços \n",
            "(informe a mesma quantidade de dados informados em x): 8 5 4 2 1\n",
            "O coeficiente de correlação é -0.9815 e indica que temos forte correlação negativa\n"
          ]
        }
      ]
    },
    {
      "cell_type": "markdown",
      "source": [
        "## 5.4 - Instrução Break"
      ],
      "metadata": {
        "id": "lT3jCpSPwXx4"
      }
    },
    {
      "cell_type": "code",
      "source": [
        "'''\n",
        "Imagine que você deseja utilizar uma estrutura for combinada com a função range\n",
        "para percorrer e imprimir uma sequência de tamanho 10, ou seja, que como saída\n",
        "tenhamos 10 prints de 10 números diferentes\n",
        "'''\n",
        "for i in range(10):\n",
        "  print(f'O {i+1}º valor é {i}')"
      ],
      "metadata": {
        "colab": {
          "base_uri": "https://localhost:8080/"
        },
        "id": "rIp0RYhbwerr",
        "outputId": "e3d50b18-c638-4931-b361-06e764c4efab"
      },
      "execution_count": null,
      "outputs": [
        {
          "output_type": "stream",
          "name": "stdout",
          "text": [
            "O 1º valor é 0\n",
            "O 2º valor é 1\n",
            "O 3º valor é 2\n",
            "O 4º valor é 3\n",
            "O 5º valor é 4\n",
            "O 6º valor é 5\n",
            "O 7º valor é 6\n",
            "O 8º valor é 7\n",
            "O 9º valor é 8\n",
            "O 10º valor é 9\n"
          ]
        }
      ]
    },
    {
      "cell_type": "code",
      "source": [
        "'''\n",
        "Imagine que na mesma situação do exercício anterior você\n",
        "deseja interromper o ciclo de impressões após o programa ter\n",
        "impresso 5 valores diferentes\n",
        "'''\n",
        "for i in range(10):\n",
        "  if i == 5:\n",
        "    break\n",
        "  print(f'O {i+1}º valor é {i}')"
      ],
      "metadata": {
        "colab": {
          "base_uri": "https://localhost:8080/"
        },
        "id": "-DB5d_EYESlS",
        "outputId": "9edc660e-31e0-46b0-e18c-0a3f21266f6b"
      },
      "execution_count": null,
      "outputs": [
        {
          "output_type": "stream",
          "name": "stdout",
          "text": [
            "O 1º valor é 0\n",
            "O 2º valor é 1\n",
            "O 3º valor é 2\n",
            "O 4º valor é 3\n",
            "O 5º valor é 4\n"
          ]
        }
      ]
    },
    {
      "cell_type": "markdown",
      "source": [
        "## 5.5 - Instrução continue\n",
        "\n",
        "\n"
      ],
      "metadata": {
        "id": "L38ATSCiMDv-"
      }
    },
    {
      "cell_type": "code",
      "source": [
        "'''\n",
        "Ainda imaginando a situação original, suponha que você deseja imprimir\n",
        "toda a sequencia exceto um determinado valor, por exemplo o 5\n",
        "'''\n",
        "for i in range(10):\n",
        "  if i == 5:\n",
        "    continue\n",
        "  print(f'O {i+1}º valor é {i}')"
      ],
      "metadata": {
        "colab": {
          "base_uri": "https://localhost:8080/"
        },
        "id": "RxiMWVTbGxf5",
        "outputId": "644b5e64-b5e1-46e3-f269-64e1654c187b"
      },
      "execution_count": null,
      "outputs": [
        {
          "output_type": "stream",
          "name": "stdout",
          "text": [
            "O 1º valor é 0\n",
            "O 2º valor é 1\n",
            "O 3º valor é 2\n",
            "O 4º valor é 3\n",
            "O 5º valor é 4\n",
            "O 7º valor é 6\n",
            "O 8º valor é 7\n",
            "O 9º valor é 8\n",
            "O 10º valor é 9\n"
          ]
        }
      ]
    },
    {
      "cell_type": "markdown",
      "source": [
        "## 5.6 - Declaração pass"
      ],
      "metadata": {
        "id": "JyqROEOFMKYc"
      }
    },
    {
      "cell_type": "code",
      "source": [
        "'''\n",
        "Imagine que você deseja que o programa ignore a parada estabelecida pelo if\n",
        "'''\n",
        "for i in range(10):\n",
        "  if i == 5:\n",
        "    pass\n",
        "  print(f'O {i+1}º valor é {i}')"
      ],
      "metadata": {
        "colab": {
          "base_uri": "https://localhost:8080/"
        },
        "id": "vbwF7D8HHug6",
        "outputId": "753c147a-10c1-440e-ea99-53668db00496"
      },
      "execution_count": null,
      "outputs": [
        {
          "output_type": "stream",
          "name": "stdout",
          "text": [
            "O 1º valor é 0\n",
            "O 2º valor é 1\n",
            "O 3º valor é 2\n",
            "O 4º valor é 3\n",
            "O 5º valor é 4\n",
            "O 6º valor é 5\n",
            "O 7º valor é 6\n",
            "O 8º valor é 7\n",
            "O 9º valor é 8\n",
            "O 10º valor é 9\n"
          ]
        }
      ]
    },
    {
      "cell_type": "markdown",
      "source": [
        "## 5.7 - while True"
      ],
      "metadata": {
        "id": "uO4kp191MA56"
      }
    },
    {
      "cell_type": "code",
      "source": [
        "'''\n",
        "Imagine que você deseja criar um programa que receba do usuário um número\n",
        "inteiro que defina quantas vezes será impressa a expressão \"olá mundo!\" e depois\n",
        "imprima essa expressão exatamente na quantidade informada pelo usuário\n",
        "'''"
      ],
      "metadata": {
        "id": "0-0OV1BTNHfX"
      },
      "execution_count": null,
      "outputs": []
    },
    {
      "cell_type": "code",
      "source": [
        "# Solução 01\n",
        "n = int(input('Informe quantas vezes você deseja ver a mensagem olá mundo: '))\n",
        "c = 0\n",
        "while c < n:\n",
        "  print('Olá Mundo!')\n",
        "  c += 1"
      ],
      "metadata": {
        "colab": {
          "base_uri": "https://localhost:8080/"
        },
        "id": "n2-_M0TVNmyo",
        "outputId": "a52fe0e9-8759-438f-8a27-dbca435d76b4"
      },
      "execution_count": null,
      "outputs": [
        {
          "output_type": "stream",
          "name": "stdout",
          "text": [
            "Informe quantas vezes você deseja ver a mensagem olá mundo: 4\n",
            "Olá Mundo!\n",
            "Olá Mundo!\n",
            "Olá Mundo!\n",
            "Olá Mundo!\n"
          ]
        }
      ]
    },
    {
      "cell_type": "code",
      "source": [
        "# Solução 02 usando while True\n",
        "n = int(input('Informe quantas vezes você deseja ver a mensagem olá mundo: '))\n",
        "c = 0\n",
        "while True:\n",
        "  if c < n:\n",
        "    print('Olá Mundo!')\n",
        "    c += 1\n",
        "  else:\n",
        "    break"
      ],
      "metadata": {
        "colab": {
          "base_uri": "https://localhost:8080/"
        },
        "id": "lFZl9eAsRWLV",
        "outputId": "943f24f7-172a-49e4-a9ca-d551f27d8b1a"
      },
      "execution_count": null,
      "outputs": [
        {
          "output_type": "stream",
          "name": "stdout",
          "text": [
            "Informe quantas vezes você deseja ver a mensagem olá mundo: 3\n",
            "Olá Mundo!\n",
            "Olá Mundo!\n",
            "Olá Mundo!\n"
          ]
        }
      ]
    },
    {
      "cell_type": "code",
      "source": [
        "'''\n",
        "O while True é uma estrutura mais flexível que o while pois não traz a condição\n",
        "na própria lina de declaração while, permitindo assim, que você faça várias\n",
        "outras condições aninhadas logo abaixo da declaração while True.\n",
        "'''"
      ],
      "metadata": {
        "id": "LQ6htQGdVVCt"
      },
      "execution_count": null,
      "outputs": []
    },
    {
      "cell_type": "code",
      "source": [
        "# Exercício\n",
        "'''\n",
        "Elabore um programa que que receba um número inteiro e positivo do usuário e\n",
        "verifique se o número informado é par ou ímpar, se for par imprima uma mensagem\n",
        "dizendo que o número é par e encerre o loop, caso seja ímpar exiba uma mensagem\n",
        "informando que o número não é par e peça para o usuário digitar outro número,\n",
        "até que o número digitado pelo usuário seja par.\n",
        "'''\n",
        "\n",
        "while True:\n",
        "  n = int(input('Informe um número par inteiro e positivo: '))\n",
        "  if n % 2 == 0:\n",
        "    print(f'O número {n} é um número par! Parabéns!')\n",
        "    break\n",
        "  else:\n",
        "    print(f'O número {n} não é um número par, favor informe um número par')"
      ],
      "metadata": {
        "colab": {
          "base_uri": "https://localhost:8080/"
        },
        "id": "SnuFcgz0V_BF",
        "outputId": "0b79e8bd-b8cd-4258-f1a9-80aa48eae2b2"
      },
      "execution_count": null,
      "outputs": [
        {
          "output_type": "stream",
          "name": "stdout",
          "text": [
            "Informe um número par inteiro e positivo: 3\n",
            "O número 3 não é um número par, favor informe um número par\n",
            "Informe um número par inteiro e positivo: 7\n",
            "O número 7 não é um número par, favor informe um número par\n",
            "Informe um número par inteiro e positivo: 4\n",
            "O número 4 é um número par! Parabéns!\n"
          ]
        }
      ]
    },
    {
      "cell_type": "markdown",
      "source": [
        "## 5.8 - Tratamento de erros (TRY e EXCEPT)"
      ],
      "metadata": {
        "id": "Ttjt-n9C485S"
      }
    },
    {
      "cell_type": "code",
      "source": [
        "'''\n",
        "Elabore um programa que receba do usuário um número qualquer e exiba a mensagem:\n",
        "Parabéns você digitou um número!\n",
        "'''"
      ],
      "metadata": {
        "id": "1TqYRcA76U6S"
      },
      "execution_count": null,
      "outputs": []
    },
    {
      "cell_type": "code",
      "source": [
        "while True:\n",
        "  try:\n",
        "    n = float(input('Informe um número qualquer: '))\n",
        "    print('Parabéns você digitou um número!')\n",
        "    break\n",
        "  except:\n",
        "    print('o valor informado não é um número')"
      ],
      "metadata": {
        "colab": {
          "base_uri": "https://localhost:8080/"
        },
        "id": "j1YaLEkb6nQM",
        "outputId": "713efc7f-5f11-43fe-f4d9-50f6d96ab53d"
      },
      "execution_count": null,
      "outputs": [
        {
          "output_type": "stream",
          "name": "stdout",
          "text": [
            "Informe um número qualquer: 7,3\n",
            "o valor informado não é um número\n",
            "Informe um número qualquer: 4\n",
            "Parabéns você digitou um número!\n"
          ]
        }
      ]
    },
    {
      "cell_type": "code",
      "source": [
        "'''\n",
        "Imagine que você tem uma lista com seis nomes de pessoas e outra com seis idades\n",
        "Suponha que a posição de cada nome em sua lista corresponde a mesma posição\n",
        "da sua idade na lista idades. Elabore um código que percorra as duas listas,\n",
        "verifique se a pessoa é maior ou menor de idade (18 anos) e exiba uma mensagem\n",
        "com cada nome, sua idade e um texto informando se essa pessoa é maior ou menor\n",
        "de idade.\n",
        "'''\n",
        "nomes = ['Douglas','Daniela','Pedro','Maria','Eduardo','Ester']\n",
        "idades = [48, 9, 70, 70, 44, 37]\n",
        "for i in range(len(nomes)):\n",
        "  if idades[i] >= 18:\n",
        "    print('*'*50)\n",
        "    print(f'{nomes[i]} tem {idades[i]} anos e é maior de idade')\n",
        "    print('*'*50)\n",
        "  else:\n",
        "    print('*'*50)\n",
        "    print(f'{nomes[i]} tem {idades[i]} anos e é menor de idade')\n",
        "    print('*'*50)"
      ],
      "metadata": {
        "colab": {
          "base_uri": "https://localhost:8080/"
        },
        "id": "V_-3idsp-oNW",
        "outputId": "20536c5a-ab20-4009-f2fc-167f156fc40c"
      },
      "execution_count": null,
      "outputs": [
        {
          "output_type": "stream",
          "name": "stdout",
          "text": [
            "**************************************************\n",
            "Douglas tem 48 anos e é maior de idade\n",
            "**************************************************\n",
            "**************************************************\n",
            "Daniela tem 9 anos e é menor de idade\n",
            "**************************************************\n",
            "**************************************************\n",
            "Pedro tem 70 anos e é maior de idade\n",
            "**************************************************\n",
            "**************************************************\n",
            "Maria tem 70 anos e é maior de idade\n",
            "**************************************************\n",
            "**************************************************\n",
            "Eduardo tem 44 anos e é maior de idade\n",
            "**************************************************\n",
            "**************************************************\n",
            "Ester tem 37 anos e é maior de idade\n",
            "**************************************************\n"
          ]
        }
      ]
    },
    {
      "cell_type": "code",
      "source": [
        "'''\n",
        "Imagine que você tem uma lista com seis nomes de pessoas e outra com seis idades\n",
        "Suponha que a posição de cada nome em sua lista corresponde a mesma posição\n",
        "da sua idade na lista idades. Elabore um código que percorra as duas listas,\n",
        "verifique se a pessoa é maior ou menor de idade (18 anos) e exiba uma mensagem\n",
        "com cada nome, sua idade e um texto informando se essa pessoa é maior ou menor\n",
        "de idade.\n",
        "'''\n",
        "nomes = ['Douglas','Daniela','Pedro','Maria','Eduardo','Ester']\n",
        "idades = [48, 9, 70, 70, 44, 37]\n",
        "for i,v in enumerate(idades):\n",
        "  if idades[i] >= 18:\n",
        "    print('*'*50)\n",
        "    print(f'{nomes[i]} tem {v} anos e é maior de idade')\n",
        "    print('*'*50)\n",
        "  else:\n",
        "    print('*'*50)\n",
        "    print(f'{nomes[i]} tem {v} anos e é menor de idade')\n",
        "    print('*'*50)"
      ],
      "metadata": {
        "colab": {
          "base_uri": "https://localhost:8080/"
        },
        "id": "trM_yWI2EwKJ",
        "outputId": "2e24021b-54cf-4ee3-a07c-131f4425c6e4"
      },
      "execution_count": null,
      "outputs": [
        {
          "output_type": "stream",
          "name": "stdout",
          "text": [
            "**************************************************\n",
            "Douglas tem 48 anos e é maior de idade\n",
            "**************************************************\n",
            "**************************************************\n",
            "Daniela tem 9 anos e é menor de idade\n",
            "**************************************************\n",
            "**************************************************\n",
            "Pedro tem 70 anos e é maior de idade\n",
            "**************************************************\n",
            "**************************************************\n",
            "Maria tem 70 anos e é maior de idade\n",
            "**************************************************\n",
            "**************************************************\n",
            "Eduardo tem 44 anos e é maior de idade\n",
            "**************************************************\n",
            "**************************************************\n",
            "Ester tem 37 anos e é maior de idade\n",
            "**************************************************\n"
          ]
        }
      ]
    },
    {
      "cell_type": "code",
      "source": [
        "'''\n",
        "Imagine que você deseja criar um programa que receba do usuário o valor de um\n",
        "determinado produto e a informação se esse produto é nacional ou importado e\n",
        "retorne para o usuário o valor do imposto a pagar. Considere que se o produto\n",
        "for nacional a alíquota de imposto é de 18% para valores até R$ 200,00 e 25%\n",
        "para valores acima de R$ 200,00. Agora se o produto for importado é isento para\n",
        "valores até R$ 200,00 e pagará 35% para valores acima de R$ 200,00.\n",
        "'''"
      ],
      "metadata": {
        "id": "0ltU0PAAFgx2"
      },
      "execution_count": null,
      "outputs": []
    },
    {
      "cell_type": "code",
      "source": [
        "while True:\n",
        "  try:\n",
        "    valor = float(input('Informe o valor do produto em R$ '))\n",
        "    break\n",
        "  except:\n",
        "    print('valor inválido')\n",
        "nac = input('O produto é nacional? 1 para sim ou 2 para não: ')\n",
        "if nac == '1':\n",
        "  if valor <= 200:\n",
        "    imposto = valor * 0.18\n",
        "  else:\n",
        "    imposto = valor * 0.25\n",
        "else:\n",
        "  if valor > 200:\n",
        "    imposto = valor * 0.35\n",
        "  else:\n",
        "    imposto = 0\n",
        "print(f'O valor do imposto é R$ {imposto:.2f}')"
      ],
      "metadata": {
        "colab": {
          "base_uri": "https://localhost:8080/"
        },
        "id": "moVreERNF2Bl",
        "outputId": "120d6b26-5fb2-462b-809a-8c32896471de"
      },
      "execution_count": null,
      "outputs": [
        {
          "output_type": "stream",
          "name": "stdout",
          "text": [
            "Informe o valor do produto em R$ a\n",
            "valor inválido\n",
            "Informe o valor do produto em R$ 5\n",
            "O produto é nacional? 1 para sim ou 2 para não: 1\n",
            "O valor do imposto é R$ 0.90\n"
          ]
        }
      ]
    },
    {
      "cell_type": "code",
      "source": [
        "'''\n",
        "Elabore um programa que receba do usuários duas sequencias de números separados\n",
        "por espaços com igual quantidade sendo uma sequência em um único input e outra\n",
        "sequência em outro input único\n",
        "'''\n",
        "dadosx = input('Informe uma sequência de números separados por espaços: ')\n",
        "dadosy = input('''Informe outra sequência de números separados por espaços com a\n",
        "mesma quantidade informada na primeira: ''')\n",
        "\n",
        "'''\n",
        "Agora separe cada sequência em uma lista, exemplo: dadosx separado em uma lista\n",
        "camada x e dadosy em uma lista chamada y\n",
        "'''\n",
        "x = dadosx.split()\n",
        "y = dadosy.split()\n",
        "\n",
        "'''\n",
        "percorra cada uma das listas criadas e para cada valor encontrado converta-o em\n",
        "um tipo float\n",
        "'''\n",
        "for i in range(len(x)):\n",
        "  x[i] = float(x[i])\n",
        "for i in range(len(y)):\n",
        "  y[i] = float(y[i])\n",
        "\n",
        "'''\n",
        "Agora crie três listas vazias, sendo xq, yq e xy e as preencha da sequinte forma:\n",
        "\n",
        "1 - xq: percorra a lista de x e para cada valor encontrado o eleve ao\n",
        "quadrado e guarde-o na lista xq\n",
        "\n",
        "2 - yq: percorra a lista de y e para cada valor encontrado o eleve ao\n",
        "quadrado e guarde-o na lista yq\n",
        "\n",
        "3 - xy:  percorra a lista de x e a de y e multiplique cada valor de x pelo\n",
        "seu valor de y correspondente e guarde os resultados na lista xy\n",
        "'''\n",
        "xq = []\n",
        "yq = []\n",
        "xy = []\n",
        "for i in range(len(x)):\n",
        "  xq.append(x[i]**2)\n",
        "for i in range(len(y)):\n",
        "  yq.append(y[i]**2)\n",
        "for i in range(len(x)):\n",
        "  xy.append(x[i]*y[i])\n",
        "'''\n",
        "Agora vamos criar uma variável que armazena o resultado da lista, sendo:\n",
        "sx = soma dos valores da lista x\n",
        "sy = soma dos valores da lista y\n",
        "sxq = soma dos valores da lista xq\n",
        "syq = soma dos valores da lista yq\n",
        "sxy = soma dos valores da lista xy\n",
        "n = a quantidade de elementos de um das listas\n",
        "mediax = a média da lista x\n",
        "mediay = a média da lista y\n",
        "'''\n",
        "sx = sum(x)\n",
        "sy = sum(y)\n",
        "sxq = sum(xq)\n",
        "syq = sum(yq)\n",
        "sxy = sum(xy)\n",
        "n = len(x)\n",
        "mediax = sx/n\n",
        "mediay = sy/n\n",
        "\n",
        "beta = (sxy - (sx * sy /n)) / (sxq - sx**2 / n)\n",
        "a = mediay - beta * mediax\n",
        "print(f'A equação da reta de regressão linear simples é Y = {a:.1f} + {beta:.1f} * x')"
      ],
      "metadata": {
        "colab": {
          "base_uri": "https://localhost:8080/"
        },
        "id": "_dWylkqkWFTJ",
        "outputId": "08105675-19d0-4a29-e9f7-599347688558"
      },
      "execution_count": null,
      "outputs": [
        {
          "output_type": "stream",
          "name": "stdout",
          "text": [
            "Informe uma sequência de números separados por espaços: 1 2 3 4 5\n",
            "Informe outra sequência de números separados por espaços com a \n",
            "mesma quantidade informada na primeira: 1 2 4 5 8\n",
            "A equação da reta de regressão linear simples é Y = -1.1 + 1.7 * x\n"
          ]
        }
      ]
    },
    {
      "cell_type": "markdown",
      "source": [
        "# 6 - Compreensão de listas"
      ],
      "metadata": {
        "id": "SXiyXpM6pMqx"
      }
    },
    {
      "cell_type": "code",
      "source": [
        "'''\n",
        "Exemplo 01: suponha que você tem uma lista com idades em anos e esta lista está\n",
        "desatualizada em exatamente 1 ano, ou seja, para atualizá-la você precisa\n",
        "acrescentar 1 ano em cada idade presente na lista\n",
        "'''\n",
        "idades = [47, 8, 68, 67, 43, 37]\n",
        "\n",
        "'''\n",
        "Método 01 - Usando o for\n",
        "'''\n",
        "novas_idades = []\n",
        "for idade in idades:\n",
        "  novas_idades.append(idade+1)\n",
        "idades = novas_idades\n",
        "print(idades)"
      ],
      "metadata": {
        "colab": {
          "base_uri": "https://localhost:8080/"
        },
        "id": "bOIXwW3apS2V",
        "outputId": "1c9328ab-e960-4585-ae02-8d970fb47665"
      },
      "execution_count": null,
      "outputs": [
        {
          "output_type": "stream",
          "name": "stdout",
          "text": [
            "[48, 9, 69, 68, 44, 38]\n"
          ]
        }
      ]
    },
    {
      "cell_type": "code",
      "source": [
        "idades = [47, 8, 68, 67, 43, 37]\n",
        "for i in range(len(idades)):\n",
        "  idades[i] = idades[i] + 1\n",
        "print(idades)"
      ],
      "metadata": {
        "colab": {
          "base_uri": "https://localhost:8080/"
        },
        "id": "yidRG1vLsFU_",
        "outputId": "55c6a8a2-8a99-4dda-87e8-f0a55d2ad37b"
      },
      "execution_count": null,
      "outputs": [
        {
          "output_type": "stream",
          "name": "stdout",
          "text": [
            "[48, 9, 69, 68, 44, 38]\n"
          ]
        }
      ]
    },
    {
      "cell_type": "code",
      "source": [
        "# Método 2 (usando compreensão de listas)\n",
        "idades = [47, 8, 68, 67, 43, 37]\n",
        "\n",
        "idades = [idade + 1 for idade in idades]\n",
        "print(idades)"
      ],
      "metadata": {
        "colab": {
          "base_uri": "https://localhost:8080/"
        },
        "id": "oX0noyEBqrTk",
        "outputId": "3ffe8f45-a410-466d-cce7-00bbe2a7cb57"
      },
      "execution_count": null,
      "outputs": [
        {
          "output_type": "stream",
          "name": "stdout",
          "text": [
            "[48, 9, 69, 68, 44, 38]\n"
          ]
        }
      ]
    },
    {
      "cell_type": "code",
      "source": [
        "'''\n",
        "Exemplo 02: suponha que você tem duas lista de igual tamanho sendo uma com\n",
        "alturas em metros e a outra com pesos em Kg. Considerando que a posição de cada\n",
        "elemento em uma lista corresponde ao mesmo índice desse elemento na outra lista\n",
        "você deseja criar uma lista com imc para cada elemento.\n",
        "'''\n",
        "alturas = [1.85,1.23,1.75,1.67,1.82,1.73]\n",
        "pesos = [70,22,87,64,96,68]\n"
      ],
      "metadata": {
        "id": "vMnBvmaOtNL-"
      },
      "execution_count": null,
      "outputs": []
    },
    {
      "cell_type": "code",
      "source": [
        "alturas = [1.85,1.23,1.75,1.67,1.82,1.73]\n",
        "pesos = [70,22,87,64,96,68]\n",
        "imc = []\n",
        "for i in range(len(pesos)):\n",
        "  imc.append(round(pesos[i]/alturas[i]**2,2))\n",
        "print(imc)"
      ],
      "metadata": {
        "colab": {
          "base_uri": "https://localhost:8080/"
        },
        "id": "A3UhvB0LtYJn",
        "outputId": "1b18583a-1e78-4203-b74c-c630711ad598"
      },
      "execution_count": null,
      "outputs": [
        {
          "output_type": "stream",
          "name": "stdout",
          "text": [
            "[20.45, 14.54, 28.41, 22.95, 28.98, 22.72]\n"
          ]
        }
      ]
    },
    {
      "cell_type": "code",
      "source": [
        "alturas = [1.85,1.23,1.75,1.67,1.82,1.73]\n",
        "pesos = [70,22,87,64,96,68]\n",
        "imc = []\n",
        "for i,v in enumerate(pesos):\n",
        "  imc.append(round(v/alturas[i]**2,2))\n",
        "print(imc)"
      ],
      "metadata": {
        "colab": {
          "base_uri": "https://localhost:8080/"
        },
        "id": "k0XnmJcCtYfJ",
        "outputId": "c90de1b9-31de-4090-e187-7e6a7a3a7b47"
      },
      "execution_count": null,
      "outputs": [
        {
          "output_type": "stream",
          "name": "stdout",
          "text": [
            "[20.45, 14.54, 28.41, 22.95, 28.98, 22.72]\n"
          ]
        }
      ]
    },
    {
      "cell_type": "code",
      "source": [
        "alturas = [1.85,1.23,1.75,1.67,1.82,1.73]\n",
        "pesos = [70,22,87,64,96,68]\n",
        "imc = [pesos[i]/alturas[i]**2 for i in range(len(pesos))]\n",
        "print(imc)"
      ],
      "metadata": {
        "colab": {
          "base_uri": "https://localhost:8080/"
        },
        "id": "UflzP_Wo1C3h",
        "outputId": "eb131153-039c-4e82-e678-97d40d807146"
      },
      "execution_count": null,
      "outputs": [
        {
          "output_type": "stream",
          "name": "stdout",
          "text": [
            "[20.45288531775018, 14.541608830722454, 28.408163265306122, 22.948115744558788, 28.982007003985025, 22.720438370810918]\n"
          ]
        }
      ]
    },
    {
      "cell_type": "code",
      "source": [
        "'''\n",
        "Imagine que você tem uma lista chamada lista e dentro dela você tem outras duas\n",
        "listas, sendo comidas = ['Arroz', 'Feijão', 'Batata', 'Macarrão'] e a outra\n",
        "bebidas = ['Tubaína', 'Cajuína', 'Dolly', 'Baré']\n",
        "e você deseja guardar no objeto bebida_favorita o texto fatiado Dolly\n",
        "'''\n",
        "\n",
        "lista = [['Arroz','Feijão','Batata','Macarrão'],['Tubaína','Cajuína','Dolly','Baré']]\n",
        "bebida_favorita = lista[1][2]\n",
        "print(bebida_favorita)"
      ],
      "metadata": {
        "colab": {
          "base_uri": "https://localhost:8080/"
        },
        "id": "oI7iQkyjKJGp",
        "outputId": "f37c3f00-65b7-491d-9a95-27e1d983f52e"
      },
      "execution_count": null,
      "outputs": [
        {
          "output_type": "stream",
          "name": "stdout",
          "text": [
            "Dolly\n"
          ]
        }
      ]
    },
    {
      "cell_type": "code",
      "source": [
        "alturas = [1.85,1.23,1.75,1.67,1.82,1.73]\n",
        "pesos = [70,22,87,64,96,68]\n",
        "dados = list(zip(pesos, alturas))\n",
        "print(dados)\n",
        "imc = [i[0]/i[1]**2 for i in dados]\n",
        "print(imc)"
      ],
      "metadata": {
        "colab": {
          "base_uri": "https://localhost:8080/"
        },
        "id": "vAbGUbXQHLjI",
        "outputId": "363b73ab-1088-4782-dc86-5c5e4ba61c67"
      },
      "execution_count": null,
      "outputs": [
        {
          "output_type": "stream",
          "name": "stdout",
          "text": [
            "[(70, 1.85), (22, 1.23), (87, 1.75), (64, 1.67), (96, 1.82), (68, 1.73)]\n",
            "[20.45288531775018, 14.541608830722454, 28.408163265306122, 22.948115744558788, 28.982007003985025, 22.720438370810918]\n"
          ]
        }
      ]
    },
    {
      "cell_type": "code",
      "source": [
        "alturas = [1.85,1.23,1.75,1.67,1.82,1.73]\n",
        "pesos = [70,22,87,64,96,68]\n",
        "imc = [round(peso / altura**2,2) for peso, altura in zip(pesos, alturas)]\n",
        "print(imc)"
      ],
      "metadata": {
        "colab": {
          "base_uri": "https://localhost:8080/"
        },
        "id": "KxZ7qZj1Q5hb",
        "outputId": "fb24bf47-df5a-45af-9d61-49f443242b7b"
      },
      "execution_count": null,
      "outputs": [
        {
          "output_type": "stream",
          "name": "stdout",
          "text": [
            "[20.45, 14.54, 28.41, 22.95, 28.98, 22.72]\n"
          ]
        }
      ]
    },
    {
      "cell_type": "markdown",
      "source": [
        "# 7 - Funções definidas pelo usuário"
      ],
      "metadata": {
        "id": "qVSamviEWCSQ"
      }
    },
    {
      "cell_type": "code",
      "source": [
        "'''\n",
        "Imagine que você deseja criar uma função que imprima o \"Olá!\" todas as vezes\n",
        "que essa função for executada, sem ter a necessidade de usar o print, por\n",
        "exemplo\n",
        "'''\n",
        "def oi():\n",
        "  print('Olá!')\n",
        "'''\n",
        "O processo de criação de uma função é muito simples, devemos começar com a\n",
        "palavra reservada \"def\" seguido de um nome que vamos usar para chamar a função\n",
        "e dpois parenteses para especificar os argumentos da função, lembrando que os\n",
        "argumentos de uma função, são opcionais, observe que no caso de função do\n",
        "exemplo acima, não temos argumentos obrigatórios, e além disso, essa função não\n",
        "possui retorno\n",
        "'''\n",
        "\n",
        "'''\n",
        "Suponha agora que você deseja guardar o texto de saída da função acima em uma\n",
        "variável qualquer\n",
        "'''\n",
        "#oi()\n",
        "\n",
        "'''\n",
        "Observe que a função cumpre o seu papel, ou seja, quando executada, exibe no\n",
        "console o texto \"Olá!\"\n",
        "'''\n",
        "\n",
        "'''\n",
        "agora vamos tentar guardar esse texto em uma variável chamada texto\n",
        "'''\n",
        "\n",
        "texto = oi()\n",
        "print(texto)\n",
        "\n",
        "'''\n",
        "Nesse caso não temos nada guardado na variável texto pq essa função\n",
        "não tem retorno\n",
        "'''"
      ],
      "metadata": {
        "colab": {
          "base_uri": "https://localhost:8080/",
          "height": 70
        },
        "id": "qWFlIBBnWJfS",
        "outputId": "7b7f14cd-a6dd-4cd3-b73c-99e5c9aa6612"
      },
      "execution_count": null,
      "outputs": [
        {
          "output_type": "stream",
          "name": "stdout",
          "text": [
            "Olá!\n",
            "None\n"
          ]
        },
        {
          "output_type": "execute_result",
          "data": {
            "text/plain": [
              "'\\nNesse caso não temos nada guardado na variável texto pq essa função\\nnão tem retorno\\n'"
            ],
            "application/vnd.google.colaboratory.intrinsic+json": {
              "type": "string"
            }
          },
          "metadata": {},
          "execution_count": 76
        }
      ]
    },
    {
      "cell_type": "code",
      "source": [
        "def oi():\n",
        "  return 'Olá!'\n",
        "'''\n",
        "Agora a função oi possui como retorno o texto 'Olá!'\n",
        "e como ela tem retorno esse retorno pode ser armazenado\n",
        "em uma variável, por exemplo\n",
        "'''\n",
        "\n",
        "texto = oi()\n",
        "print(texto)"
      ],
      "metadata": {
        "colab": {
          "base_uri": "https://localhost:8080/"
        },
        "id": "wEyxkJvkZ4n7",
        "outputId": "4c67cc99-ac28-4c9d-badc-0b3c4609be7b"
      },
      "execution_count": null,
      "outputs": [
        {
          "output_type": "stream",
          "name": "stdout",
          "text": [
            "Olá!\n"
          ]
        }
      ]
    },
    {
      "cell_type": "markdown",
      "source": [
        "## 7.1 - Funções com argumentos nomeados e argumentos de posição (Argumentos obrigatórios)"
      ],
      "metadata": {
        "id": "hIb1h3Ukcbco"
      }
    },
    {
      "cell_type": "code",
      "source": [
        "'''\n",
        "Imagine que você precisa fazer uma função que calcula automaticamente o valor\n",
        "total do desconto sobre o valor da compra de um cliente, e esse desconto total,\n",
        "depende de diferentes percentuais que podem ser aplicados sobre o valor total\n",
        "da compra do cliente, tais percentuais podem ser referentes a cupon de desconto,\n",
        "pagamento à vista em pix, clube de vantagens vip e desconto para professores.\n",
        "suponha que nossos clientes possuem todos os descontos e as taxas são fixas:\n",
        "cupon 1%\n",
        "pix 2%\n",
        "vip 3%\n",
        "prof 4%\n",
        "'''\n",
        "def desconto(valor):\n",
        "  cupon = valor * 0.01\n",
        "  pix = valor * 0.02\n",
        "  vip = valor * 0.03\n",
        "  prof = valor * 0.04\n",
        "  return cupon + pix + vip + prof"
      ],
      "metadata": {
        "id": "3Z-K46Unb-Hr"
      },
      "execution_count": null,
      "outputs": []
    },
    {
      "cell_type": "code",
      "source": [
        "print(f'O valor do desconto na sua compra foi de R$ {desconto(1000)}')"
      ],
      "metadata": {
        "colab": {
          "base_uri": "https://localhost:8080/"
        },
        "id": "1_rFXqF0eCRE",
        "outputId": "070fdd7b-68c7-4ce3-bbd5-c490932fad50"
      },
      "execution_count": null,
      "outputs": [
        {
          "output_type": "stream",
          "name": "stdout",
          "text": [
            "O valor do desconto na sua compra foi de R$ 100.0\n"
          ]
        }
      ]
    },
    {
      "cell_type": "code",
      "source": [
        "'''\n",
        "Agora imagine que cupon, pix, vip e prof são variáveis, ou seja\n",
        "cada vez que a função for executada podem receber valores diferentes,\n",
        "nesse caso devemos colocá-los também como argumentos na construção\n",
        "da função\n",
        "'''\n",
        "\n",
        "def desconto(valor, cupon, pix, vip, prof):\n",
        "  desconto = valor * cupon + valor * pix + valor * vip + valor * prof\n",
        "  return desconto"
      ],
      "metadata": {
        "id": "eX7dpAIdejsn"
      },
      "execution_count": null,
      "outputs": []
    },
    {
      "cell_type": "code",
      "source": [
        "desconto(1000,0.01,0.02,0.03,0.04)"
      ],
      "metadata": {
        "colab": {
          "base_uri": "https://localhost:8080/"
        },
        "id": "o_VqWK9JhZSY",
        "outputId": "c9e21683-a60e-45be-82af-ad33c08bccd4"
      },
      "execution_count": null,
      "outputs": [
        {
          "output_type": "execute_result",
          "data": {
            "text/plain": [
              "100.0"
            ]
          },
          "metadata": {},
          "execution_count": 87
        }
      ]
    },
    {
      "cell_type": "code",
      "source": [
        "desconto(vip=0.03,valor=1000,pix=0.02,cupon=0.01,prof=0.04)"
      ],
      "metadata": {
        "colab": {
          "base_uri": "https://localhost:8080/"
        },
        "id": "nQK7eWU-h3lM",
        "outputId": "0b33c6c4-a4ab-4c05-9f6a-bfc4d47c87a4"
      },
      "execution_count": null,
      "outputs": [
        {
          "output_type": "execute_result",
          "data": {
            "text/plain": [
              "100.0"
            ]
          },
          "metadata": {},
          "execution_count": 6
        }
      ]
    },
    {
      "cell_type": "code",
      "source": [
        "'''\n",
        "Imagine que você deseja criar uma função que some três números\n",
        "informados nos argumentos da função quando ela for chamada\n",
        "'''\n",
        "def soma1(n1, n2, n3):\n",
        "  resultado = n1 + n2 + n3\n",
        "  return resultado"
      ],
      "metadata": {
        "id": "RPOi5kIsh6kg"
      },
      "execution_count": null,
      "outputs": []
    },
    {
      "cell_type": "code",
      "source": [
        "'''\n",
        "Imagine que você deseja criar uma função sem argumentos que some três números\n",
        "informados pelo usuário via inputs e retorne o resultado\n",
        "'''\n",
        "def soma():\n",
        "  n1 = int(input('N1: '))\n",
        "  n2 = int(input('N3: '))\n",
        "  n3 = int(input('N3: '))\n",
        "  resultado = n1 + n2 + n3\n",
        "  return resultado"
      ],
      "metadata": {
        "id": "MdMmOwCjkEAn"
      },
      "execution_count": null,
      "outputs": []
    },
    {
      "cell_type": "code",
      "source": [
        "soma()"
      ],
      "metadata": {
        "colab": {
          "base_uri": "https://localhost:8080/"
        },
        "id": "vETHALsrkXre",
        "outputId": "8ec1690c-17e8-462f-91e6-203f7133784d"
      },
      "execution_count": null,
      "outputs": [
        {
          "name": "stdout",
          "output_type": "stream",
          "text": [
            "N1: 3\n",
            "N3: 4\n",
            "N3: 5\n"
          ]
        },
        {
          "output_type": "execute_result",
          "data": {
            "text/plain": [
              "12"
            ]
          },
          "metadata": {},
          "execution_count": 12
        }
      ]
    },
    {
      "cell_type": "markdown",
      "source": [
        "## 7.2 - Quantidade variável de argumentos na função (ARGS e KWARGS)"
      ],
      "metadata": {
        "id": "q8QhTMW6oA_N"
      }
    },
    {
      "cell_type": "code",
      "source": [
        "def desconto2(valor, *args): # cria a função desconto2 com apenas um argumento obrigatório (valor) e os demais argumentos posicionais são opcionais\n",
        "  desconto = 0 # cria a variável desconto com o valor zero, pois a princípio a função foi criada para permitir que o desconto tenha de 0 a n opções (*args)\n",
        "  for arg in args:# percorre cada argumento opcional informado na chamada da função e armazenado na lista args\n",
        "    desconto += arg * valor # multiplica cada valor da lista args pelo valor da compra e adiciona à variável desconto\n",
        "  return desconto # retorna o desconto total"
      ],
      "metadata": {
        "id": "iA2tS3VenveI"
      },
      "execution_count": null,
      "outputs": []
    },
    {
      "cell_type": "code",
      "source": [
        "desconto2(1000,0.01,0.02,0.03,0.04)"
      ],
      "metadata": {
        "colab": {
          "base_uri": "https://localhost:8080/"
        },
        "id": "UPQjjum5pC5e",
        "outputId": "d86a1552-3259-4e1e-8fd0-51e5188223cc"
      },
      "execution_count": null,
      "outputs": [
        {
          "output_type": "execute_result",
          "data": {
            "text/plain": [
              "100.0"
            ]
          },
          "metadata": {},
          "execution_count": 43
        }
      ]
    },
    {
      "cell_type": "code",
      "source": [
        "def desconto3(valor, **kwargs):\n",
        "  desconto = 0\n",
        "  if 'cupon' in kwargs:\n",
        "    desconto += kwargs['cupon'] * valor\n",
        "  if 'pix' in kwargs:\n",
        "    desconto += kwargs['pix'] * valor\n",
        "  if 'vip' in kwargs:\n",
        "     desconto += kwargs['vip'] * valor\n",
        "  if 'prof' in kwargs:\n",
        "    desconto += kwargs['prof'] * valor\n",
        "  return desconto"
      ],
      "metadata": {
        "id": "6PCcSLOVzOvg"
      },
      "execution_count": null,
      "outputs": []
    },
    {
      "cell_type": "code",
      "source": [
        "desconto3(1000, vip=0.03)"
      ],
      "metadata": {
        "colab": {
          "base_uri": "https://localhost:8080/"
        },
        "id": "dYAstla20tNS",
        "outputId": "7bb34905-7a42-4064-c6d4-e4748f0f80a6"
      },
      "execution_count": null,
      "outputs": [
        {
          "output_type": "execute_result",
          "data": {
            "text/plain": [
              "30.0"
            ]
          },
          "metadata": {},
          "execution_count": 48
        }
      ]
    },
    {
      "cell_type": "markdown",
      "source": [
        "# 8 - Módulos"
      ],
      "metadata": {
        "id": "JuVnqgsC_p5m"
      }
    },
    {
      "cell_type": "code",
      "source": [
        "'''\n",
        "Módulos são scripts que podem ser salvos com a extensão .py e importados\n",
        "por outros arquivos python\n",
        "\n",
        "vamos abrir um novo colab e criar um módulo\n",
        "'''"
      ],
      "metadata": {
        "id": "cY5WNmwT_t9z"
      },
      "execution_count": null,
      "outputs": []
    },
    {
      "cell_type": "markdown",
      "source": [
        "## 8.1 - Importando outros módulos já previamente instalados"
      ],
      "metadata": {
        "id": "hew0Hd-tbf6I"
      }
    },
    {
      "cell_type": "code",
      "source": [
        "# Módulo Numpy\n",
        "import numpy as np"
      ],
      "metadata": {
        "id": "NYYv6ySBcak3"
      },
      "execution_count": null,
      "outputs": []
    },
    {
      "cell_type": "code",
      "source": [
        "# Módulo Pandas\n",
        "import pandas as pd"
      ],
      "metadata": {
        "id": "EjLcoMlhcopE"
      },
      "execution_count": null,
      "outputs": []
    },
    {
      "cell_type": "code",
      "source": [
        "# Módulo Seaborn\n",
        "import seaborn as sns"
      ],
      "metadata": {
        "id": "kNf4kjozcucY"
      },
      "execution_count": null,
      "outputs": []
    },
    {
      "cell_type": "code",
      "source": [
        "# Módulo Matplotlib\n",
        "import matplotlib as plt"
      ],
      "metadata": {
        "id": "N6kj-2KKczkO"
      },
      "execution_count": null,
      "outputs": []
    },
    {
      "cell_type": "markdown",
      "source": [
        "## 8.2 Instalando módulos"
      ],
      "metadata": {
        "id": "b_lhXuexc94z"
      }
    },
    {
      "cell_type": "code",
      "source": [
        "pip install pymysql"
      ],
      "metadata": {
        "colab": {
          "base_uri": "https://localhost:8080/"
        },
        "id": "6OpHAGRcdT83",
        "outputId": "8278d096-a2cb-46df-d016-12489b23eeab"
      },
      "execution_count": null,
      "outputs": [
        {
          "output_type": "stream",
          "name": "stdout",
          "text": [
            "Collecting pymysql\n",
            "  Downloading PyMySQL-1.1.0-py3-none-any.whl (44 kB)\n",
            "\u001b[?25l     \u001b[90m━━━━━━━━━━━━━━━━━━━━━━━━━━━━━━━━━━━━━━━━\u001b[0m \u001b[32m0.0/44.8 kB\u001b[0m \u001b[31m?\u001b[0m eta \u001b[36m-:--:--\u001b[0m\r\u001b[2K     \u001b[90m━━━━━━━━━━━━━━━━━━━━━━━━━━━━━━━━━━━━━━━━\u001b[0m \u001b[32m44.8/44.8 kB\u001b[0m \u001b[31m1.5 MB/s\u001b[0m eta \u001b[36m0:00:00\u001b[0m\n",
            "\u001b[?25hInstalling collected packages: pymysql\n",
            "Successfully installed pymysql-1.1.0\n"
          ]
        }
      ]
    },
    {
      "cell_type": "code",
      "source": [
        "import pymysql"
      ],
      "metadata": {
        "id": "NpLQvrc6dEmf"
      },
      "execution_count": null,
      "outputs": []
    },
    {
      "cell_type": "code",
      "source": [
        "'''\n",
        "Elabore um programa que receba do usuário em um único input\n",
        "uma sequência de números e calcule e exiba:\n",
        "a) a média aritmética\n",
        "b) a variância\n",
        "c) o desvio padrão\n",
        "'''\n",
        "dados = input('Informe os valores numéricos separados por espaços: ') # recebe uma string com todos os valores desejados\n",
        "lista = dados.split() # converte a string em uma lista contendo strings numérica separadas\n",
        "n = len(lista)\n",
        "for i in range(n):\n",
        "  lista[i] = float(lista[i])\n",
        "media = sum(lista)/n\n",
        "quad = []\n",
        "for i in range(n):\n",
        "  quad.append((lista[i] - media)**2)\n",
        "var = sum(quad)/(n-1)\n",
        "desvio = var**(1/2)\n",
        "print(f'A média é {media:.2f}')\n",
        "print(f'A variância é {var:.2f}')\n",
        "print(f'O desvio padrão é {desvio:.2f}')"
      ],
      "metadata": {
        "colab": {
          "base_uri": "https://localhost:8080/"
        },
        "id": "ORrOc3hguyzG",
        "outputId": "db8f520c-1cc5-44cc-bd7c-9986389b6240"
      },
      "execution_count": null,
      "outputs": [
        {
          "output_type": "stream",
          "name": "stdout",
          "text": [
            "Informe os valores numéricos separados por espaços: 5 9 7 6 8\n",
            "A média é 7.00\n",
            "A variância é 2.50\n",
            "O desvio padrão é 1.58\n"
          ]
        }
      ]
    },
    {
      "cell_type": "code",
      "source": [
        "'''\n",
        "Elabore um programa que receba do usuário em um único input\n",
        "uma sequência de números e calcule e exiba:\n",
        "a) a média aritmética\n",
        "b) a variância\n",
        "c) o desvio padrão\n",
        "'''\n",
        "dados = input('Informe os valores numéricos separados por espaços: ') # recebe uma string com todos os valores desejados\n",
        "lista = dados.split() # converte a string em uma lista contendo strings numérica separadas\n",
        "n = len(lista)\n",
        "for i,v in enumerate(lista):\n",
        "  lista[i] = float(lista[i])\n",
        "media = sum(lista)/n\n",
        "quad = []\n",
        "for i,v in enumerate(lista):\n",
        "  quad.append((lista[i] - media)**2)\n",
        "var = sum(quad)/(n-1)\n",
        "desvio = var**(1/2)\n",
        "print(f'A média é {media:.2f}')\n",
        "print(f'A variância é {var:.2f}')\n",
        "print(f'O desvio padrão é {desvio:.2f}')"
      ],
      "metadata": {
        "colab": {
          "base_uri": "https://localhost:8080/"
        },
        "id": "r56wyKvU68nu",
        "outputId": "1686a34c-92a0-44cc-d4b5-7442f1e72a3c"
      },
      "execution_count": null,
      "outputs": [
        {
          "output_type": "stream",
          "name": "stdout",
          "text": [
            "Informe os valores numéricos separados por espaços: 5 9 7 6 8\n",
            "A média é 7.00\n",
            "A variância é 2.50\n",
            "O desvio padrão é 1.58\n"
          ]
        }
      ]
    },
    {
      "cell_type": "code",
      "source": [
        "# alternativa usando função com args\n",
        "def media(*args):\n",
        "  soma = 0\n",
        "  quad = []\n",
        "  n = len(args)\n",
        "  for arg in args:\n",
        "    soma += arg\n",
        "  media = soma / n\n",
        "  for arg in args:\n",
        "    quad.append((arg-media)**2)\n",
        "  var = sum(quad)/(n-1)\n",
        "  desvio = var**(1/2)\n",
        "  return media, var, desvio"
      ],
      "metadata": {
        "id": "nhrUIdKT8uyG"
      },
      "execution_count": null,
      "outputs": []
    },
    {
      "cell_type": "code",
      "source": [
        "# Como ordenar de forma crescente os valores de uma lista:\n",
        "\n",
        "lista = [10, 5, 6, 9, 8, 7]\n",
        "lista = sorted(lista)\n",
        "print(lista)"
      ],
      "metadata": {
        "colab": {
          "base_uri": "https://localhost:8080/"
        },
        "id": "0MJlbXHmIX_K",
        "outputId": "632b397e-c1ca-4cc4-a2ef-a1dc3782efba"
      },
      "execution_count": null,
      "outputs": [
        {
          "output_type": "stream",
          "name": "stdout",
          "text": [
            "[5, 6, 7, 8, 9, 10]\n"
          ]
        }
      ]
    },
    {
      "cell_type": "code",
      "source": [
        "# para n ímpar\n",
        "nomes = ['Douglas', 'Daniela', 'Maria', 'Pedro', 'Eduardo']\n",
        "n = len(nomes)\n",
        "print(n)\n",
        "print(f'O nome que separa a lista em duas partes é {nomes[(int((n+1)/2))-1]}')"
      ],
      "metadata": {
        "colab": {
          "base_uri": "https://localhost:8080/"
        },
        "id": "ESOSlC19L2e2",
        "outputId": "d5837320-5b7a-46c1-8156-d779d585185a"
      },
      "execution_count": null,
      "outputs": [
        {
          "output_type": "stream",
          "name": "stdout",
          "text": [
            "5\n",
            "O nome que separa a lista em duas partes é Maria\n"
          ]
        }
      ]
    },
    {
      "cell_type": "code",
      "source": [
        "# para n par\n",
        "nomes2 = ['Douglas', 'Daniela', 'Maria', 'Pedro', 'Eduardo','Ester']\n",
        "n = len(nomes2)\n",
        "print(n)\n",
        "print(f'Os nomes centrais {nomes2[int(n/2)-1]} e {nomes2[int(n/2)]}')"
      ],
      "metadata": {
        "colab": {
          "base_uri": "https://localhost:8080/"
        },
        "id": "_sMt0gysNeUo",
        "outputId": "4e0ad637-8bfb-446b-ed9b-6b89afe1a327"
      },
      "execution_count": null,
      "outputs": [
        {
          "output_type": "stream",
          "name": "stdout",
          "text": [
            "6\n",
            "Os nomes centrais Maria e Pedro\n"
          ]
        }
      ]
    },
    {
      "cell_type": "code",
      "source": [
        "'''\n",
        "Implente a seguinte funcionalidade no programa:\n",
        "cálculo e exibição da mediana\n",
        "'''\n",
        "'''\n",
        "Elabore um programa que receba do usuário em um único input\n",
        "uma sequência de números e calcule e exiba:\n",
        "a) a média aritmética\n",
        "b) a variância\n",
        "c) o desvio padrão\n",
        "'''\n",
        "dados = input('Informe os valores numéricos separados por espaços: ') # recebe uma string com todos os valores desejados\n",
        "lista = dados.split() # converte a string em uma lista contendo strings numérica separadas\n",
        "n = len(lista)\n",
        "for i in range(n):\n",
        "  lista[i] = float(lista[i])\n",
        "media = sum(lista)/n\n",
        "quad = []\n",
        "for i in range(n):\n",
        "  quad.append((lista[i] - media)**2)\n",
        "var = sum(quad)/(n-1)\n",
        "desvio = var**(1/2)\n",
        "lista = sorted(lista)\n",
        "if n % 2 == 0:\n",
        "  mediana = (lista[int(n/2)-1] + lista[int(n/2)])/2\n",
        "else:\n",
        "  mediana = lista[int((n+1)/2)-1]\n",
        "print(f'A média é {media:.2f}')\n",
        "print(f'A variância é {var:.2f}')\n",
        "print(f'O desvio padrão é {desvio:.2f}')\n",
        "print(f'O Valor da mediana é {mediana:.2f}')"
      ],
      "metadata": {
        "colab": {
          "base_uri": "https://localhost:8080/"
        },
        "id": "drOXWM7pGf4U",
        "outputId": "7ede46d0-2120-4258-c39c-4c92c86fdce5"
      },
      "execution_count": null,
      "outputs": [
        {
          "output_type": "stream",
          "name": "stdout",
          "text": [
            "Informe os valores numéricos separados por espaços: 5 9 7 6 8 10\n",
            "A média é 7.50\n",
            "A variância é 3.50\n",
            "O desvio padrão é 1.87\n",
            "O Valor da mediana é 7.50\n"
          ]
        }
      ]
    }
  ]
}