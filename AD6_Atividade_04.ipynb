{
  "nbformat": 4,
  "nbformat_minor": 0,
  "metadata": {
    "colab": {
      "provenance": [],
      "authorship_tag": "ABX9TyM5q1EaXiIpSOe67M6zpc1d",
      "include_colab_link": true
    },
    "kernelspec": {
      "name": "python3",
      "display_name": "Python 3"
    },
    "language_info": {
      "name": "python"
    }
  },
  "cells": [
    {
      "cell_type": "markdown",
      "metadata": {
        "id": "view-in-github",
        "colab_type": "text"
      },
      "source": [
        "<a href=\"https://colab.research.google.com/github/Eudesjs/SoulCode_AD6_Analista_Dados/blob/main/AD6_Atividade_04.ipynb\" target=\"_parent\"><img src=\"https://colab.research.google.com/assets/colab-badge.svg\" alt=\"Open In Colab\"/></a>"
      ]
    },
    {
      "cell_type": "markdown",
      "source": [
        "# ATIVIDADE 4 AD6 - ANALISTA DE DADOS\n",
        "### ALUNO: EUDES SILVA"
      ],
      "metadata": {
        "id": "tqyY8mXAD4HA"
      }
    },
    {
      "cell_type": "code",
      "source": [
        "# 1. Crie uma lista com 10 números e imprima os elementos do índice 3 ao 7.\n",
        "num = (1 , 2 , 3 , 4 , 5 , 6 , 7 ,8 , 9 , 10)\n",
        "print(num[2:7])"
      ],
      "metadata": {
        "colab": {
          "base_uri": "https://localhost:8080/"
        },
        "id": "4UEh-k_u8_PL",
        "outputId": "61f07d5d-c138-4f93-94e3-f5fccd2e82ba"
      },
      "execution_count": null,
      "outputs": [
        {
          "output_type": "stream",
          "name": "stdout",
          "text": [
            "(3, 4, 5, 6, 7)\n"
          ]
        }
      ]
    },
    {
      "cell_type": "code",
      "source": [
        "# Crie uma lista com 10 palavras e imprima a lista pulando de 2 em 2\n",
        "# elementos.\n",
        "nomes = ('ab' , 'ba' , 'ac' , 'ca' , 'ad' , 'da' , 'ea' , 'ae' , 'af' , 'fa')\n",
        "print(nomes[: :2])"
      ],
      "metadata": {
        "colab": {
          "base_uri": "https://localhost:8080/"
        },
        "id": "_PHXcEEu9D7v",
        "outputId": "9063bbb5-e46b-449b-8119-3fd9de18819d"
      },
      "execution_count": 2,
      "outputs": [
        {
          "output_type": "stream",
          "name": "stdout",
          "text": [
            "('ab', 'ac', 'ad', 'ea', 'af')\n"
          ]
        }
      ]
    },
    {
      "cell_type": "code",
      "source": [
        "# Crie uma lista com 8 nomes de frutas e imprima uma nova lista com as\n",
        "# frutas a partir da 5ª fruta da lista original.\n",
        "frutas = ('laranja' , 'limao', 'abacaxi', 'manga' , 'uva' , 'pessego' , 'jaca' , 'caja')\n",
        "lista = frutas\n",
        "print(lista[4:])"
      ],
      "metadata": {
        "colab": {
          "base_uri": "https://localhost:8080/"
        },
        "id": "p80VUW2u9JhK",
        "outputId": "615ac1dc-50a6-4194-b001-1f02ca16d2d9"
      },
      "execution_count": null,
      "outputs": [
        {
          "output_type": "stream",
          "name": "stdout",
          "text": [
            "('uva', 'pessego', 'jaca', 'caja')\n"
          ]
        }
      ]
    }
  ]
}