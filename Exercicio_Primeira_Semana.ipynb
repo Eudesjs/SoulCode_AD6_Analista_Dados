{
  "nbformat": 4,
  "nbformat_minor": 0,
  "metadata": {
    "colab": {
      "provenance": [],
      "authorship_tag": "ABX9TyMSilCKdDzsGCUvVb49ZpIK",
      "include_colab_link": true
    },
    "kernelspec": {
      "name": "python3",
      "display_name": "Python 3"
    },
    "language_info": {
      "name": "python"
    }
  },
  "cells": [
    {
      "cell_type": "markdown",
      "metadata": {
        "id": "view-in-github",
        "colab_type": "text"
      },
      "source": [
        "<a href=\"https://colab.research.google.com/github/Eudesjs/SoulCode_AD6_Analista_Dados/blob/main/Exercicio_Primeira_Semana.ipynb\" target=\"_parent\"><img src=\"https://colab.research.google.com/assets/colab-badge.svg\" alt=\"Open In Colab\"/></a>"
      ]
    },
    {
      "cell_type": "markdown",
      "source": [
        "# EXERCICIO PRIMEIRA SEMANA\n",
        "## Aluno: Eudes Silva"
      ],
      "metadata": {
        "id": "ViY2KqLY2nWj"
      }
    },
    {
      "cell_type": "code",
      "execution_count": null,
      "metadata": {
        "colab": {
          "base_uri": "https://localhost:8080/"
        },
        "id": "vO0Wbz002lGe",
        "outputId": "0808a325-6d7a-4760-add2-4bc2a8619437"
      },
      "outputs": [
        {
          "output_type": "stream",
          "name": "stdout",
          "text": [
            "Eudes Silva\n",
            "<class 'str'>\n"
          ]
        }
      ],
      "source": [
        "# 1 - Crie uma variável para armazenar seu nome e imprima seu tipo de dado.\n",
        "nome = 'Eudes Silva'\n",
        "\n",
        "print(nome)\n",
        "print(type(nome))"
      ]
    },
    {
      "cell_type": "code",
      "source": [
        "# 2 - Declare duas variáveis, uma com um valor inteiro e outra com um valor\n",
        "# float. Imprima o resultado da soma das duas variáveis.\n",
        "a = 5\n",
        "b = 2.5\n",
        "soma = a + b\n",
        "\n",
        "print(soma)"
      ],
      "metadata": {
        "colab": {
          "base_uri": "https://localhost:8080/"
        },
        "id": "E8U53PrY262s",
        "outputId": "03db4023-bf7a-46e4-fb34-6e7afac34367"
      },
      "execution_count": null,
      "outputs": [
        {
          "output_type": "stream",
          "name": "stdout",
          "text": [
            "7.5\n"
          ]
        }
      ]
    },
    {
      "cell_type": "code",
      "source": [
        "# 3 - Verifique se o número 10 é maior que 5 e imprima o resultado da\n",
        "# comparação.\n",
        "a = 10\n",
        "b = 5\n",
        "\n",
        "print(a > b)\n"
      ],
      "metadata": {
        "colab": {
          "base_uri": "https://localhost:8080/"
        },
        "id": "QKhLIu7q29PZ",
        "outputId": "55477d33-7ba4-4364-887a-89209911a108"
      },
      "execution_count": null,
      "outputs": [
        {
          "output_type": "stream",
          "name": "stdout",
          "text": [
            "True\n"
          ]
        }
      ]
    },
    {
      "cell_type": "code",
      "source": [
        "# 4 - Utilize o operador in para verificar se a letra \"a\" está presente na string\n",
        "# \"banana\".\n",
        "fruta = 'banana'\n",
        "print('a' in fruta)"
      ],
      "metadata": {
        "colab": {
          "base_uri": "https://localhost:8080/"
        },
        "id": "5no7LJjy28la",
        "outputId": "2e470d0f-5aff-4818-ae46-02c9f3a74b89"
      },
      "execution_count": null,
      "outputs": [
        {
          "output_type": "stream",
          "name": "stdout",
          "text": [
            "True\n"
          ]
        }
      ]
    },
    {
      "cell_type": "code",
      "source": [
        "# 5 - Escreva um programa que solicita ao usuário dois números e imprima a\n",
        "# soma, a diferença, o produto e o quociente da divisão entre esses\n",
        "# números.\n",
        "numero1 = float (input('Digite o Primeiro Numero: '))\n",
        "numero2 = float (input('Digite o Segundo Numero: '))\n",
        "\n",
        "soma = numero1 + numero2\n",
        "Diferenca = numero1 - numero2\n",
        "produto = numero1 * numero2\n",
        "\n",
        "if numero2 != 0:\n",
        "  quociente = numero1 / numero2\n",
        "else:\n",
        "  quociente = 'Indefinido'\n",
        "\n",
        "print('Soma', soma)\n",
        "print('Diferenca', Diferenca)\n",
        "print('Produto', produto)\n",
        "print('Quociente', quociente)"
      ],
      "metadata": {
        "colab": {
          "base_uri": "https://localhost:8080/"
        },
        "id": "j2p9dwPr28Jq",
        "outputId": "d0e46e0e-2f32-44dc-b68f-ee9dee6aaf7f"
      },
      "execution_count": null,
      "outputs": [
        {
          "output_type": "stream",
          "name": "stdout",
          "text": [
            "Digite o Primeiro Numero: 6\n",
            "Digite o Segundo Numero: 3\n",
            "Soma 9.0\n",
            "Diferenca 3.0\n",
            "Produto 18.0\n",
            "Quociente 2.0\n"
          ]
        }
      ]
    },
    {
      "cell_type": "code",
      "source": [
        "nome = input('Digite Dois ou mais Nome: ')\n",
        "print(nome)\n",
        "nomes = nome.split()\n",
        "print(nomes)"
      ],
      "metadata": {
        "id": "flH7cjBPGPIX"
      },
      "execution_count": null,
      "outputs": []
    },
    {
      "cell_type": "code",
      "source": [
        "'''\n",
        "Elabore um programa que receba do usuário um número inteiro e positivo\n",
        "de no máximo 5, e automaticamente, exiba o nome do produto correspondente,\n",
        "seu preço, sua quantidade vendida, o valor faturado em R$, e quantas unidades\n",
        "ainda restam em estoque desse produto.\n",
        "'''\n",
        "produtos = ['monitor', 'celular', 'notebook', 'desktop', 'impressora', 'teclado']\n",
        "precos = [600, 2000, 5000, 3000, 1500, 200]\n",
        "vendas = [300, 500, 100, 700, 500, 1000]\n",
        "estoques = [5000] * 6 #  Este comando cria uma lista que tem 6 elementos com o mesmo valor (5000)\n",
        "\n"
      ],
      "metadata": {
        "id": "HlFIuAhmUHVk"
      },
      "execution_count": null,
      "outputs": []
    },
    {
      "cell_type": "code",
      "source": [
        "'''Considere a expressão: texto = 'No way!'.\n",
        "assim a expressão: texto.find('way!') trará como resposta:\n",
        "'''\n",
        "texto = 'No way!'\n",
        "print(texto.find('way!'))"
      ],
      "metadata": {
        "colab": {
          "base_uri": "https://localhost:8080/"
        },
        "id": "EypzUWff3qDC",
        "outputId": "0f8f490c-445e-4ca7-a4bc-f2e75fcae8b3"
      },
      "execution_count": null,
      "outputs": [
        {
          "output_type": "stream",
          "name": "stdout",
          "text": [
            "3\n"
          ]
        }
      ]
    },
    {
      "cell_type": "code",
      "source": [
        "'''Considere a expressão: texto = 'No way!'.\n",
        "assim a expressão: texto[3:6] trará como resposta:\n",
        "'''\n",
        "texto = 'No way!'\n",
        "print(texto[3:6])"
      ],
      "metadata": {
        "colab": {
          "base_uri": "https://localhost:8080/"
        },
        "id": "lI3fvl6b4REY",
        "outputId": "dc1aabcb-0457-42c5-876e-046a244d61f6"
      },
      "execution_count": null,
      "outputs": [
        {
          "output_type": "stream",
          "name": "stdout",
          "text": [
            "way\n"
          ]
        }
      ]
    },
    {
      "cell_type": "code",
      "source": [
        "'''Considere a expressão: texto = 'No way!'. assim a expressão:\n",
        "texto.replace('No', 'Yes') trará como resposta:\n",
        "'''\n",
        "texto = 'No way!'\n",
        "print(texto.replace('No' , 'Yes'))"
      ],
      "metadata": {
        "colab": {
          "base_uri": "https://localhost:8080/"
        },
        "id": "6CPFu9Wv5e3w",
        "outputId": "ba715fcb-44a4-4463-e3cc-86473c8eff98"
      },
      "execution_count": null,
      "outputs": [
        {
          "output_type": "stream",
          "name": "stdout",
          "text": [
            "Yes way!\n"
          ]
        }
      ]
    },
    {
      "cell_type": "code",
      "source": [
        "'''Considere a expressão: texto = 'No way!'. assim a expressão:\n",
        " texto[-1] trará como resposta:\n",
        "'''\n",
        "texto = 'No way!'\n",
        "print(texto[-1])"
      ],
      "metadata": {
        "colab": {
          "base_uri": "https://localhost:8080/"
        },
        "id": "tAtImXb56uPf",
        "outputId": "8cba1a3a-15f0-448f-8555-47359c8ec083"
      },
      "execution_count": null,
      "outputs": [
        {
          "output_type": "stream",
          "name": "stdout",
          "text": [
            "!\n"
          ]
        }
      ]
    },
    {
      "cell_type": "code",
      "source": [
        "'''Considere a expressão: texto = 'No way!'. assim a expressão:\n",
        " texto[1] trará como resposta:\n",
        "'''\n",
        "texto = 'No way!'\n",
        "print(texto[1])"
      ],
      "metadata": {
        "colab": {
          "base_uri": "https://localhost:8080/"
        },
        "id": "2Ztcc4B07QAq",
        "outputId": "afd1f5f5-d3cd-4992-fe75-ea00424fae06"
      },
      "execution_count": null,
      "outputs": [
        {
          "output_type": "stream",
          "name": "stdout",
          "text": [
            "o\n"
          ]
        }
      ]
    },
    {
      "cell_type": "code",
      "source": [
        "# 1. Crie uma lista com 10 números e imprima os elementos do índice 3 ao 7.\n",
        "num = (1 , 2 , 3 , 4 , 5 , 6 , 7 ,8 , 9 , 10)\n",
        "print(num[3:8])"
      ],
      "metadata": {
        "colab": {
          "base_uri": "https://localhost:8080/"
        },
        "id": "4UEh-k_u8_PL",
        "outputId": "1346b2ed-21d4-4dbc-f1e5-5bbd1acf0174"
      },
      "execution_count": null,
      "outputs": [
        {
          "output_type": "stream",
          "name": "stdout",
          "text": [
            "(4, 5, 6, 7, 8)\n"
          ]
        }
      ]
    },
    {
      "cell_type": "code",
      "source": [
        "# Crie uma lista com 10 palavras e imprima a lista pulando de 2 em 2\n",
        "# elementos.\n",
        "num = (1 , 2 , 3 , 4 , 5 , 6 , 7 , 8 , 9 , 10)\n",
        "print(num[1: :2])"
      ],
      "metadata": {
        "colab": {
          "base_uri": "https://localhost:8080/"
        },
        "id": "_PHXcEEu9D7v",
        "outputId": "e01ae7f9-2580-4a63-bdf4-4b9bfc2e1012"
      },
      "execution_count": null,
      "outputs": [
        {
          "output_type": "stream",
          "name": "stdout",
          "text": [
            "(2, 4, 6, 8, 10)\n"
          ]
        }
      ]
    },
    {
      "cell_type": "code",
      "source": [
        "# Crie uma lista com 8 nomes de frutas e imprima uma nova lista com as\n",
        "# frutas a partir da 5ª fruta da lista original.\n",
        "frutas = ('laranja' , 'limao', 'abacaxi', 'manga' , 'uva' , 'pessego' , 'jaca' , 'caja')\n",
        "lista = frutas\n",
        "print(lista[4:])"
      ],
      "metadata": {
        "colab": {
          "base_uri": "https://localhost:8080/"
        },
        "id": "p80VUW2u9JhK",
        "outputId": "44da6649-8c7f-4a75-a4bf-42fe8817bc42"
      },
      "execution_count": null,
      "outputs": [
        {
          "output_type": "stream",
          "name": "stdout",
          "text": [
            "('uva', 'pessego', 'jaca', 'caja')\n"
          ]
        }
      ]
    },
    {
      "cell_type": "markdown",
      "source": [
        "# Nova seção"
      ],
      "metadata": {
        "id": "2DabkeumDmI8"
      }
    }
  ]
}