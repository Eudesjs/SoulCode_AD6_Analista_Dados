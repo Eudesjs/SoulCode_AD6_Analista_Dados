{
  "nbformat": 4,
  "nbformat_minor": 0,
  "metadata": {
    "colab": {
      "provenance": [],
      "authorship_tag": "ABX9TyMawBgoiu9UP/nK3EGaip0U",
      "include_colab_link": true
    },
    "kernelspec": {
      "name": "python3",
      "display_name": "Python 3"
    },
    "language_info": {
      "name": "python"
    }
  },
  "cells": [
    {
      "cell_type": "markdown",
      "metadata": {
        "id": "view-in-github",
        "colab_type": "text"
      },
      "source": [
        "<a href=\"https://colab.research.google.com/github/Eudesjs/SoulCode_AD6_Analista_Dados/blob/main/Atividade_06.ipynb\" target=\"_parent\"><img src=\"https://colab.research.google.com/assets/colab-badge.svg\" alt=\"Open In Colab\"/></a>"
      ]
    },
    {
      "cell_type": "code",
      "execution_count": null,
      "metadata": {
        "colab": {
          "base_uri": "https://localhost:8080/"
        },
        "id": "kqPnIrI00wuz",
        "outputId": "d4721dbf-c45a-4cd8-c0cb-67eaa98c5b78"
      },
      "outputs": [
        {
          "output_type": "stream",
          "name": "stdout",
          "text": [
            "Digite o comprimento do Primeiro lado do Triangulo: 4\n",
            "Digite o comprimento do Segundo lado do Triangulo: 5\n",
            "Digite o comprimento do Terceiro lado do Triangulo: 6\n",
            "\n",
            "O Triangulo nao é Equilatero\n"
          ]
        }
      ],
      "source": [
        "'''\n",
        "1 - Escreva um programa que aceite os comprimentos de três lados de um\n",
        "triângulo como entradas. A saída do programa deve indicar se o triângulo é ou\n",
        "não um triângulo equilátero.\n",
        "'''\n",
        "\n",
        "lado1 = (input(\"Digite o Comprimento do Primeiro Lado do Triangulo: \"))\n",
        "lado1 = int(lado1)\n",
        "lado2 = (input(\"Digite o Comprimento do Segundo Lado do Triangulo: \"))\n",
        "lado2 = int(lado2)\n",
        "lado3 = (input(\"Digite o Comprimento do Terceiro Lado do Triangulo: \"))\n",
        "lado3 = int(lado3)\n",
        "\n",
        "# Silicitei ao Usuario a Digitar o comprimento do lado do Triangulo.\n",
        "# na Função INT, converto a String em Inteiro\n",
        "\n",
        "if lado1 == lado2 == lado3: # Estrutura Condicional Simples, Testo essa Condição\n",
        "  print()\n",
        "  print(\"O Triangulo é Equilátero \")\n",
        "else:\n",
        "  print()\n",
        "  print(\"O Triangulo nao é Equilátero\")\n",
        "# o Resultado saira conforme o valor que o usuario for colocar."
      ]
    },
    {
      "cell_type": "code",
      "source": [
        "'''\n",
        "2 - Escreva um programa que aceite os comprimentos de três lados de um\n",
        "triângulo como entradas. A saída do programa deve indicar se o triângulo é ou\n",
        "não um triângulo retângulo. Lembre-se do teorema de Pitágoras que, em um\n",
        "triângulo retângulo, o quadrado de um lado é igual à soma dos quadrados dos\n",
        "outros dois lados.\n",
        "'''\n",
        "lado1 = (input(\"Digite o comprimento do Primeiro lado do Triangulo: \"))\n",
        "lado1 = int(lado1) # Solicito ao Usuario os Comprimento do Triangulo\n",
        "lado2 = (input(\"Digite o comprimento do Segundo lado do Triangulo: \"))\n",
        "lado2 = int(lado2)\n",
        "lado3 = (input(\"Digite o comprimento do Terceiro lado do Triangulo: \"))\n",
        "lado3 = int(lado3)\n",
        "\n",
        "if ('''lado1**2 == lado2**2 + lado3**2) or (lado2**2 == lado1**2 + lado3**2)\n",
        " or (lado3**2 == lado1**1 + lado2**2'''):\n",
        "# Testo numa Condição se qual lado atende a formula A² + B² = C²\n",
        "  print(\"O Triangulo é Retangulo\")\n",
        "\n",
        "else:\n",
        "  print(\"O Triangulo nao é Retangulo\")"
      ],
      "metadata": {
        "colab": {
          "base_uri": "https://localhost:8080/"
        },
        "id": "adfE9A0n08Eu",
        "outputId": "247363eb-d2c9-4c56-c5ec-4510f1634142"
      },
      "execution_count": 49,
      "outputs": [
        {
          "output_type": "stream",
          "name": "stdout",
          "text": [
            "Digite o comprimento do Primeiro lado do Triangulo: 5\n",
            "Digite o comprimento do Segundo lado do Triangulo: 4\n",
            "Digite o comprimento do Terceiro lado do Triangulo: 3\n",
            "O Triangulo é Retangulo\n"
          ]
        }
      ]
    }
  ]
}