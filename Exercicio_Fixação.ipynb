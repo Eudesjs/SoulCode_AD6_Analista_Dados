{
  "nbformat": 4,
  "nbformat_minor": 0,
  "metadata": {
    "colab": {
      "provenance": [],
      "authorship_tag": "ABX9TyP/nD1++sSAeBwwMDUOuG9e",
      "include_colab_link": true
    },
    "kernelspec": {
      "name": "python3",
      "display_name": "Python 3"
    },
    "language_info": {
      "name": "python"
    }
  },
  "cells": [
    {
      "cell_type": "markdown",
      "metadata": {
        "id": "view-in-github",
        "colab_type": "text"
      },
      "source": [
        "<a href=\"https://colab.research.google.com/github/Eudesjs/SoulCode_AD6_Analista_Dados/blob/main/Exercicio_Fixa%C3%A7%C3%A3o.ipynb\" target=\"_parent\"><img src=\"https://colab.research.google.com/assets/colab-badge.svg\" alt=\"Open In Colab\"/></a>"
      ]
    },
    {
      "cell_type": "code",
      "execution_count": null,
      "metadata": {
        "colab": {
          "base_uri": "https://localhost:8080/"
        },
        "id": "yz_6BLLnJQmL",
        "outputId": "90657d4a-17db-490b-b8f4-c4cea8df3b2d"
      },
      "outputs": [
        {
          "output_type": "stream",
          "name": "stdout",
          "text": [
            "False\n",
            "True\n"
          ]
        }
      ],
      "source": [
        "# 1- Qual é a saída do trecho de código a seguir?\n",
        "x = 5\n",
        "y = 10\n",
        "z = 8\n",
        "\n",
        "print(x > y)\n",
        "print(y > z)"
      ]
    },
    {
      "cell_type": "code",
      "source": [
        "# 2- Qual é a saída do trecho de código a seguir?\n",
        "x = 1\n",
        "y = 1.0\n",
        "z = '1'\n",
        "\n",
        "if x == y:\n",
        "  print('um')\n",
        "if y == int(z):\n",
        "  print('dois')\n",
        "elif x == y:\n",
        "  print('tres')\n",
        "else:\n",
        "  print('quatro')"
      ],
      "metadata": {
        "colab": {
          "base_uri": "https://localhost:8080/"
        },
        "id": "sJjipAehJwT5",
        "outputId": "fca9cee6-8ef2-4714-8c4e-19368b03f373"
      },
      "execution_count": null,
      "outputs": [
        {
          "output_type": "stream",
          "name": "stdout",
          "text": [
            "um\n",
            "dois\n"
          ]
        }
      ]
    },
    {
      "cell_type": "code",
      "source": [
        "# 3- Qual é a saída do trecho de código?\n",
        "lst = [1, 2, 3, 4, 5]\n",
        "lst.insert(1, 6)\n",
        "del lst[0]\n",
        "lst.append(1)\n",
        "\n",
        "print(lst)"
      ],
      "metadata": {
        "colab": {
          "base_uri": "https://localhost:8080/"
        },
        "id": "TtVnPXJbKcgT",
        "outputId": "1710cf8d-87da-4843-95d1-cf0f8e6be494"
      },
      "execution_count": null,
      "outputs": [
        {
          "output_type": "stream",
          "name": "stdout",
          "text": [
            "[6, 2, 3, 4, 5, 1]\n"
          ]
        }
      ]
    },
    {
      "cell_type": "code",
      "source": [
        "# Qual é a saída do trecho de código?\n",
        "lst = []\n",
        "del lst\n",
        "print(lst)\n"
      ],
      "metadata": {
        "colab": {
          "base_uri": "https://localhost:8080/",
          "height": 180
        },
        "id": "teDglVLSLAnB",
        "outputId": "00215cfd-fa9e-477b-d637-0b86601d854a"
      },
      "execution_count": null,
      "outputs": [
        {
          "output_type": "error",
          "ename": "NameError",
          "evalue": "name 'lst' is not defined",
          "traceback": [
            "\u001b[0;31m---------------------------------------------------------------------------\u001b[0m",
            "\u001b[0;31mNameError\u001b[0m                                 Traceback (most recent call last)",
            "\u001b[0;32m<ipython-input-8-711dbbe784a9>\u001b[0m in \u001b[0;36m<cell line: 4>\u001b[0;34m()\u001b[0m\n\u001b[1;32m      2\u001b[0m \u001b[0mlst\u001b[0m \u001b[0;34m=\u001b[0m \u001b[0;34m[\u001b[0m\u001b[0;34m]\u001b[0m\u001b[0;34m\u001b[0m\u001b[0;34m\u001b[0m\u001b[0m\n\u001b[1;32m      3\u001b[0m \u001b[0;32mdel\u001b[0m \u001b[0mlst\u001b[0m\u001b[0;34m\u001b[0m\u001b[0;34m\u001b[0m\u001b[0m\n\u001b[0;32m----> 4\u001b[0;31m \u001b[0mprint\u001b[0m\u001b[0;34m(\u001b[0m\u001b[0mlst\u001b[0m\u001b[0;34m)\u001b[0m\u001b[0;34m\u001b[0m\u001b[0;34m\u001b[0m\u001b[0m\n\u001b[0m",
            "\u001b[0;31mNameError\u001b[0m: name 'lst' is not defined"
          ]
        }
      ]
    },
    {
      "cell_type": "code",
      "source": [
        "# 5- Qual é a saída do trecho de código?\n",
        "lst = [1, [2, 3], 4]\n",
        "print(lst[1])\n",
        "print(len(lst))\n"
      ],
      "metadata": {
        "colab": {
          "base_uri": "https://localhost:8080/"
        },
        "id": "TJs6m-nFLUI6",
        "outputId": "85f414cd-8d2f-40ed-ee42-9e75d9154e0c"
      },
      "execution_count": null,
      "outputs": [
        {
          "output_type": "stream",
          "name": "stdout",
          "text": [
            "[2, 3]\n",
            "3\n"
          ]
        }
      ]
    },
    {
      "cell_type": "code",
      "source": [
        "# 6- Qual é a saída do trecho de codigo?\n",
        "list_1 = [\"A\", \"B\", \"C\"]\n",
        "list_2 = list_1\n",
        "list_3 = list_2\n",
        "\n",
        "del list_1[0]\n",
        "del list_2[0]\n",
        "\n",
        "print(list_3)\n"
      ],
      "metadata": {
        "colab": {
          "base_uri": "https://localhost:8080/"
        },
        "id": "BetP06SlLojl",
        "outputId": "047c31ca-2a67-4182-8cdb-0cd21b943a3d"
      },
      "execution_count": null,
      "outputs": [
        {
          "output_type": "stream",
          "name": "stdout",
          "text": [
            "['C']\n"
          ]
        }
      ]
    },
    {
      "cell_type": "code",
      "source": [
        "# 7- Qual é a saída do trecho de código?\n",
        "list_1 = [\"A\", \"B\", \"C\"]\n",
        "list_2 = list_1\n",
        "list_3 = list_2\n",
        "\n",
        "del list_1[0]\n",
        "del list_2\n",
        "print(list_3)\n"
      ],
      "metadata": {
        "colab": {
          "base_uri": "https://localhost:8080/"
        },
        "id": "67pzmNK0MXCW",
        "outputId": "478a6ccb-fd92-4039-bef0-218ad03e3e1f"
      },
      "execution_count": null,
      "outputs": [
        {
          "output_type": "stream",
          "name": "stdout",
          "text": [
            "['B', 'C']\n"
          ]
        }
      ]
    },
    {
      "cell_type": "code",
      "source": [
        "# 8- Insira in ou not in ao invés de ??? para que o código produz o resultado\n",
        "# esperado.\n",
        "\n",
        "my_list = [1, 2, \"in\", true, \"ABC\"]\n",
        "\n",
        "print(1 ??? my_list)\n",
        "print(\"A\" ??? my_list)\n",
        "print(3 ??? my_list)\n",
        "print(false ??? my_list)\n"
      ],
      "metadata": {
        "colab": {
          "base_uri": "https://localhost:8080/",
          "height": 108
        },
        "id": "ZkOofB9KMwnZ",
        "outputId": "85aa5a43-8cb6-4e2b-e698-f7006026d90c"
      },
      "execution_count": null,
      "outputs": [
        {
          "output_type": "error",
          "ename": "SyntaxError",
          "evalue": "invalid syntax (<ipython-input-12-024be0bd068a>, line 6)",
          "traceback": [
            "\u001b[0;36m  File \u001b[0;32m\"<ipython-input-12-024be0bd068a>\"\u001b[0;36m, line \u001b[0;32m6\u001b[0m\n\u001b[0;31m    print(1 ??? my_list)\u001b[0m\n\u001b[0m            ^\u001b[0m\n\u001b[0;31mSyntaxError\u001b[0m\u001b[0;31m:\u001b[0m invalid syntax\n"
          ]
        }
      ]
    },
    {
      "cell_type": "code",
      "source": [
        "# 9- Qual é a saída do trecho de código?\n",
        "my_tup = (1, 2, 3)\n",
        "print(my_tup[2])\n"
      ],
      "metadata": {
        "colab": {
          "base_uri": "https://localhost:8080/"
        },
        "id": "tfcKtGYHNfYN",
        "outputId": "2c55d629-649f-4a41-9211-9d4c0493e0d7"
      },
      "execution_count": null,
      "outputs": [
        {
          "output_type": "stream",
          "name": "stdout",
          "text": [
            "3\n"
          ]
        }
      ]
    },
    {
      "cell_type": "code",
      "source": [
        "# 10- Qual é a saída do trecho de código?\n",
        "tup = 1, 2, 3\n",
        "a, b, c = tup\n",
        "\n",
        "print(a * b * c)\n"
      ],
      "metadata": {
        "colab": {
          "base_uri": "https://localhost:8080/"
        },
        "id": "IO8w51YuNtPg",
        "outputId": "b598f6e9-201c-4df1-e3e0-b3abdbb5298d"
      },
      "execution_count": null,
      "outputs": [
        {
          "output_type": "stream",
          "name": "stdout",
          "text": [
            "6\n"
          ]
        }
      ]
    }
  ]
}