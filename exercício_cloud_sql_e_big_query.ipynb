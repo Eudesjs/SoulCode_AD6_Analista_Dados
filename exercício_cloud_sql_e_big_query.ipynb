{
  "nbformat": 4,
  "nbformat_minor": 0,
  "metadata": {
    "colab": {
      "provenance": [],
      "include_colab_link": true
    },
    "kernelspec": {
      "name": "python3",
      "display_name": "Python 3"
    },
    "language_info": {
      "name": "python"
    }
  },
  "cells": [
    {
      "cell_type": "markdown",
      "metadata": {
        "id": "view-in-github",
        "colab_type": "text"
      },
      "source": [
        "<a href=\"https://colab.research.google.com/github/Eudesjs/SoulCode_AD6_Analista_Dados/blob/main/exerc%C3%ADcio_cloud_sql_e_big_query.ipynb\" target=\"_parent\"><img src=\"https://colab.research.google.com/assets/colab-badge.svg\" alt=\"Open In Colab\"/></a>"
      ]
    },
    {
      "cell_type": "code",
      "execution_count": 1,
      "metadata": {
        "id": "oCS-6KdX0vkf",
        "outputId": "435d82fd-2715-4957-beb8-0cd5833c4487",
        "colab": {
          "base_uri": "https://localhost:8080/",
          "height": 140
        }
      },
      "outputs": [
        {
          "output_type": "execute_result",
          "data": {
            "text/plain": [
              "\"\\nUtilizando a instância criada anteriormente no Cloud SQL, crie um novo banco de\\ndados chamado tio\\n\\npasso 1 - create database tio;\\n\\npasso2 - aponte para o banco de dados tio: use tio;\\n\\npasso 3 - criação do schema das tabelas:\\n\\ncreate table alunos (\\n  id_aluno INT PRIMARY KEY,\\n  nome VARCHAR (50),\\n  curso VARCHAR (100)\\n);\\n\\nCREATE TABLE disciplinas (\\n    id_disciplina INT PRIMARY KEY,\\n    id_aluno INT,\\n    disciplina VARCHAR(100),\\n    FOREIGN KEY (id_aluno) REFERENCES alunos(id_aluno)\\n);\\n\\npasso 4 - população das tabelas:\\n\\nINSERT INTO alunos (id_aluno, nome, curso)\\nVALUES\\n    (1, 'Douglas', 'filosofia'),\\n    (2, 'Daniela', 'letras'),\\n    (3, 'Ester', 'geografia'),\\n    (4, 'Maria', 'adm'),\\n    (5, 'Douglas', 'engenharia');\\n\\nINSERT INTO disciplinas (id_disciplina, id_aluno, disciplina)\\nVALUES\\n    (1, '5', 'carro'),\\n    (2, '3', 'foguete'),\\n    (3, '4', 'bicicleta'),\\n    (4, '1', 'patins'),\\n    (5, '2', 'motocicleta');\\n\\npasso 5: Criar uma conexão no bigquery com o banco tio\\n\\npasso 6: criar um conjunto de dados no bigquery para\\nreceber os dados do banco tio\\n\\npasso 7 popular o conjunto de dados crido na big query com os dados\\ndo banco tio\\n\\n\\n\""
            ],
            "application/vnd.google.colaboratory.intrinsic+json": {
              "type": "string"
            }
          },
          "metadata": {},
          "execution_count": 1
        }
      ],
      "source": [
        "'''\n",
        "Utilizando a instância criada anteriormente no Cloud SQL, crie um novo banco de\n",
        "dados chamado tio\n",
        "\n",
        "passo 1 - create database tio;\n",
        "\n",
        "passo2 - aponte para o banco de dados tio: use tio;\n",
        "\n",
        "passo 3 - criação do schema das tabelas:\n",
        "\n",
        "create table alunos (\n",
        "  id_aluno INT PRIMARY KEY,\n",
        "  nome VARCHAR (50),\n",
        "  curso VARCHAR (100)\n",
        ");\n",
        "\n",
        "CREATE TABLE disciplinas (\n",
        "    id_disciplina INT PRIMARY KEY,\n",
        "    id_aluno INT,\n",
        "    disciplina VARCHAR(100),\n",
        "    FOREIGN KEY (id_aluno) REFERENCES alunos(id_aluno)\n",
        ");\n",
        "\n",
        "passo 4 - população das tabelas:\n",
        "\n",
        "INSERT INTO alunos (id_aluno, nome, curso)\n",
        "VALUES\n",
        "    (1, 'Douglas', 'filosofia'),\n",
        "    (2, 'Daniela', 'letras'),\n",
        "    (3, 'Ester', 'geografia'),\n",
        "    (4, 'Maria', 'adm'),\n",
        "    (5, 'Douglas', 'engenharia');\n",
        "\n",
        "INSERT INTO disciplinas (id_disciplina, id_aluno, disciplina)\n",
        "VALUES\n",
        "    (1, '5', 'carro'),\n",
        "    (2, '3', 'foguete'),\n",
        "    (3, '4', 'bicicleta'),\n",
        "    (4, '1', 'patins'),\n",
        "    (5, '2', 'motocicleta');\n",
        "\n",
        "passo 5: Criar uma conexão no bigquery com o banco tio\n",
        "\n",
        "passo 6: criar um conjunto de dados no bigquery para\n",
        "receber os dados do banco tio\n",
        "\n",
        "passo 7 popular o conjunto de dados crido na big query com os dados\n",
        "do banco tio\n",
        "\n",
        "\n",
        "'''"
      ]
    }
  ]
}