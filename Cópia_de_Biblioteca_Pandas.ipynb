{
  "nbformat": 4,
  "nbformat_minor": 0,
  "metadata": {
    "colab": {
      "provenance": [],
      "include_colab_link": true
    },
    "kernelspec": {
      "name": "python3",
      "display_name": "Python 3"
    },
    "language_info": {
      "name": "python"
    }
  },
  "cells": [
    {
      "cell_type": "markdown",
      "metadata": {
        "id": "view-in-github",
        "colab_type": "text"
      },
      "source": [
        "<a href=\"https://colab.research.google.com/github/Eudesjs/SoulCode_AD6_Analista_Dados/blob/main/C%C3%B3pia_de_Biblioteca_Pandas.ipynb\" target=\"_parent\"><img src=\"https://colab.research.google.com/assets/colab-badge.svg\" alt=\"Open In Colab\"/></a>"
      ]
    },
    {
      "cell_type": "code",
      "execution_count": null,
      "metadata": {
        "id": "8qDJNmyZByvC"
      },
      "outputs": [],
      "source": [
        "import pandas as pd"
      ]
    },
    {
      "cell_type": "code",
      "source": [
        "nome = ['Douglas','Daniela','Pedro','Maria','Eduardo','Ester']\n",
        "idade = [45,7,65,64,42,37]\n",
        "altura = [1.85,1.23,1.75,1.67,1.82,1.73]\n",
        "peso = [70,22,87,64,96,68]"
      ],
      "metadata": {
        "id": "qbzZWhp4CA1a"
      },
      "execution_count": null,
      "outputs": []
    },
    {
      "cell_type": "code",
      "source": [
        "df = pd.DataFrame(zip(nome,idade, altura, peso),columns=['nome', 'idade', 'altura', 'peso'])\n",
        "display(df)"
      ],
      "metadata": {
        "id": "aKnWaXSWCwVJ"
      },
      "execution_count": null,
      "outputs": []
    },
    {
      "cell_type": "code",
      "source": [
        "'''\n",
        "Imagine que você deseja exibir uma subtabela como apenas nome e idade\n",
        "dos elementos com 45 anos ou mais\n",
        "'''\n",
        "\n",
        "filtro_01 = df.loc[df['idade']>=45,['nome','idade']]\n",
        "display(filtro_01)"
      ],
      "metadata": {
        "id": "SNK4hKvYGJPv"
      },
      "execution_count": null,
      "outputs": []
    },
    {
      "cell_type": "code",
      "source": [
        "'''\n",
        "Agora vamos supor que nosso objetivo seja inserir uma nova coluna com\n",
        "o sexo dos elementos\n",
        "'''\n",
        "sexo = ['M','F','M','F','M','F']\n",
        "df['sexo'] = sexo\n",
        "display(df)"
      ],
      "metadata": {
        "id": "Xb5XlJWIiK1H"
      },
      "execution_count": null,
      "outputs": []
    },
    {
      "cell_type": "code",
      "source": [
        "'''\n",
        "Agora vamos supor que nosso desejo é inserir um novo elemento (linha ou registro)\n",
        "\n",
        "'''\n",
        "df.loc[6] = ['Tobias',18,1.67,65,'M']\n",
        "display(df)"
      ],
      "metadata": {
        "id": "dXvdB6OQiKyy"
      },
      "execution_count": null,
      "outputs": []
    },
    {
      "cell_type": "code",
      "source": [
        "'''\n",
        "Agora vamos mudar o nome das colunas peso (massa) e sexo (genero)\n",
        "'''\n",
        "df.rename(columns={'peso':'massa','sexo':'genero'},inplace=True)"
      ],
      "metadata": {
        "id": "6R-JduxKiKvI"
      },
      "execution_count": 10,
      "outputs": []
    },
    {
      "cell_type": "code",
      "source": [
        "display(df)"
      ],
      "metadata": {
        "id": "Qdlr0Xf_iKtM"
      },
      "execution_count": null,
      "outputs": []
    },
    {
      "cell_type": "code",
      "source": [
        "'''\n",
        "Agora vamos exibir as medidas descritivas dos atributos numéricos do\n",
        "nosso dataframe\n",
        "'''\n",
        "medidas = df.describe()\n",
        "display(medidas)"
      ],
      "metadata": {
        "id": "F-vj2oesiKqw"
      },
      "execution_count": null,
      "outputs": []
    },
    {
      "cell_type": "code",
      "source": [
        "'''\n",
        "Agora vamos supor que nosso objetivo seja\n",
        "fazer um filtro com todos os dados do elemento Douglas\n",
        "'''\n",
        "doug = df.loc[0]\n",
        "print(doug)"
      ],
      "metadata": {
        "id": "iU46DzAEiKpJ"
      },
      "execution_count": null,
      "outputs": []
    },
    {
      "cell_type": "code",
      "source": [
        "'''\n",
        "No bloco anterior o filtro gerou um dataframe como resposta\n",
        "agora vamos refazer o filtro, mas armazená-lo em uma lista\n",
        "'''\n",
        "doug = list(df.loc[0])\n",
        "print(doug)"
      ],
      "metadata": {
        "id": "8sCt7QvfiKmT"
      },
      "execution_count": null,
      "outputs": []
    },
    {
      "cell_type": "code",
      "source": [
        "'''\n",
        "Imagine que você deseja criar uma lista com todas as idades\n",
        "'''\n",
        "idades = list(df['idade'])\n",
        "print(idades)"
      ],
      "metadata": {
        "id": "1ACQN0o3iKjZ"
      },
      "execution_count": null,
      "outputs": []
    },
    {
      "cell_type": "code",
      "source": [
        "'''\n",
        "Desafio: Na tabela medidas temos a linha desvio padrão a partir dela\n",
        "calcule uma linha de variância e a insira a nova linha como última da\n",
        "tabela de medidas\n",
        "'''\n",
        "desvio = list(medidas.iloc[2])\n",
        "print(desvio)"
      ],
      "metadata": {
        "id": "UcJ0H9zEi-qC"
      },
      "execution_count": null,
      "outputs": []
    },
    {
      "cell_type": "code",
      "source": [
        "'''\n",
        "Correção do desafio\n",
        "'''\n",
        "desvio = list(medidas.iloc[2])\n",
        "variancia = []\n",
        "for i in range(len(desvio)):\n",
        "  variancia.append(desvio[i]**2)\n",
        "print(variancia)\n",
        "medidas.loc['variância'] = variancia\n",
        "display(medidas)"
      ],
      "metadata": {
        "id": "pqQn256ai-iR"
      },
      "execution_count": null,
      "outputs": []
    },
    {
      "cell_type": "code",
      "source": [
        "'''\n",
        "Agora você deverá converter idade do df em uma lista\n",
        "chamada idades, altura do df em uma lista chamada alturas, e\n",
        "massa do df em uma lista chamada massas, após isso,\n",
        "você deverá calcular a mediana de cada lista, usando a biblioteca numpy\n",
        "e depois inserir cada mediana em uma lista chamada mediana e por último\n",
        "inserir a lista mediana no df medidas na última posição\n",
        "'''\n",
        "\n",
        "idades = list(df['idade'])\n",
        "alturas = list(df['altura'])\n",
        "massas = list(df['massa'])\n",
        "\n",
        "import numpy as np\n",
        "medi = np.median(idades)\n",
        "meda = np.median(alturas)\n",
        "medm = np.median(massas)\n",
        "mediana = [medi, meda, medm]\n",
        "medidas.loc['mediana'] = mediana\n",
        "display(medidas)"
      ],
      "metadata": {
        "id": "rgkNQlXAi-X2"
      },
      "execution_count": null,
      "outputs": []
    },
    {
      "cell_type": "code",
      "source": [
        "'''\n",
        "Tarefa para 23/04/2024:\n",
        "\n",
        "Criar as medidas:\n",
        "1 - AIQ\n",
        "2 - LI\n",
        "3 - LS\n",
        "\n",
        "e inserí-las nessa ordem no df medidas\n",
        "'''"
      ],
      "metadata": {
        "id": "7CJQmadmi-NO"
      },
      "execution_count": 21,
      "outputs": []
    }
  ]
}