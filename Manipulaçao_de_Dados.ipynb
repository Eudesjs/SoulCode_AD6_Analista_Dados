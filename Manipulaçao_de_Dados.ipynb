{
  "nbformat": 4,
  "nbformat_minor": 0,
  "metadata": {
    "colab": {
      "provenance": [],
      "authorship_tag": "ABX9TyOR8Sb6piVHAgl6ZT7GWhp2",
      "include_colab_link": true
    },
    "kernelspec": {
      "name": "python3",
      "display_name": "Python 3"
    },
    "language_info": {
      "name": "python"
    }
  },
  "cells": [
    {
      "cell_type": "markdown",
      "metadata": {
        "id": "view-in-github",
        "colab_type": "text"
      },
      "source": [
        "<a href=\"https://colab.research.google.com/github/Eudesjs/SoulCode_AD6_Analista_Dados/blob/main/Manipula%C3%A7ao_de_Dados.ipynb\" target=\"_parent\"><img src=\"https://colab.research.google.com/assets/colab-badge.svg\" alt=\"Open In Colab\"/></a>"
      ]
    },
    {
      "cell_type": "code",
      "execution_count": 3,
      "metadata": {
        "id": "2bigElIjyXb-"
      },
      "outputs": [],
      "source": [
        "import numpy as np\n",
        "import pandas as pd\n",
        "\n",
        "# IMORTANDO AS BIBLIOTECAS NUMPY E PANDAS"
      ]
    },
    {
      "cell_type": "code",
      "source": [
        "#SERIES\n",
        "'''\n",
        "serie é uma cadeia de dados unidimensional ela vai ser uma cadeia de arrays\n",
        "ela suporta qualquer tipo de dados.\n",
        "'''\n",
        "notas = pd.Series([1, 5, 7.5, 9, 10])\n",
        "print(notas)\n",
        "print(notas.values)\n",
        "print(notas.index)\n",
        "print('-------------------------------------')\n",
        "\n",
        "print(notas.describe) #Vai exibir informação estatistica\n",
        "print(notas.mean()) # informa a media\n",
        "print(notas.median()) # informa a mediana\n",
        "print(notas**2)"
      ],
      "metadata": {
        "id": "n9iCCmKBzUXv",
        "colab": {
          "base_uri": "https://localhost:8080/"
        },
        "outputId": "e5e24af2-6503-425f-c540-7cbec69ba748"
      },
      "execution_count": 4,
      "outputs": [
        {
          "output_type": "stream",
          "name": "stdout",
          "text": [
            "0     1.0\n",
            "1     5.0\n",
            "2     7.5\n",
            "3     9.0\n",
            "4    10.0\n",
            "dtype: float64\n",
            "[ 1.   5.   7.5  9.  10. ]\n",
            "RangeIndex(start=0, stop=5, step=1)\n",
            "-------------------------------------\n",
            "<bound method NDFrame.describe of 0     1.0\n",
            "1     5.0\n",
            "2     7.5\n",
            "3     9.0\n",
            "4    10.0\n",
            "dtype: float64>\n",
            "6.5\n",
            "7.5\n",
            "0      1.00\n",
            "1     25.00\n",
            "2     56.25\n",
            "3     81.00\n",
            "4    100.00\n",
            "dtype: float64\n"
          ]
        }
      ]
    },
    {
      "cell_type": "code",
      "source": [
        "# DATAFRAME\n",
        "'''\n",
        "dataframe e um arranjo de dados bidimensional.\n",
        "'''\n",
        "df = pd.DataFrame({'Aluno':['Jose', 'carlos', 'Ana', 'Julia', 'Debora'],\n",
        "                   'Faltas' :[3,4,2,4,3],\n",
        "                   'Prova':[2,7,8,5.5,9.2],\n",
        "                   'Seminario':[8.5,5,8.2,6,9.5]})\n",
        "\n",
        "print(df)"
      ],
      "metadata": {
        "colab": {
          "base_uri": "https://localhost:8080/"
        },
        "id": "ET78Eo_L7_IC",
        "outputId": "ea485749-df6a-4c03-d44d-e5c1fc244dc5"
      },
      "execution_count": 5,
      "outputs": [
        {
          "output_type": "stream",
          "name": "stdout",
          "text": [
            "    Aluno  Faltas  Prova  Seminario\n",
            "0    Jose       3    2.0        8.5\n",
            "1  carlos       4    7.0        5.0\n",
            "2     Ana       2    8.0        8.2\n",
            "3   Julia       4    5.5        6.0\n",
            "4  Debora       3    9.2        9.5\n"
          ]
        }
      ]
    },
    {
      "cell_type": "code",
      "source": [
        "# DATAFRAME\n",
        "#print(df.dtypes) # VER O TIPO DE VARIAVEL QUE EXISTEM NO CONTEUDO DO DATAFRAME\n",
        "#print(df.columns) # IMPRIME AS COLUNAS\n",
        "#print(df['Aluno'])# PODEMOS IMPRIMIR APENAS A COLUNA DESEJADA.\n",
        "#print(df.describe()) # IMPRIME DADOS ESTATISTICOS.\n",
        "#print(df.sort_values(by='Seminario')) # ordenar os valores\n",
        "#print(df.loc[3]) # IMPRIME PELO INDEX\n",
        "#print(df[df['Seminario'] > 8.0]) # IMPRIME POR FILTRO VALOR DE COMPARAÇÃO\n",
        "print(df[(df['Seminario'] > 8.0) & (df['Prova'] > 3)]) #IMPRIME POR FILTRO VALOR LOGICO"
      ],
      "metadata": {
        "colab": {
          "base_uri": "https://localhost:8080/"
        },
        "id": "XVlI3EBY2kpV",
        "outputId": "1233b303-3be0-4383-c148-cc4f7d01656f"
      },
      "execution_count": 6,
      "outputs": [
        {
          "output_type": "stream",
          "name": "stdout",
          "text": [
            "    Aluno  Faltas  Prova  Seminario\n",
            "2     Ana       2    8.0        8.2\n",
            "4  Debora       3    9.2        9.5\n"
          ]
        }
      ]
    },
    {
      "cell_type": "code",
      "source": [
        "# IMPORTANDO CSV\n",
        "df = pd.read_csv(\"/content/sample_data/california_housing_test.csv\")\n",
        "print(df)"
      ],
      "metadata": {
        "id": "Yo09YYSv7Lo4",
        "colab": {
          "base_uri": "https://localhost:8080/"
        },
        "outputId": "50b3ce1a-509c-4779-86c9-482a2065d5ea"
      },
      "execution_count": 8,
      "outputs": [
        {
          "output_type": "stream",
          "name": "stdout",
          "text": [
            "      longitude  latitude  housing_median_age  total_rooms  total_bedrooms  \\\n",
            "0       -122.05     37.37                27.0       3885.0           661.0   \n",
            "1       -118.30     34.26                43.0       1510.0           310.0   \n",
            "2       -117.81     33.78                27.0       3589.0           507.0   \n",
            "3       -118.36     33.82                28.0         67.0            15.0   \n",
            "4       -119.67     36.33                19.0       1241.0           244.0   \n",
            "...         ...       ...                 ...          ...             ...   \n",
            "2995    -119.86     34.42                23.0       1450.0           642.0   \n",
            "2996    -118.14     34.06                27.0       5257.0          1082.0   \n",
            "2997    -119.70     36.30                10.0        956.0           201.0   \n",
            "2998    -117.12     34.10                40.0         96.0            14.0   \n",
            "2999    -119.63     34.42                42.0       1765.0           263.0   \n",
            "\n",
            "      population  households  median_income  median_house_value  \n",
            "0         1537.0       606.0         6.6085            344700.0  \n",
            "1          809.0       277.0         3.5990            176500.0  \n",
            "2         1484.0       495.0         5.7934            270500.0  \n",
            "3           49.0        11.0         6.1359            330000.0  \n",
            "4          850.0       237.0         2.9375             81700.0  \n",
            "...          ...         ...            ...                 ...  \n",
            "2995      1258.0       607.0         1.1790            225000.0  \n",
            "2996      3496.0      1036.0         3.3906            237200.0  \n",
            "2997       693.0       220.0         2.2895             62000.0  \n",
            "2998        46.0        14.0         3.2708            162500.0  \n",
            "2999       753.0       260.0         8.5608            500001.0  \n",
            "\n",
            "[3000 rows x 9 columns]\n"
          ]
        }
      ]
    },
    {
      "cell_type": "code",
      "source": [
        "# MANIPULAÇÃO DE DADOS.\n",
        "print(df['population'].unique())"
      ],
      "metadata": {
        "id": "E5g_jh03AAud",
        "colab": {
          "base_uri": "https://localhost:8080/"
        },
        "outputId": "e24ee9ec-7259-43cb-85a7-51e761fc2d27"
      },
      "execution_count": 12,
      "outputs": [
        {
          "output_type": "stream",
          "name": "stdout",
          "text": [
            "[1537.  809. 1484. ...  516. 3496.   46.]\n"
          ]
        }
      ]
    },
    {
      "cell_type": "code",
      "source": [
        "print(df['population'].value_counts())"
      ],
      "metadata": {
        "id": "_bQ-mss7Ai4Z",
        "colab": {
          "base_uri": "https://localhost:8080/"
        },
        "outputId": "3ca334b4-f105-4718-9bb9-719db6c7484f"
      },
      "execution_count": 13,
      "outputs": [
        {
          "output_type": "stream",
          "name": "stdout",
          "text": [
            "population\n",
            "870.0     7\n",
            "697.0     6\n",
            "753.0     6\n",
            "881.0     6\n",
            "1211.0    6\n",
            "         ..\n",
            "1415.0    1\n",
            "1916.0    1\n",
            "803.0     1\n",
            "767.0     1\n",
            "46.0      1\n",
            "Name: count, Length: 1802, dtype: int64\n"
          ]
        }
      ]
    },
    {
      "cell_type": "code",
      "source": [
        "print(df.groupby('population').mean())"
      ],
      "metadata": {
        "id": "Ibd0ScfXA5Ur",
        "colab": {
          "base_uri": "https://localhost:8080/"
        },
        "outputId": "1526433e-d8a2-4984-d812-6bda4cc2ee4e"
      },
      "execution_count": 15,
      "outputs": [
        {
          "output_type": "stream",
          "name": "stdout",
          "text": [
            "            longitude  latitude  housing_median_age  total_rooms  \\\n",
            "population                                                         \n",
            "5.0          -114.620     33.62                26.0         18.0   \n",
            "8.0          -117.035     33.26                26.5         11.0   \n",
            "14.0         -117.775     33.35                50.5         28.5   \n",
            "19.0         -122.490     38.00                26.0         48.0   \n",
            "21.0         -118.060     34.03                36.0         21.0   \n",
            "...               ...       ...                 ...          ...   \n",
            "8824.0       -117.120     33.49                 4.0      21988.0   \n",
            "9419.0       -117.200     33.58                 2.0      30450.0   \n",
            "10877.0      -117.270     33.15                 4.0      23915.0   \n",
            "11139.0      -116.140     34.45                12.0       8796.0   \n",
            "11935.0      -121.530     38.48                 5.0      27870.0   \n",
            "\n",
            "            total_bedrooms  households  median_income  median_house_value  \n",
            "population                                                                 \n",
            "5.0                    3.0         3.0        0.53600            275000.0  \n",
            "8.0                    3.0         2.5        1.37500             57500.0  \n",
            "14.0                   6.0         8.0        1.90625            171900.0  \n",
            "19.0                   8.0         8.0        7.71970            400000.0  \n",
            "21.0                   7.0         9.0        2.37500            175000.0  \n",
            "...                    ...         ...            ...                 ...  \n",
            "8824.0              4055.0      3252.0        3.99630            191100.0  \n",
            "9419.0              5033.0      3197.0        4.59360            174300.0  \n",
            "10877.0             4135.0      3958.0        4.63570            244900.0  \n",
            "11139.0             1721.0      1680.0        2.26120            137500.0  \n",
            "11935.0             5027.0      4855.0        4.88110            212200.0  \n",
            "\n",
            "[1802 rows x 8 columns]\n"
          ]
        }
      ]
    }
  ]
}