{
  "nbformat": 4,
  "nbformat_minor": 0,
  "metadata": {
    "colab": {
      "provenance": [],
      "authorship_tag": "ABX9TyM7XbAQWF2D9dCFerHO1knc",
      "include_colab_link": true
    },
    "kernelspec": {
      "name": "python3",
      "display_name": "Python 3"
    },
    "language_info": {
      "name": "python"
    }
  },
  "cells": [
    {
      "cell_type": "markdown",
      "metadata": {
        "id": "view-in-github",
        "colab_type": "text"
      },
      "source": [
        "<a href=\"https://colab.research.google.com/github/Eudesjs/SoulCode_AD6_Analista_Dados/blob/main/Manipula%C3%A7ao_de_Dados.ipynb\" target=\"_parent\"><img src=\"https://colab.research.google.com/assets/colab-badge.svg\" alt=\"Open In Colab\"/></a>"
      ]
    },
    {
      "cell_type": "code",
      "execution_count": 1,
      "metadata": {
        "id": "2bigElIjyXb-"
      },
      "outputs": [],
      "source": [
        "import numpy as np\n",
        "import pandas as pd\n",
        "\n",
        "# IMORTANDO AS BIBLIOTECAS NUMPY E PANDAS"
      ]
    },
    {
      "cell_type": "code",
      "source": [
        "#SERIES\n",
        "'''\n",
        "serie é uma cadeia de dados unidimensional ela vai ser uma cadeia de arrays\n",
        "ela suporta qualquer tipo de dados.\n",
        "'''\n",
        "notas = pd.Series([1, 5, 7.5, 9, 10])\n",
        "print(notas)\n",
        "print(notas.values)\n",
        "print(notas.index)\n",
        "print('-------------------------------------')\n",
        "\n",
        "print(notas.describe) #Vai exibir informação estatistica\n",
        "print(notas.mean()) # informa a media\n",
        "print(notas.median()) # informa a mediana\n",
        "print(notas**2)"
      ],
      "metadata": {
        "id": "n9iCCmKBzUXv"
      },
      "execution_count": null,
      "outputs": []
    }
  ]
}