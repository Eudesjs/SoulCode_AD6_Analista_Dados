{
  "nbformat": 4,
  "nbformat_minor": 0,
  "metadata": {
    "colab": {
      "provenance": [],
      "authorship_tag": "ABX9TyMsMh6M9xfrtDKHSttuc20T",
      "include_colab_link": true
    },
    "kernelspec": {
      "name": "python3",
      "display_name": "Python 3"
    },
    "language_info": {
      "name": "python"
    }
  },
  "cells": [
    {
      "cell_type": "markdown",
      "metadata": {
        "id": "view-in-github",
        "colab_type": "text"
      },
      "source": [
        "<a href=\"https://colab.research.google.com/github/Eudesjs/SoulCode_AD6_Analista_Dados/blob/main/Revisao.ipynb\" target=\"_parent\"><img src=\"https://colab.research.google.com/assets/colab-badge.svg\" alt=\"Open In Colab\"/></a>"
      ]
    },
    {
      "cell_type": "code",
      "source": [
        "# VARIAVEL EM PYTHON\n",
        "'''\n",
        "VARIAVEIS EM PYTHON SÃO PALAVRAS QUE PODE ARMAZENAR UM VALOR NA MEMORIA DO\n",
        "CONPUTADOR.\n",
        "'''\n",
        "nome = 'Eudes' #variavel NOME recebe um VALOR (Eudes)\n",
        "# O sinal de Igual ( = ) é um simbolo de atribuição.\n",
        "# A Varivel nome atribiu o valor 'Eudes a sua varivel.\n",
        "print(nome)\n",
        "print(type(nome)) # a função Type mostra qual tipo da variavel que tem o\n",
        "# Eudes no caso a varivel nome é do tipo String.\n",
        "print(\"*\"*50)\n",
        "'''\n",
        "PODE TER 4 TIPOS DE VARIAVEL.\n",
        "1 - INTEIRO (INT: 1, 2 , 3, 4, 100, -1, -30...) TODO NUMERO DE PARTE INTEIRA\n",
        "2 - PONTO FLUTUANTE (FLOAT: 1.3, 4.34, 10,33...) TODO NUMERO COM CASA DECIMAL.\n",
        "3 - STRING (STR: '234', 'Eudes', 'a, 'A...) TODO CARACTER QUE ESTA ENTRE ASPAS.\n",
        "4 - BOOLEANO (BOOL: TRUE OU FALSE) RESULTADO LOGICO TRUE OU FALSE\n",
        "'''\n",
        "numero = 34 # VARIAVEL DO TIPO INT = 34\n",
        "print(numero)\n",
        "print(type(numero))\n",
        "\n",
        "decimal = 34.54 # VARIVAEL DO TIPO FLOAT = 34.54\n",
        "print(decimal)\n",
        "print(type(decimal))\n",
        "\n",
        "resultado = True # VARIAVEL DO TIPO BOOL\n",
        "print(resultado)\n",
        "print(type(resultado))\n",
        "\n",
        "nome: 'Eudes' # VARIAVEL DO TIPO STR\n",
        "print(nome)\n",
        "print(type(nome))"
      ],
      "metadata": {
        "colab": {
          "base_uri": "https://localhost:8080/"
        },
        "id": "Urv7OuDU8Am7",
        "outputId": "8756bbef-1a41-42ef-ef99-745e4a5afefa"
      },
      "execution_count": 5,
      "outputs": [
        {
          "output_type": "stream",
          "name": "stdout",
          "text": [
            "Eudes\n",
            "<class 'str'>\n",
            "**************************************************\n",
            "34\n",
            "<class 'int'>\n",
            "34.54\n",
            "<class 'float'>\n",
            "True\n",
            "<class 'bool'>\n",
            "Eudes\n",
            "<class 'str'>\n"
          ]
        }
      ]
    },
    {
      "cell_type": "code",
      "source": [
        "# OPERADORES MATEMATICOS\n",
        "'''\n",
        "OS OPERADORES MATEMATICOS PERMITEM REALIZAR OPERAÇÕES MATEMATICAS BASICAS\n",
        "OPERADORES MATEMATICOS BASICOS:\n",
        "1 - ADIÇÃO ( + )\n",
        "2 - SUBTRAÇÃO ( - )\n",
        "3 - MULTIPLICAÇÃO ( * )\n",
        "4 - DIVISÃO ( / )\n",
        "  - PARTE INTEIRA DA DIVISÃO ( // )\n",
        "  - RESTO DA DIVISÃO ( % )\n",
        "5 - EXPONENCIAÇÃO ( ** )\n",
        "'''\n",
        "# ADIÇÃO ( + )\n",
        "a = 5\n",
        "b = 2\n",
        "print(a + b)\n",
        "print(\"*\"*50)\n",
        "\n",
        "# SUBTRAÇÃO ( - )\n",
        "a = 5\n",
        "b - 2\n",
        "print(a - b)\n",
        "print(\"*\"*50)\n",
        "\n",
        "# MULTIPLICAÇÃO ( * )\n",
        "a = 5\n",
        "b = 2\n",
        "print(a * b)\n",
        "print(\"*\"*50)\n",
        "\n",
        "# DIVISÃO ( / )\n",
        "a = 5\n",
        "b = 2\n",
        "print(a / b)\n",
        "\n",
        "# PARTE INTEIRA DA DIVISÃO ( // )\n",
        "a = 5\n",
        "b = 2\n",
        "print(a // b)\n",
        "\n",
        "# RESTO DA DIVISÃO ( % )\n",
        "a = 5\n",
        "b = 2\n",
        "print(a % b)\n",
        "print(\"*\"*50)\n",
        "\n",
        "# EXPONENCIAÇÃO ( ** )\n",
        "a = 5\n",
        "b = 2\n",
        "print(a ** b)\n",
        "print(\"*\"*50)\n",
        "\n"
      ],
      "metadata": {
        "colab": {
          "base_uri": "https://localhost:8080/"
        },
        "id": "RAVlsbiIAirU",
        "outputId": "b4337698-cbca-4fb0-e343-947a1c3fd8bb"
      },
      "execution_count": 8,
      "outputs": [
        {
          "output_type": "stream",
          "name": "stdout",
          "text": [
            "7\n",
            "**************************************************\n",
            "3\n",
            "**************************************************\n",
            "10\n",
            "**************************************************\n",
            "2.5\n",
            "2\n",
            "1\n",
            "**************************************************\n",
            "25\n",
            "**************************************************\n"
          ]
        }
      ]
    },
    {
      "cell_type": "code",
      "source": [
        "# OPERADORES DE COMPARAÇÃO\n",
        "'''\n",
        "OPERADORES DE COMPARAÇÃO PERMITEM VERIFICAR SE DUAS EXPRESSÕES SÃO IGUAIS\n",
        "DIFERENTES, MAIORES, MENORES ETC. E QUE RETORNA SEMPRE COM RESULTADO LOGICO\n",
        "VERDADEIRO (TRUE) OU FALSO (FALSE).\n",
        "'''"
      ],
      "metadata": {
        "id": "VuAYqEvZDVny"
      },
      "execution_count": null,
      "outputs": []
    },
    {
      "cell_type": "code",
      "source": [
        "# OPERADOR DE IGUALDADE ( == )\n",
        "igualdade = 3 == 4\n",
        "print(igualdade)"
      ],
      "metadata": {
        "colab": {
          "base_uri": "https://localhost:8080/"
        },
        "id": "0hehQFMKEYrx",
        "outputId": "5ef8a65a-2a01-435a-aab7-2e3aa2c56d33"
      },
      "execution_count": 10,
      "outputs": [
        {
          "output_type": "stream",
          "name": "stdout",
          "text": [
            "False\n"
          ]
        }
      ]
    },
    {
      "cell_type": "code",
      "source": [
        "# OPERADOR DE DIFERENÇA ( != )\n",
        "diferente = 3 != 4\n",
        "print(diferente)"
      ],
      "metadata": {
        "colab": {
          "base_uri": "https://localhost:8080/"
        },
        "id": "gcNhloThEbrZ",
        "outputId": "283b8a5b-5ed3-49a4-b7ea-13e37824ce63"
      },
      "execution_count": 11,
      "outputs": [
        {
          "output_type": "stream",
          "name": "stdout",
          "text": [
            "True\n"
          ]
        }
      ]
    },
    {
      "cell_type": "code",
      "source": [
        "# OPERADOR MAIOR QUE ( > )\n",
        "maior = 3 > 4\n",
        "print(maior)"
      ],
      "metadata": {
        "colab": {
          "base_uri": "https://localhost:8080/"
        },
        "id": "s0ffTc-JEsDZ",
        "outputId": "12e25034-4671-4fc3-96c6-e121add443f4"
      },
      "execution_count": 12,
      "outputs": [
        {
          "output_type": "stream",
          "name": "stdout",
          "text": [
            "False\n"
          ]
        }
      ]
    },
    {
      "cell_type": "code",
      "source": [
        "# OPERADOR MENOR QUE ( < )\n",
        "menor = 3 < 4\n",
        "print(menor)"
      ],
      "metadata": {
        "colab": {
          "base_uri": "https://localhost:8080/"
        },
        "id": "bM7sCjj5E5Po",
        "outputId": "338f393c-1ee8-45b1-c8ac-28731c83534f"
      },
      "execution_count": 13,
      "outputs": [
        {
          "output_type": "stream",
          "name": "stdout",
          "text": [
            "True\n"
          ]
        }
      ]
    },
    {
      "cell_type": "code",
      "source": [
        "# OPERADOR MAIOR OU IGUAL A ( >= )\n",
        "maior_igual = 3 >= 4\n",
        "print(maior_igual)"
      ],
      "metadata": {
        "colab": {
          "base_uri": "https://localhost:8080/"
        },
        "id": "qlL99K3IFIGN",
        "outputId": "ec800116-282e-4b66-a3b0-4fb6e0767eb7"
      },
      "execution_count": 14,
      "outputs": [
        {
          "output_type": "stream",
          "name": "stdout",
          "text": [
            "False\n"
          ]
        }
      ]
    },
    {
      "cell_type": "code",
      "source": [
        "# OPERADOR MENOR OU IGUAL A ( <= )\n",
        "menor_igual = 3 <= 4\n",
        "print(menor_igual)"
      ],
      "metadata": {
        "colab": {
          "base_uri": "https://localhost:8080/"
        },
        "id": "7AVdyzexFUm2",
        "outputId": "0720fb7c-f387-4163-d942-1f1c061c7ce1"
      },
      "execution_count": 15,
      "outputs": [
        {
          "output_type": "stream",
          "name": "stdout",
          "text": [
            "True\n"
          ]
        }
      ]
    },
    {
      "cell_type": "code",
      "source": [
        "# OPERADOR DE IDENTIDADE ( IS E IS NOT )\n",
        "'''\n",
        "Em Python, os operadores is e is not são chamados de operadores de identidade1.\n",
        "Eles são usados para determinar se duas variáveis estão na mesma parte da memória1.\n",
        "Portanto, duas variáveis serem iguais e duas variáveis serem idênticas são duas\n",
        "afirmações diferentes\n",
        "'''\n",
        "a = [1, 2, 3]\n",
        "b = a\n",
        "c = [1, 2, 3]\n",
        "\n",
        "print(a is b)  # Retorna True, porque a e b apontam para o mesmo objeto\n",
        "print(a is c)  # Retorna False, porque a e c são listas diferentes na memória\n",
        "\n",
        "'''\n",
        "Neste exemplo, a e b são idênticos (ou seja, apontam para o mesmo objeto na memória),\n",
        "enquanto a e c são apenas iguais em termos de valor, mas não são o mesmo objeto na memória.\n",
        "'''"
      ],
      "metadata": {
        "colab": {
          "base_uri": "https://localhost:8080/",
          "height": 89
        },
        "id": "IMz_kj58FiPD",
        "outputId": "cb8a5697-0eb0-420f-d69b-24b80d97b7d1"
      },
      "execution_count": 16,
      "outputs": [
        {
          "output_type": "stream",
          "name": "stdout",
          "text": [
            "True\n",
            "False\n"
          ]
        },
        {
          "output_type": "execute_result",
          "data": {
            "text/plain": [
              "'\\nNeste exemplo, a e b são idênticos (ou seja, apontam para o mesmo objeto na memória), \\nenquanto a e c são apenas iguais em termos de valor, mas não são o mesmo objeto na memória.\\n'"
            ],
            "application/vnd.google.colaboratory.intrinsic+json": {
              "type": "string"
            }
          },
          "metadata": {},
          "execution_count": 16
        }
      ]
    },
    {
      "cell_type": "code",
      "source": [
        "# OPERADOR DE IDENTIDADE ( IS )\n",
        "a = 7\n",
        "b = 7.0\n",
        "print(a is b) # RETORNA FALSO POR QUE AS DUAS VARIVAEIS NAO SAO IDENTICA\n",
        "print(a == b) # RETORNA VERDADEIRO POR ELAS SAO IGUAIS."
      ],
      "metadata": {
        "id": "iYBA0qP5Hb4E"
      },
      "execution_count": null,
      "outputs": []
    },
    {
      "cell_type": "code",
      "source": [
        "# OPERADOR DE IDENTIDADE ( IS NOT )\n",
        "a = 7\n",
        "b = 7.0\n",
        "print(a is not b) # RETORNA VERDADEIRO, POIS A E B NAO SAO IDENTICAS\n",
        "print(a != b) # RETORNA FALSO POR QUE A E B SÃO IGUAIS."
      ],
      "metadata": {
        "id": "W7fvIEADIo8P"
      },
      "execution_count": null,
      "outputs": []
    },
    {
      "cell_type": "code",
      "source": [
        "# OPERADOR DE ASSOCIAÇÃO\n",
        "'''\n",
        "Em Python, os operadores in e not in são chamados de operadores de associação.\n",
        "Eles são usados para verificar se um valor está ou não em uma sequência,\n",
        "como strings, listas ou tuplas.\n",
        "'''\n",
        "lista = [1, 2, 3, 4, 5]\n",
        "valor = 3\n",
        "\n",
        "if valor in lista:\n",
        "    print(\"O valor está na lista\")\n",
        "else:\n",
        "    print(\"O valor não está na lista\")\n",
        "\n",
        "'''\n",
        "Neste exemplo, o operador in é usado para verificar se o valor 3 está na lista.\n",
        "Se estiver, o programa imprimirá “O valor está na lista”.\n",
        "Caso contrário, imprimirá “O valor não está na lista”.\n",
        "'''\n",
        "\n"
      ],
      "metadata": {
        "colab": {
          "base_uri": "https://localhost:8080/",
          "height": 71
        },
        "id": "SlYYmb2TJKgL",
        "outputId": "1e67f276-1741-4482-df75-0ccfccc6ba13"
      },
      "execution_count": 17,
      "outputs": [
        {
          "output_type": "stream",
          "name": "stdout",
          "text": [
            "O valor está na lista\n"
          ]
        },
        {
          "output_type": "execute_result",
          "data": {
            "text/plain": [
              "'\\nNeste exemplo, o operador in é usado para verificar se o valor 3 está na lista.\\nSe estiver, o programa imprimirá “O valor está na lista”. \\nCaso contrário, imprimirá “O valor não está na lista”.\\n'"
            ],
            "application/vnd.google.colaboratory.intrinsic+json": {
              "type": "string"
            }
          },
          "metadata": {},
          "execution_count": 17
        }
      ]
    },
    {
      "cell_type": "code",
      "source": [
        "# OPERADOR IN\n",
        "nome = 'Eudes'\n",
        "print('E' in nome)"
      ],
      "metadata": {
        "colab": {
          "base_uri": "https://localhost:8080/"
        },
        "id": "lLZzr8DHKP7x",
        "outputId": "ec47b6a1-ba45-48f6-8f4f-09d774253a32"
      },
      "execution_count": 18,
      "outputs": [
        {
          "output_type": "stream",
          "name": "stdout",
          "text": [
            "True\n"
          ]
        }
      ]
    },
    {
      "cell_type": "code",
      "source": [
        "# OPERADOR NOT IN\n",
        "'''\n",
        "Da mesma forma, o operador not in é usado para verificar se um valor não está em\n",
        " uma sequência. Por exemplo:\n",
        "'''\n",
        "lista = [1, 2, 3, 4, 5]\n",
        "valor = 6\n",
        "\n",
        "if valor not in lista:\n",
        "    print(\"O valor não está na lista\")\n",
        "else:\n",
        "    print(\"O valor está na lista\")\n",
        "\n",
        "'''\n",
        "Neste exemplo, como o valor 6 não está na lista, o programa imprimirá\n",
        "“O valor não está na lista”.\n",
        "\n",
        "'''\n"
      ],
      "metadata": {
        "colab": {
          "base_uri": "https://localhost:8080/",
          "height": 53
        },
        "id": "ETfRS_QWKfXG",
        "outputId": "e25c8593-0904-4c11-a691-c90840e0ce3d"
      },
      "execution_count": 19,
      "outputs": [
        {
          "output_type": "stream",
          "name": "stdout",
          "text": [
            "O valor não está na lista\n"
          ]
        },
        {
          "output_type": "execute_result",
          "data": {
            "text/plain": [
              "'\\nNeste exemplo, como o valor 6 não está na lista, o programa imprimirá\\n“O valor não está na lista”.\\n\\n'"
            ],
            "application/vnd.google.colaboratory.intrinsic+json": {
              "type": "string"
            }
          },
          "metadata": {},
          "execution_count": 19
        }
      ]
    },
    {
      "cell_type": "code",
      "source": [
        "# OPERADOR NOT IN\n",
        "nome = 'Eudes'\n",
        "print('E' not in nome)"
      ],
      "metadata": {
        "colab": {
          "base_uri": "https://localhost:8080/"
        },
        "id": "9s24QTXOKoX2",
        "outputId": "f4c187bf-2e4c-4306-f4e2-ec671d174de7"
      },
      "execution_count": 20,
      "outputs": [
        {
          "output_type": "stream",
          "name": "stdout",
          "text": [
            "False\n"
          ]
        }
      ]
    },
    {
      "cell_type": "code",
      "source": [
        "# OPERADORES LOGICOS (AND, OR, NOT)"
      ],
      "metadata": {
        "id": "HTFY3fH3LiwW"
      },
      "execution_count": null,
      "outputs": []
    }
  ]
}