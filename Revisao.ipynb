{
  "nbformat": 4,
  "nbformat_minor": 0,
  "metadata": {
    "colab": {
      "provenance": [],
      "authorship_tag": "ABX9TyNmYXdcobo+RWSZY42WbLN7",
      "include_colab_link": true
    },
    "kernelspec": {
      "name": "python3",
      "display_name": "Python 3"
    },
    "language_info": {
      "name": "python"
    }
  },
  "cells": [
    {
      "cell_type": "markdown",
      "metadata": {
        "id": "view-in-github",
        "colab_type": "text"
      },
      "source": [
        "<a href=\"https://colab.research.google.com/github/Eudesjs/SoulCode_AD6_Analista_Dados/blob/main/Revisao.ipynb\" target=\"_parent\"><img src=\"https://colab.research.google.com/assets/colab-badge.svg\" alt=\"Open In Colab\"/></a>"
      ]
    },
    {
      "cell_type": "code",
      "source": [
        "# VARIAVEL EM PYTHON\n",
        "'''\n",
        "VARIAVEIS EM PYTHON SÃO PALAVRAS QUE PODE ARMAZENAR UM VALOR NA MEMORIA DO\n",
        "CONPUTADOR.\n",
        "'''\n",
        "nome = 'Eudes' #variavel NOME recebe um VALOR (Eudes)\n",
        "# O sinal de Igual ( = ) é um simbolo de atribuição.\n",
        "# A Varivel nome atribiu o valor 'Eudes a sua varivel.\n",
        "print(nome)\n",
        "print(type(nome)) # a função Type mostra qual tipo da variavel que tem o\n",
        "# Eudes no caso a varivel nome é do tipo String.\n",
        "print(\"*\"*50)\n",
        "'''\n",
        "PODE TER 4 TIPOS DE VARIAVEL.\n",
        "1 - INTEIRO (INT: 1, 2 , 3, 4, 100, -1, -30...) TODO NUMERO DE PARTE INTEIRA\n",
        "2 - PONTO FLUTUANTE (FLOAT: 1.3, 4.34, 10,33...) TODO NUMERO COM CASA DECIMAL.\n",
        "3 - STRING (STR: '234', 'Eudes', 'a, 'A...) TODO CARACTER QUE ESTA ENTRE ASPAS.\n",
        "4 - BOOLEANO (BOOL: TRUE OU FALSE) RESULTADO LOGICO TRUE OU FALSE\n",
        "'''\n",
        "numero = 34 # VARIAVEL DO TIPO INT = 34\n",
        "print(numero)\n",
        "print(type(numero))\n",
        "\n",
        "decimal = 34.54 # VARIVAEL DO TIPO FLOAT = 34.54\n",
        "print(decimal)\n",
        "print(type(decimal))\n",
        "\n",
        "resultado = True # VARIAVEL DO TIPO BOOL\n",
        "print(resultado)\n",
        "print(type(resultado))\n",
        "\n",
        "nome: 'Eudes' # VARIAVEL DO TIPO STR\n",
        "print(nome)\n",
        "print(type(nome))"
      ],
      "metadata": {
        "colab": {
          "base_uri": "https://localhost:8080/"
        },
        "id": "Urv7OuDU8Am7",
        "outputId": "8756bbef-1a41-42ef-ef99-745e4a5afefa"
      },
      "execution_count": null,
      "outputs": [
        {
          "output_type": "stream",
          "name": "stdout",
          "text": [
            "Eudes\n",
            "<class 'str'>\n",
            "**************************************************\n",
            "34\n",
            "<class 'int'>\n",
            "34.54\n",
            "<class 'float'>\n",
            "True\n",
            "<class 'bool'>\n",
            "Eudes\n",
            "<class 'str'>\n"
          ]
        }
      ]
    },
    {
      "cell_type": "code",
      "source": [
        "# OPERADORES MATEMATICOS\n",
        "'''\n",
        "OS OPERADORES MATEMATICOS PERMITEM REALIZAR OPERAÇÕES MATEMATICAS BASICAS\n",
        "OPERADORES MATEMATICOS BASICOS:\n",
        "1 - ADIÇÃO ( + )\n",
        "2 - SUBTRAÇÃO ( - )\n",
        "3 - MULTIPLICAÇÃO ( * )\n",
        "4 - DIVISÃO ( / )\n",
        "  - PARTE INTEIRA DA DIVISÃO ( // )\n",
        "  - RESTO DA DIVISÃO ( % )\n",
        "5 - EXPONENCIAÇÃO ( ** )\n",
        "'''\n",
        "# ADIÇÃO ( + )\n",
        "a = 5\n",
        "b = 2\n",
        "print(a + b)\n",
        "print(\"*\"*50)\n",
        "\n",
        "# SUBTRAÇÃO ( - )\n",
        "a = 5\n",
        "b - 2\n",
        "print(a - b)\n",
        "print(\"*\"*50)\n",
        "\n",
        "# MULTIPLICAÇÃO ( * )\n",
        "a = 5\n",
        "b = 2\n",
        "print(a * b)\n",
        "print(\"*\"*50)\n",
        "\n",
        "# DIVISÃO ( / )\n",
        "a = 5\n",
        "b = 2\n",
        "print(a / b)\n",
        "\n",
        "# PARTE INTEIRA DA DIVISÃO ( // )\n",
        "a = 5\n",
        "b = 2\n",
        "print(a // b)\n",
        "\n",
        "# RESTO DA DIVISÃO ( % )\n",
        "a = 5\n",
        "b = 2\n",
        "print(a % b)\n",
        "print(\"*\"*50)\n",
        "\n",
        "# EXPONENCIAÇÃO ( ** )\n",
        "a = 5\n",
        "b = 2\n",
        "print(a ** b)\n",
        "print(\"*\"*50)\n",
        "\n"
      ],
      "metadata": {
        "colab": {
          "base_uri": "https://localhost:8080/"
        },
        "id": "RAVlsbiIAirU",
        "outputId": "b4337698-cbca-4fb0-e343-947a1c3fd8bb"
      },
      "execution_count": null,
      "outputs": [
        {
          "output_type": "stream",
          "name": "stdout",
          "text": [
            "7\n",
            "**************************************************\n",
            "3\n",
            "**************************************************\n",
            "10\n",
            "**************************************************\n",
            "2.5\n",
            "2\n",
            "1\n",
            "**************************************************\n",
            "25\n",
            "**************************************************\n"
          ]
        }
      ]
    },
    {
      "cell_type": "code",
      "source": [
        "# OPERADORES DE COMPARAÇÃO\n",
        "'''\n",
        "OPERADORES DE COMPARAÇÃO PERMITEM VERIFICAR SE DUAS EXPRESSÕES SÃO IGUAIS\n",
        "DIFERENTES, MAIORES, MENORES ETC. E QUE RETORNA SEMPRE COM RESULTADO LOGICO\n",
        "VERDADEIRO (TRUE) OU FALSO (FALSE).\n",
        "'''"
      ],
      "metadata": {
        "id": "VuAYqEvZDVny"
      },
      "execution_count": null,
      "outputs": []
    },
    {
      "cell_type": "code",
      "source": [
        "# OPERADOR DE IGUALDADE ( == )\n",
        "igualdade = 3 == 4\n",
        "print(igualdade)"
      ],
      "metadata": {
        "colab": {
          "base_uri": "https://localhost:8080/"
        },
        "id": "0hehQFMKEYrx",
        "outputId": "5ef8a65a-2a01-435a-aab7-2e3aa2c56d33"
      },
      "execution_count": null,
      "outputs": [
        {
          "output_type": "stream",
          "name": "stdout",
          "text": [
            "False\n"
          ]
        }
      ]
    },
    {
      "cell_type": "code",
      "source": [
        "# OPERADOR DE DIFERENÇA ( != )\n",
        "diferente = 3 != 4\n",
        "print(diferente)"
      ],
      "metadata": {
        "colab": {
          "base_uri": "https://localhost:8080/"
        },
        "id": "gcNhloThEbrZ",
        "outputId": "283b8a5b-5ed3-49a4-b7ea-13e37824ce63"
      },
      "execution_count": null,
      "outputs": [
        {
          "output_type": "stream",
          "name": "stdout",
          "text": [
            "True\n"
          ]
        }
      ]
    },
    {
      "cell_type": "code",
      "source": [
        "# OPERADOR MAIOR QUE ( > )\n",
        "maior = 3 > 4\n",
        "print(maior)"
      ],
      "metadata": {
        "colab": {
          "base_uri": "https://localhost:8080/"
        },
        "id": "s0ffTc-JEsDZ",
        "outputId": "12e25034-4671-4fc3-96c6-e121add443f4"
      },
      "execution_count": null,
      "outputs": [
        {
          "output_type": "stream",
          "name": "stdout",
          "text": [
            "False\n"
          ]
        }
      ]
    },
    {
      "cell_type": "code",
      "source": [
        "# OPERADOR MENOR QUE ( < )\n",
        "menor = 3 < 4\n",
        "print(menor)"
      ],
      "metadata": {
        "colab": {
          "base_uri": "https://localhost:8080/"
        },
        "id": "bM7sCjj5E5Po",
        "outputId": "338f393c-1ee8-45b1-c8ac-28731c83534f"
      },
      "execution_count": null,
      "outputs": [
        {
          "output_type": "stream",
          "name": "stdout",
          "text": [
            "True\n"
          ]
        }
      ]
    },
    {
      "cell_type": "code",
      "source": [
        "# OPERADOR MAIOR OU IGUAL A ( >= )\n",
        "maior_igual = 3 >= 4\n",
        "print(maior_igual)"
      ],
      "metadata": {
        "colab": {
          "base_uri": "https://localhost:8080/"
        },
        "id": "qlL99K3IFIGN",
        "outputId": "ec800116-282e-4b66-a3b0-4fb6e0767eb7"
      },
      "execution_count": null,
      "outputs": [
        {
          "output_type": "stream",
          "name": "stdout",
          "text": [
            "False\n"
          ]
        }
      ]
    },
    {
      "cell_type": "code",
      "source": [
        "# OPERADOR MENOR OU IGUAL A ( <= )\n",
        "menor_igual = 3 <= 4\n",
        "print(menor_igual)"
      ],
      "metadata": {
        "colab": {
          "base_uri": "https://localhost:8080/"
        },
        "id": "7AVdyzexFUm2",
        "outputId": "0720fb7c-f387-4163-d942-1f1c061c7ce1"
      },
      "execution_count": null,
      "outputs": [
        {
          "output_type": "stream",
          "name": "stdout",
          "text": [
            "True\n"
          ]
        }
      ]
    },
    {
      "cell_type": "code",
      "source": [
        "# OPERADOR DE IDENTIDADE ( IS E IS NOT )\n",
        "'''\n",
        "Em Python, os operadores is e is not são chamados de operadores de identidade1.\n",
        "Eles são usados para determinar se duas variáveis estão na mesma parte da memória1.\n",
        "Portanto, duas variáveis serem iguais e duas variáveis serem idênticas são duas\n",
        "afirmações diferentes\n",
        "'''\n",
        "a = [1, 2, 3]\n",
        "b = a\n",
        "c = [1, 2, 3]\n",
        "\n",
        "print(a is b)  # Retorna True, porque a e b apontam para o mesmo objeto\n",
        "print(a is c)  # Retorna False, porque a e c são listas diferentes na memória\n",
        "\n",
        "'''\n",
        "Neste exemplo, a e b são idênticos (ou seja, apontam para o mesmo objeto na memória),\n",
        "enquanto a e c são apenas iguais em termos de valor, mas não são o mesmo objeto na memória.\n",
        "'''"
      ],
      "metadata": {
        "colab": {
          "base_uri": "https://localhost:8080/",
          "height": 107
        },
        "id": "IMz_kj58FiPD",
        "outputId": "cb8a5697-0eb0-420f-d69b-24b80d97b7d1"
      },
      "execution_count": null,
      "outputs": [
        {
          "output_type": "stream",
          "name": "stdout",
          "text": [
            "True\n",
            "False\n"
          ]
        },
        {
          "output_type": "execute_result",
          "data": {
            "text/plain": [
              "'\\nNeste exemplo, a e b são idênticos (ou seja, apontam para o mesmo objeto na memória), \\nenquanto a e c são apenas iguais em termos de valor, mas não são o mesmo objeto na memória.\\n'"
            ],
            "application/vnd.google.colaboratory.intrinsic+json": {
              "type": "string"
            }
          },
          "metadata": {},
          "execution_count": 16
        }
      ]
    },
    {
      "cell_type": "code",
      "source": [
        "# OPERADOR DE IDENTIDADE ( IS )\n",
        "a = 7\n",
        "b = 7.0\n",
        "print(a is b) # RETORNA FALSO POR QUE AS DUAS VARIVAEIS NAO SAO IDENTICA\n",
        "print(a == b) # RETORNA VERDADEIRO POR ELAS SAO IGUAIS."
      ],
      "metadata": {
        "id": "iYBA0qP5Hb4E"
      },
      "execution_count": null,
      "outputs": []
    },
    {
      "cell_type": "code",
      "source": [
        "# OPERADOR DE IDENTIDADE ( IS NOT )\n",
        "a = 7\n",
        "b = 7.0\n",
        "print(a is not b) # RETORNA VERDADEIRO, POIS A E B NAO SAO IDENTICAS\n",
        "print(a != b) # RETORNA FALSO POR QUE A E B SÃO IGUAIS."
      ],
      "metadata": {
        "id": "W7fvIEADIo8P"
      },
      "execution_count": null,
      "outputs": []
    },
    {
      "cell_type": "code",
      "source": [
        "# OPERADOR DE ASSOCIAÇÃO\n",
        "'''\n",
        "Em Python, os operadores in e not in são chamados de operadores de associação.\n",
        "Eles são usados para verificar se um valor está ou não em uma sequência,\n",
        "como strings, listas ou tuplas.\n",
        "'''\n",
        "lista = [1, 2, 3, 4, 5]\n",
        "valor = 3\n",
        "\n",
        "if valor in lista:\n",
        "    print(\"O valor está na lista\")\n",
        "else:\n",
        "    print(\"O valor não está na lista\")\n",
        "\n",
        "'''\n",
        "Neste exemplo, o operador in é usado para verificar se o valor 3 está na lista.\n",
        "Se estiver, o programa imprimirá “O valor está na lista”.\n",
        "Caso contrário, imprimirá “O valor não está na lista”.\n",
        "'''\n",
        "\n"
      ],
      "metadata": {
        "colab": {
          "base_uri": "https://localhost:8080/",
          "height": 89
        },
        "id": "SlYYmb2TJKgL",
        "outputId": "1e67f276-1741-4482-df75-0ccfccc6ba13"
      },
      "execution_count": null,
      "outputs": [
        {
          "output_type": "stream",
          "name": "stdout",
          "text": [
            "O valor está na lista\n"
          ]
        },
        {
          "output_type": "execute_result",
          "data": {
            "text/plain": [
              "'\\nNeste exemplo, o operador in é usado para verificar se o valor 3 está na lista.\\nSe estiver, o programa imprimirá “O valor está na lista”. \\nCaso contrário, imprimirá “O valor não está na lista”.\\n'"
            ],
            "application/vnd.google.colaboratory.intrinsic+json": {
              "type": "string"
            }
          },
          "metadata": {},
          "execution_count": 17
        }
      ]
    },
    {
      "cell_type": "code",
      "source": [
        "# OPERADOR IN\n",
        "nome = 'Eudes'\n",
        "print('E' in nome)"
      ],
      "metadata": {
        "colab": {
          "base_uri": "https://localhost:8080/"
        },
        "id": "lLZzr8DHKP7x",
        "outputId": "ec47b6a1-ba45-48f6-8f4f-09d774253a32"
      },
      "execution_count": null,
      "outputs": [
        {
          "output_type": "stream",
          "name": "stdout",
          "text": [
            "True\n"
          ]
        }
      ]
    },
    {
      "cell_type": "code",
      "source": [
        "# OPERADOR NOT IN\n",
        "'''\n",
        "Da mesma forma, o operador not in é usado para verificar se um valor não está em\n",
        " uma sequência. Por exemplo:\n",
        "'''\n",
        "lista = [1, 2, 3, 4, 5]\n",
        "valor = 6\n",
        "\n",
        "if valor not in lista:\n",
        "    print(\"O valor não está na lista\")\n",
        "else:\n",
        "    print(\"O valor está na lista\")\n",
        "\n",
        "'''\n",
        "Neste exemplo, como o valor 6 não está na lista, o programa imprimirá\n",
        "“O valor não está na lista”.\n",
        "\n",
        "'''\n"
      ],
      "metadata": {
        "colab": {
          "base_uri": "https://localhost:8080/",
          "height": 71
        },
        "id": "ETfRS_QWKfXG",
        "outputId": "e25c8593-0904-4c11-a691-c90840e0ce3d"
      },
      "execution_count": null,
      "outputs": [
        {
          "output_type": "stream",
          "name": "stdout",
          "text": [
            "O valor não está na lista\n"
          ]
        },
        {
          "output_type": "execute_result",
          "data": {
            "text/plain": [
              "'\\nNeste exemplo, como o valor 6 não está na lista, o programa imprimirá\\n“O valor não está na lista”.\\n\\n'"
            ],
            "application/vnd.google.colaboratory.intrinsic+json": {
              "type": "string"
            }
          },
          "metadata": {},
          "execution_count": 19
        }
      ]
    },
    {
      "cell_type": "code",
      "source": [
        "# OPERADOR NOT IN\n",
        "nome = 'Eudes'\n",
        "print('E' not in nome)"
      ],
      "metadata": {
        "colab": {
          "base_uri": "https://localhost:8080/"
        },
        "id": "9s24QTXOKoX2",
        "outputId": "f4c187bf-2e4c-4306-f4e2-ec671d174de7"
      },
      "execution_count": null,
      "outputs": [
        {
          "output_type": "stream",
          "name": "stdout",
          "text": [
            "False\n"
          ]
        }
      ]
    },
    {
      "cell_type": "code",
      "source": [
        "# OPERADORES LOGICOS (AND, OR, NOT) = (E, OU, NÃO)\n",
        "'''\n",
        "Os operadores lógicos em Python permitem combinar expressões booleanas\n",
        "(True ou False) para formar novas expressões booleanas. São ferramentas\n",
        "essenciais para tomar decisões e realizar comparações complexas em seus\n",
        "programas. São eles:\n",
        "\n",
        "E (and): Retorna True se ambas as expressões forem True.\n",
        "Exemplo: x > 0 and y < 10.\n",
        "\n",
        "Ou (or): Retorna True se pelo menos uma das expressões for True.\n",
        "Exemplo: x == 0 or y == 10.\n",
        "\n",
        "Não (not): Inverte o valor da expressão.\n",
        "Exemplo: not (x > 0).\n",
        "'''"
      ],
      "metadata": {
        "id": "HTFY3fH3LiwW"
      },
      "execution_count": null,
      "outputs": []
    },
    {
      "cell_type": "code",
      "source": [
        "# OPERADOR AND ( E ) RETORNA VERDADEIRO SE TODAS AS CONDIÇÕES FOREM VERDADEIRA\n",
        "a = 3\n",
        "b = 4\n",
        "c = 5\n",
        "\n",
        "print(a < b and b < c) # RETORNA VERDADEIRO PORQUE TODOS SAO VERDADEIRO.\n",
        "print( a < b and b > c) # RETORNA FALSO POR QUE UM ESTA É FALSO (B > C)\n"
      ],
      "metadata": {
        "colab": {
          "base_uri": "https://localhost:8080/"
        },
        "id": "he8qfKQ-cjlh",
        "outputId": "75daf282-3290-4da7-a512-55cebbc39c5e"
      },
      "execution_count": 1,
      "outputs": [
        {
          "output_type": "stream",
          "name": "stdout",
          "text": [
            "True\n",
            "False\n"
          ]
        }
      ]
    },
    {
      "cell_type": "code",
      "source": [
        "# OPERADOR OR ( OU ) RETORNA VERDADEIRO SE PELO MENOS UMA CONDIÇÃO FOR VERDADEIRO\n",
        "a = 3\n",
        "b = 4\n",
        "c = 5\n",
        "\n",
        "print(a < b or b < c) # RETORNA VERDADEIRO\n",
        "print(a < b or b > c) # RETORNA VERDADEIRO\n",
        "print(a > b or a > c) # RETORNA FALSO"
      ],
      "metadata": {
        "colab": {
          "base_uri": "https://localhost:8080/"
        },
        "id": "OVvOUwwmdTO7",
        "outputId": "6cf4a3e2-ca19-4ec6-a7f8-36fa2c0a952c"
      },
      "execution_count": 2,
      "outputs": [
        {
          "output_type": "stream",
          "name": "stdout",
          "text": [
            "True\n",
            "True\n",
            "False\n"
          ]
        }
      ]
    },
    {
      "cell_type": "code",
      "source": [
        "# OPERADOR NOT ( NAO ) INVERTE O RESULTADO DE VERDADEIRO PARA FALSO E FALSO PARA VERDADEIRO\n",
        "a = 3\n",
        "b = 4\n",
        "c = 5\n",
        "\n",
        "print(not(a > b)) # RESULTA EM VERDADEIRO\n",
        "print(not(a < b)) # RESULTA EM FALSO."
      ],
      "metadata": {
        "id": "Dx5_Q6Dwd_df"
      },
      "execution_count": null,
      "outputs": []
    },
    {
      "cell_type": "code",
      "source": [
        "# STRING E F-STRING\n",
        "'''\n",
        "As f-strings em Python são uma maneira concisa e elegante de formatar strings.\n",
        "Elas permitem incorporar expressões Python diretamente dentro de strings,\n",
        "tornando o código mais legível e fácil de manter.\n",
        "\n",
        "Como usar f-strings:\n",
        "\n",
        "Para usar f-strings, basta prefixar uma string literal com a letra \"f\".\n",
        "Dentro da string, você pode usar expressões Python entre chaves \"{}\":\n",
        "'''"
      ],
      "metadata": {
        "id": "5txay08Aeoxs"
      },
      "execution_count": null,
      "outputs": []
    },
    {
      "cell_type": "code",
      "source": [
        "cliente = 'Eudes'\n",
        "idade = 41\n",
        "\n",
        "print(f'O resultado do cliente é {cliente}, e ele tem {idade} anos de Idade.')"
      ],
      "metadata": {
        "colab": {
          "base_uri": "https://localhost:8080/"
        },
        "id": "sGVQF4SUe8Lb",
        "outputId": "4c59e702-4bcd-4168-b747-612eb6b8d29f"
      },
      "execution_count": 3,
      "outputs": [
        {
          "output_type": "stream",
          "name": "stdout",
          "text": [
            "O resultado do cliente é Eudes, e ele tem 41 anos de Idade.\n"
          ]
        }
      ]
    },
    {
      "cell_type": "code",
      "source": [
        "taxa = 2 / 3\n",
        "print(taxa)\n",
        "print(f'O resultado da taxa é aproximadamente {taxa:.2f}')\n",
        "# .2f ABREVIA AS CASAS DECIMAIS EM 2 CASAS"
      ],
      "metadata": {
        "colab": {
          "base_uri": "https://localhost:8080/"
        },
        "id": "tGymcv5CfRhb",
        "outputId": "663e469e-de4c-4a53-c5ed-2c4675b70728"
      },
      "execution_count": 5,
      "outputs": [
        {
          "output_type": "stream",
          "name": "stdout",
          "text": [
            "0.6666666666666666\n",
            "O resultado da taxa é aproximadamente 0.67\n"
          ]
        }
      ]
    },
    {
      "cell_type": "code",
      "source": [
        "# ENTRADAS DEFINIDA PELO USUARIO (FUNÇÃO INPUT)\n",
        "'''\n",
        "A função input() em Python permite que você obtenha entrada do usuário durante a\n",
        "execução do programa. É uma ferramenta essencial para interagir com o usuário e\n",
        "coletar dados para processamento.\n",
        "\n",
        "Como usar a função input():\n",
        "\n",
        "A função input() é simples de usar. Basta fornecer uma mensagem entre parênteses\n",
        "para instruir o usuário sobre o que digitar:\n",
        "'''\n",
        "nome = input('Informe sei primeiro nome: ')\n",
        "print(f'Olá, {nome}!')"
      ],
      "metadata": {
        "colab": {
          "base_uri": "https://localhost:8080/"
        },
        "id": "p14QOg7pfvwV",
        "outputId": "22fb3734-ccfa-4d60-cd6b-865be2139df4"
      },
      "execution_count": 6,
      "outputs": [
        {
          "output_type": "stream",
          "name": "stdout",
          "text": [
            "Informe sei primeiro nome: Eudes\n",
            "Olá, Eudes!\n"
          ]
        }
      ]
    },
    {
      "cell_type": "code",
      "source": [
        "nome = input('Informe seu primeiro nome: ')\n",
        "massa = float(input('Informe seu peso em Kg: '))\n",
        "altura = float(input('Informe sua altura em metros na forma decimal: '))\n",
        "imc = massa / altura ** 2\n",
        "\n",
        "print(f'Ola!, {nome} seu IMC é {imc:.2f}')"
      ],
      "metadata": {
        "colab": {
          "base_uri": "https://localhost:8080/"
        },
        "id": "2xNjSnh6gWB7",
        "outputId": "71ca518a-63ca-4aea-ffa9-bbdae7b5ccbe"
      },
      "execution_count": 2,
      "outputs": [
        {
          "output_type": "stream",
          "name": "stdout",
          "text": [
            "Informe seu primeiro nome: Eudes\n",
            "Informe seu peso em Kg: 96\n",
            "Informe sua altura em metros na forma decimal: 1.70\n",
            "Ola!, Eudes seu IMC é 33.22\n"
          ]
        }
      ]
    },
    {
      "cell_type": "code",
      "source": [
        "# POSIÇÕES DE CARACTERES NAS STRINGS\n",
        "'''\n",
        "Este bloco traz possível soluções para quando queremos saber qual caracter temos\n",
        "em uma posição (índice) ou sequência de caracteres em um intervalo\n",
        "'''\n",
        "# 0    1   2   3   4   5  6  7  8  9 10 11 12 13 (índice)\n",
        "# -14 -13 -12 -11 -10 -9 -8 -7 -6 -5 -4 -3 -2 -1 (índice reverso)\n",
        "# 1º 2º 3º 4º 5º 6º 7º 8º 9º 10º 11º 12º 13º 14º (ordinal)\n",
        "# d  o  u  g  @  g  m  a  i   l   .   c   o   m\n",
        "email = 'doug@gmail.com'\n",
        "print(email[4])\n",
        "print(email[:]) # imprimir um intervalo de todos os caracteres da string email\n",
        "print(email[0:4]) # selecionando o intervalo a partir do índice 0 até o índice 3\n",
        "print(email[2:]) # seleciona o intervalo a partir do índice 2 até o final\n",
        "print(email[:5]) # seleciona o intervalo de todos os caracteres até o de índice 4\n",
        "print(email[0:5:2]) # seleciona último caracter de uma sequência\n",
        "'''\n",
        "resumo do fatiamento de strings\n",
        "nome_variavel[indice de começo : índice de parada : de quanto em quanto]\n",
        "nome_variavel[início : fim : passo]\n",
        "'''"
      ],
      "metadata": {
        "id": "-fwfPF1PiCf9"
      },
      "execution_count": null,
      "outputs": []
    },
    {
      "cell_type": "code",
      "source": [
        "# CONTAR A QUANTIDADE DE CARACTERES EM UMA SEQUENCIA.\n",
        "email = 'eudsjs@gmail.com'\n",
        "\n",
        "print(len(email))\n",
        "qtde = len(email)\n",
        "print(qtde)"
      ],
      "metadata": {
        "colab": {
          "base_uri": "https://localhost:8080/"
        },
        "id": "yWVohjWpiM2i",
        "outputId": "10d1a895-cb9e-40b5-8558-9fb432dd4250"
      },
      "execution_count": 5,
      "outputs": [
        {
          "output_type": "stream",
          "name": "stdout",
          "text": [
            "16\n",
            "16\n"
          ]
        }
      ]
    },
    {
      "cell_type": "code",
      "source": [
        "cpf = 12345678901\n",
        "print(type(cpf)) # VERIFICA O TIPO DA VARIAVEL ( INT )\n",
        "cpf = str(cpf) # TRANSFORMA O TIPO ( INT ) EM STR\n",
        "print(type(cpf))\n",
        "cpf = len(cpf) # LÊ QUANTOS CARACTERES EXISTE NA VARIAVEL CPF\n",
        "print(cpf)"
      ],
      "metadata": {
        "colab": {
          "base_uri": "https://localhost:8080/"
        },
        "id": "1g4LAZZtisow",
        "outputId": "da4be971-5d62-4c37-874c-4cf4697ecd66"
      },
      "execution_count": 9,
      "outputs": [
        {
          "output_type": "stream",
          "name": "stdout",
          "text": [
            "<class 'int'>\n",
            "<class 'str'>\n",
            "11\n"
          ]
        }
      ]
    },
    {
      "cell_type": "code",
      "source": [
        "# OPERADOR IN\n",
        "email = 'eudsjs@gmail.com'\n",
        "\n",
        "print('u' in email) # ( IN ) VERIFICA SE O CARACTERE ( U ) ESTA NA VARIAVEL EMAIL\n"
      ],
      "metadata": {
        "colab": {
          "base_uri": "https://localhost:8080/"
        },
        "id": "rIkypE23kITz",
        "outputId": "fbff3329-cd09-4e73-e3c7-1ff9b4d8984d"
      },
      "execution_count": 10,
      "outputs": [
        {
          "output_type": "stream",
          "name": "stdout",
          "text": [
            "True\n"
          ]
        }
      ]
    },
    {
      "cell_type": "code",
      "source": [
        "# OPERADOR NOT IN\n",
        "email = 'eudsjs@gmail.com'\n",
        "\n",
        "print('u' not in email) # ( NOT IN ) VERIFICA SE O CARACTERE NAO ESTA NA VARIVEL EMAIL.\n"
      ],
      "metadata": {
        "id": "2CyJG67ukhtP"
      },
      "execution_count": null,
      "outputs": []
    },
    {
      "cell_type": "code",
      "source": [
        "# METODO CAPITALIZE CONVERTE EM MAIUSCULA APENAS A PRIMEIRA LETRA DE UMA STRING.\n",
        "'''\n",
        "Em Python, o método capitalize() é um método de string que converte o primeiro\n",
        "caractere de uma string em uma letra maiúscula e todos os outros caracteres em\n",
        "letras minúsculas. Aqui está um exemplo de como você pode usar o método\n",
        "capitalize():\n",
        "'''\n",
        "frase = \"eu amo PYTHON\"\n",
        "# converte o primeiro caractere para maiúscula e outros para minúscula\n",
        "frase_capitalizada = frase.capitalize()\n",
        "print(frase_capitalizada)  # Saída: Eu amo python\n",
        "\n",
        "nome = 'eudes'\n",
        "print(nome)\n",
        "nome = nome.capitalize() # TRANSFORMA A PRIMEIRA LETRA DO UMA STRING\n",
        "print(nome)\n",
        "\n",
        "'''\n",
        "Neste exemplo, a string original “eu amo PYTHON” é convertida para\n",
        "“Eu amo python” usando o método capitalize(). Por favor, note que\n",
        "o método capitalize() retorna uma nova string e não modifica a\n",
        "string original. Portanto, no exemplo acima, a string original\n",
        "frase permanece inalterada após a chamada ao método capitalize()\n",
        "'''"
      ],
      "metadata": {
        "colab": {
          "base_uri": "https://localhost:8080/"
        },
        "id": "czeFex-3k8pR",
        "outputId": "bb611550-57b3-40bd-f97e-4d546ad9595d"
      },
      "execution_count": 15,
      "outputs": [
        {
          "output_type": "stream",
          "name": "stdout",
          "text": [
            "Eu amo python\n",
            "eudes\n",
            "Eudes\n"
          ]
        }
      ]
    },
    {
      "cell_type": "code",
      "source": [
        "# METODO TITLE, SERVE PARA DEIXAR A PRIMEIRA LETRA DE CADA PALAVRA\n",
        "# MAIUSCULA.\n",
        "nome = ('eudes josé da silva')\n",
        "print(nome)\n",
        "nome = nome.capitalize()\n",
        "print(nome)\n",
        "nome = nome.title()\n",
        "print(nome)"
      ],
      "metadata": {
        "colab": {
          "base_uri": "https://localhost:8080/"
        },
        "id": "L1n4Zugbm2n7",
        "outputId": "b873eff9-938c-4128-a99c-0b9c69a343f5"
      },
      "execution_count": 16,
      "outputs": [
        {
          "output_type": "stream",
          "name": "stdout",
          "text": [
            "eudes josé da silva\n",
            "Eudes josé da silva\n",
            "Eudes José Da Silva\n"
          ]
        }
      ]
    },
    {
      "cell_type": "code",
      "source": [
        "# METODO UPER DEIXA TODAS AS LETRAS MAIUSCULA\n",
        "'''\n",
        "Em Python, o método upper() é um método de string que converte\n",
        "todos os caracteres de uma string em letras maiúsculas.\n",
        "Aqui está um exemplo de como você pode usar o método upper():\n",
        "'''\n",
        "\n",
        "frase = \"eu amo python\"\n",
        "# converte todos os caracteres para maiúsculas\n",
        "frase_maiuscula = frase.upper()\n",
        "print(frase_maiuscula)  # Saída: EU AMO PYTHON\n",
        "\n",
        "'''\n",
        "Neste exemplo, a string original “eu amo python” é convertida para\n",
        "“EU AMO PYTHON” usando o método upper().\n",
        "Por favor, note que o método upper() retorna uma nova string e não\n",
        "modifica a string original. Portanto, no exemplo acima, a string\n",
        "original frase permanece inalterada após a chamada ao método upper().\n"
      ],
      "metadata": {
        "id": "gG4tIJi5n2pS"
      },
      "execution_count": null,
      "outputs": []
    },
    {
      "cell_type": "code",
      "source": [
        "# METODO UPPER DEIXA TODAS AS LETRAS MAIUSCULA\n",
        "nome = 'Eudes jose da silva'\n",
        "print(nome)\n",
        "nome = nome.upper()\n",
        "print(nome)"
      ],
      "metadata": {
        "colab": {
          "base_uri": "https://localhost:8080/"
        },
        "id": "GV1ZKo7ho1ZO",
        "outputId": "071ea89e-c962-42d1-d5d3-c7674408fe62"
      },
      "execution_count": 18,
      "outputs": [
        {
          "output_type": "stream",
          "name": "stdout",
          "text": [
            "Eudes jose da silva\n",
            "EUDES JOSE DA SILVA\n"
          ]
        }
      ]
    },
    {
      "cell_type": "code",
      "source": [
        "# METODO .COUNT CONTA QUANTAS VEZES DETERMINADO CARACTER APARECE\n",
        "# EM UMA STRING.\n",
        "email = 'eudsjs@gmail.com'\n",
        "email.count('@')"
      ],
      "metadata": {
        "colab": {
          "base_uri": "https://localhost:8080/"
        },
        "id": "6D4JwFKxpVII",
        "outputId": "fc06c5be-811e-4b40-986b-1eb043435d08"
      },
      "execution_count": 19,
      "outputs": [
        {
          "output_type": "execute_result",
          "data": {
            "text/plain": [
              "1"
            ]
          },
          "metadata": {},
          "execution_count": 19
        }
      ]
    },
    {
      "cell_type": "code",
      "source": [
        "# METODO .FIND MOSTRA A POSIÇÃO DE UM DETERMINADO CARACTERE\n",
        "# CASO APARECA MAIS DE UMA VEZ, ELE POR PADRAO MOSTRARA A 1ª.\n",
        "email = 'eudsjs@gmail.com'\n",
        "email.find('m')"
      ],
      "metadata": {
        "colab": {
          "base_uri": "https://localhost:8080/"
        },
        "id": "gzj5Y-xHp4Pf",
        "outputId": "22ed3261-d754-49ef-f52c-870cb2e66844"
      },
      "execution_count": 20,
      "outputs": [
        {
          "output_type": "execute_result",
          "data": {
            "text/plain": [
              "8"
            ]
          },
          "metadata": {},
          "execution_count": 20
        }
      ]
    },
    {
      "cell_type": "code",
      "source": [
        "# METODO STARSWITH VERIFICA SE UMA STRING COMEÇA COM UM\n",
        "# DETERMINADO CARACTER OU SEQUENCIA DE CARACTERES."
      ],
      "metadata": {
        "id": "uRfL9padrAiX"
      },
      "execution_count": null,
      "outputs": []
    }
  ]
}